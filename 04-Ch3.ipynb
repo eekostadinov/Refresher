{
 "cells": [
  {
   "cell_type": "markdown",
   "id": "d71da62f",
   "metadata": {},
   "source": [
    "# Representing income inequality\n",
    "\n",
    "This Jupyter notebook allows you to replicate all the codes from the corresponding chapter of the e-book in a virtual R installation on the cloud without having to install R on your computer. \n",
    "\n",
    "The codes and text are largely identical to those in the book, with small differences only due to the fact that some pieces of code (e.g., setting paths) are not needed in the virtual environment, but only if you replicate the document locally. Additionally, some of the text is slightly different due to differences of functionality of Jupyter Notebooks. One implication is that the full references to sources and data are more clearly articulated in the book than in this notebook - so please refer to the book for full references.\n",
    "\n",
    "To continue, when asked, set the \"kernel\" of the notebook to R (rather than Python). Then go through the notebook and evaluate the cells in the order that they appear. To evaluate a cell, select the cell and hit Ctrl + Enter (on Windows and Linux) or Cmd + Enter (on Mac). A good way to learn is to make changes to the code and observe how this affects the output.# Representing income inequality {#ch3}"
   ]
  },
  {
   "cell_type": "markdown",
   "id": "98bec5f7",
   "metadata": {
    "lines_to_next_cell": 0
   },
   "source": [
    "This chapter turns attention to representing the extent of income inequality using data.\n",
    "\n",
    "For ease of replication, the data used in the chapter is available as an Excel file `data_ch3.xlsx` with different datasets saved as different tabs. The file is within the working directory of the virtual R installation so no need to set paths here."
   ]
  },
  {
   "cell_type": "markdown",
   "id": "27e950be",
   "metadata": {
    "lines_to_next_cell": 0
   },
   "source": [
    "The necessary packages have been installed, but need to be loaded"
   ]
  },
  {
   "cell_type": "code",
   "execution_count": null,
   "id": "b69e34c8",
   "metadata": {},
   "outputs": [],
   "source": [
    "library(readxl)\n",
    "library(ggplot2)\n",
    "library(scales)\n",
    "library(dplyr)\n",
    "library(forcats)\n",
    "library(pracma)"
   ]
  },
  {
   "cell_type": "markdown",
   "id": "7dcb5277",
   "metadata": {
    "lines_to_next_cell": 0
   },
   "source": [
    "## Distribution of income in the FRS 2016/17\n",
    "\n",
    "The corresponding section of the e-book uses data which is not open-access so this section will not be available for replication. Please refer to the e-book."
   ]
  },
  {
   "cell_type": "markdown",
   "id": "8c4a3337",
   "metadata": {
    "lines_to_next_cell": 0
   },
   "source": [
    "## Cross-country differences in income inequality\n",
    "\n",
    "The [World Inequality Database](https://wid.world/) provides open access to the most extensive available database on the historical evolution of the world distribution of income and wealth, both within countries and between countries. \n",
    "\n",
    "This section uses cross sectional data of countries on a set of measures of income inequality in 2017. The data comes from @wid, and is available [here](https://wid.world/data/). For ease of replication, the data has been saved in the sheet `WID17` of the `data_ch3.xlsx` Excel file.\n",
    "\n",
    "Load the data and print first few rows"
   ]
  },
  {
   "cell_type": "code",
   "execution_count": null,
   "id": "20c8dbc1",
   "metadata": {
    "lines_to_next_cell": 0
   },
   "outputs": [],
   "source": [
    "wid2017 <- read_xlsx(\"data_ch3.xlsx\", sheet = \"WID2017\")\n",
    "wid2017$Country <- as.factor(wid2017$Country)\n",
    "head(wid2017)"
   ]
  },
  {
   "cell_type": "markdown",
   "id": "7b9abc87",
   "metadata": {
    "lines_to_next_cell": 0
   },
   "source": [
    "The dataset contains observations for 48 countries in 2017, on 6 aggregate measures of inequality in pre-tax income. \n",
    "- `gini` is the Gini coefficient\n",
    "- `s10`, `s1`, and `s0.1` are the income shares of the top 10%, 1%, and 0.1% \n",
    "- `p90p50` and `p50p10` are the P90P50 and P50P10 percentile ratios.\n",
    "\n",
    "To get a sense of the data, report a set of summary statistics"
   ]
  },
  {
   "cell_type": "code",
   "execution_count": null,
   "id": "21fc38f0",
   "metadata": {
    "lines_to_next_cell": 0
   },
   "outputs": [],
   "source": [
    "summary(wid2017)"
   ]
  },
  {
   "cell_type": "markdown",
   "id": "182d5420",
   "metadata": {
    "lines_to_next_cell": 0
   },
   "source": [
    "It is immediately observed, that there are large differences in the values of all income-inequality metrics across countries. For example, the income share of the top 0.1 % of individuals varies from 1.6% to 12.67% across countries.\n",
    "\n",
    "Given the relatively small number of observations, a convenient way to represent cross country differences is through ordered bar charts. Arranging countries in increasing order of Gini coefficients, and representing the value of each country's Gini coefficient by the height of the corresponding bar yields"
   ]
  },
  {
   "cell_type": "code",
   "execution_count": null,
   "id": "1cb65643",
   "metadata": {},
   "outputs": [],
   "source": [
    "ggplot(wid2017) + \n",
    "  geom_bar(aes(x=fct_reorder(Country, gini), y=gini), stat=\"identity\", fill=\"red\", col=\"black\") +\n",
    "  theme(axis.text.y= element_text(size=6)) + \n",
    "  xlab(\"\") + ylab(\"Gini coefficient\") +\n",
    "  labs(title = \"Gini coefficients across countries\", \n",
    "       subtitle = \"Pre-tax income from all sources\") +\n",
    "  coord_flip()"
   ]
  },
  {
   "cell_type": "markdown",
   "id": "f1f851b5",
   "metadata": {},
   "source": [
    "We observe large cross-country differences in terms of Gini coefficients. Within the sample, in terms of Gini coefficients, Slovakia has the most equal income distribution (0.378) and Mexico has the most unequal income distribution (0.744). \n",
    "\n",
    "Producing similar graphs for the other metrics "
   ]
  },
  {
   "cell_type": "code",
   "execution_count": null,
   "id": "969d2a07",
   "metadata": {},
   "outputs": [],
   "source": [
    "ggplot(wid2017) + \n",
    "  geom_bar(aes(x=fct_reorder(Country, s10), y=s10), stat=\"identity\", fill=\"red\", col=\"black\") +\n",
    "  theme(axis.text.y= element_text(size=6)) + \n",
    "  xlab(\"\") + ylab(\"Top 10 % income share\") +\n",
    "  labs(title = \"Top 10% income shares across countries\", \n",
    "       subtitle = \"Pre-tax income from all sources\") +\n",
    "  coord_flip()"
   ]
  },
  {
   "cell_type": "code",
   "execution_count": null,
   "id": "c322fe5a",
   "metadata": {},
   "outputs": [],
   "source": [
    "ggplot(wid2017) + \n",
    "  geom_bar(aes(x=fct_reorder(Country, s1), y=s1), stat=\"identity\", fill=\"red\", col=\"black\") +\n",
    "  theme(axis.text.y= element_text(size=6)) + \n",
    "  xlab(\"\") + ylab(\"Top 1% income share\") +\n",
    "  labs(title = \"Top 1% income shares across countries\", \n",
    "       subtitle = \"Pre-tax income from all sources\") +\n",
    "  coord_flip()"
   ]
  },
  {
   "cell_type": "code",
   "execution_count": null,
   "id": "535b24cf",
   "metadata": {},
   "outputs": [],
   "source": [
    "ggplot(wid2017) + \n",
    "  geom_bar(aes(x=fct_reorder(Country, p90p50), y=p90p50), stat=\"identity\", fill=\"red\", col=\"black\") +\n",
    "  theme(axis.text.y= element_text(size=6)) + \n",
    "  xlab(\"\") + ylab(\"P90P50 ratio\") +\n",
    "  labs(title = \"P90P50 ratio across countries\", \n",
    "       subtitle = \"Pre-tax income from all sources\") +\n",
    "  coord_flip()"
   ]
  },
  {
   "cell_type": "code",
   "execution_count": null,
   "id": "d8016660",
   "metadata": {},
   "outputs": [],
   "source": [
    "ggplot(subset(wid2017, !is.na(p50p10))) + \n",
    "  geom_bar(aes(x=fct_reorder(Country, p50p10), y=p50p10), stat=\"identity\", fill=\"red\", col=\"black\") +\n",
    "  theme(axis.text.y= element_text(size=6)) + \n",
    "  xlab(\"\") + ylab(\"P50P10 ratio\") +\n",
    "  labs(title = \"P50P10 ratio across countries\", \n",
    "       subtitle = \"Pre-tax income from all sources\") +\n",
    "  coord_flip()"
   ]
  },
  {
   "cell_type": "markdown",
   "id": "b0351f8b",
   "metadata": {},
   "source": [
    "we observe that there are significant differences in terms of all different measures. Of course, different measures capture different aspects of inequality (e.g., Gini coefficients and top income shares in particular are measures of concentration, while the percentile ratios measure specific aspects of dispersion). \n",
    "\n",
    "Nonetheless, inspecting the graphs, it seems countries with high inequality in one measure, tend to also exhibit high inequality in terms of the other measures. To inspect this relationship more clearly we next present scatterplots showing the association netween Gini coefficients and other metrics.\n",
    "\n",
    "In terms of Gini coefficient and top income shares"
   ]
  },
  {
   "cell_type": "code",
   "execution_count": null,
   "id": "2d2696bd",
   "metadata": {},
   "outputs": [],
   "source": [
    "ggplot(wid2017, aes(x=gini)) + \n",
    "  geom_point(aes(y=s10, col=\"Top 10%\")) +\n",
    "  geom_point(aes(y=s1, col=\"Top 1%\")) +\n",
    "  geom_point(aes(y=s0.1, col=\"Top 0.1%\")) +\n",
    "  xlab(\"Gini coefficient\") +\n",
    "  ylab(\"Measure\") +\n",
    "  labs(title = \"Scatterplot\", subtitle = \"Association between Gini coefficient and top income shares,  countries\", col = \"Income share\")"
   ]
  },
  {
   "cell_type": "markdown",
   "id": "2f7c8692",
   "metadata": {
    "lines_to_next_cell": 0
   },
   "source": [
    "unsurprisingly, we observe very strong positive association - countries with high Gini coefficients tend to also have high top income shares. Of course, this is not surprising as both Gini coefficients and top income shares are fundamentally measures of concentration, capturing similar aspects of income distributions within countries. \n",
    "\n",
    "Perhaps more surprisingly, we observe also very strong association between Gini coefficients and percentile ratios:"
   ]
  },
  {
   "cell_type": "code",
   "execution_count": null,
   "id": "741801a3",
   "metadata": {},
   "outputs": [],
   "source": [
    "ggplot(wid2017, aes(x=gini)) +\n",
    "  geom_point(aes(y=p50p10, col=\"P50P10\")) +\n",
    "  geom_point(aes(y=p90p50, col=\"P90P50\")) +\n",
    "  xlab(\"Gini coefficient\") +\n",
    "  ylab(\"Measure\") +\n",
    "  labs(title = \"Scatterplot\", subtitle = \"Association between Gini coefficient and percentile ratios, countries\", col = \"Measure\")"
   ]
  },
  {
   "cell_type": "markdown",
   "id": "bcc6dd6f",
   "metadata": {
    "lines_to_next_cell": 0
   },
   "source": [
    "In general, the data shows that there are large and systematic differences in income inequality across countries. \n",
    "\n",
    "## Income inequality over time\n",
    "\n",
    "This section uses a panel dataset for several large developped economies, tracking measures of income inequality from the begining of the 20th century, until 2022. As in the previous section, the data comes from @wid and is available [here](https://wid.world/data/) The . For ease of replication, the data has been saved in the sheet `WIDpanel` of the `data_ch3.xlsx` Excel file.\n",
    "\n",
    "Load the data and print first few rows"
   ]
  },
  {
   "cell_type": "code",
   "execution_count": null,
   "id": "f5c65680",
   "metadata": {},
   "outputs": [],
   "source": [
    "panel <- read_xlsx(\"data_ch3.xlsx\", sheet = \"WIDpanel\")\n",
    "panel$Country <- as.factor(panel$Country)\n",
    "head(panel)"
   ]
  },
  {
   "cell_type": "markdown",
   "id": "25fe1038",
   "metadata": {
    "lines_to_next_cell": 0
   },
   "source": [
    "We have a panel data in long form, with records of the Gini coefficient and Top 10%, Top 1% and Top 0.1 % income shares, for each country in each year, from 1912 until 2021.\n",
    "\n",
    "The set of countries included"
   ]
  },
  {
   "cell_type": "code",
   "execution_count": null,
   "id": "b17e5bfe",
   "metadata": {
    "lines_to_next_cell": 0
   },
   "outputs": [],
   "source": [
    "levels(panel$Country)"
   ]
  },
  {
   "cell_type": "markdown",
   "id": "51170ba2",
   "metadata": {
    "lines_to_next_cell": 0
   },
   "source": [
    "are large developed economies.\n",
    "\n",
    "Plotting time series plots of Gini coefficient across time, for each country yields"
   ]
  },
  {
   "cell_type": "code",
   "execution_count": null,
   "id": "71e081f8",
   "metadata": {},
   "outputs": [],
   "source": [
    "ggplot(panel, aes(x=Year, y=gini, col=Country)) + \n",
    "  geom_line() + \n",
    "  geom_point() +\n",
    "  scale_color_brewer(palette = \"Dark2\") +\n",
    "  xlab(\"\") + ylab(\"Gini coefficient\") +\n",
    "  labs(title = \"Time series line plot\", subtitle = \"Gini coefficient over time\")"
   ]
  },
  {
   "cell_type": "markdown",
   "id": "0b7b1eee",
   "metadata": {},
   "source": [
    "We can see that data on Gini coefficient for Australia, Canada, France and US are available since 1912, but for the rest data only becomes available late in the second half of the 20th century.\n",
    "\n",
    "While there are some differences across countries, the overall pattern can be summarized as follows:\n",
    "- income inequality (measured by Gini coefficient) was relatively high in the beginning of the 20th century and remained elevated until the 1930s-1940s, when it decreased substantially.\n",
    "- inequality remained relatively low for the next several decades, starting to pick up again at various points in the 1970s.\n",
    "- since then inequality has been overall increasing.\n",
    "\n",
    "This pattern is well known and documented. While various explanations for it have been proposed, a discussion is beyond the scope of this document.\n",
    "\n",
    "However, something that we can check in our data is whether the evolution of inequality in terms of Gini coefficients is similar to the evolution in terms of other measures. Unsurprisingly, it turns out that top income shares have followed a similar pattern:"
   ]
  },
  {
   "cell_type": "code",
   "execution_count": null,
   "id": "63aea7af",
   "metadata": {},
   "outputs": [],
   "source": [
    "ggplot(panel, aes(x=Year, y=s10, col=Country)) + \n",
    "  geom_line() + \n",
    "  geom_point() +\n",
    "  scale_color_brewer(palette = \"Dark2\") +\n",
    "  xlab(\"\") + ylab(\"Top 10% income share\") +\n",
    "  labs(title = \"Time series line plot\", subtitle = \"Top 10% income share over time\")"
   ]
  },
  {
   "cell_type": "code",
   "execution_count": null,
   "id": "376662d9",
   "metadata": {},
   "outputs": [],
   "source": [
    "ggplot(panel, aes(x=Year, y=s1, col=Country)) + \n",
    "  geom_line() + \n",
    "  geom_point() +\n",
    "  scale_color_brewer(palette = \"Dark2\") +\n",
    "  xlab(\"\") + ylab(\"Top 1% income share\") +\n",
    "  labs(title = \"Time series line plot\", subtitle = \"Top 1% income share over time\")"
   ]
  },
  {
   "cell_type": "markdown",
   "id": "fe33eef4",
   "metadata": {},
   "source": [
    "In summary, we observe a common pattern across a set of large developped economies, where income inequality has followed a U-shaped pattern over time for the last 100 years or so. At present, measures of inequality are elevated relative to the norm of the middle of the 20th century."
   ]
  }
 ],
 "metadata": {
  "jupytext": {
   "cell_metadata_filter": "name,eval,tags,-all",
   "main_language": "R",
   "notebook_metadata_filter": "-all"
  },
  "kernelspec": {
   "display_name": "R",
   "language": "R",
   "name": "ir"
  },
  "language_info": {
   "codemirror_mode": "r",
   "file_extension": ".r",
   "mimetype": "text/x-r-source",
   "name": "R",
   "pygments_lexer": "r",
   "version": "4.2.3"
  }
 },
 "nbformat": 4,
 "nbformat_minor": 5
}
