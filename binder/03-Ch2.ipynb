{
 "cells": [
  {
   "cell_type": "markdown",
   "id": "b2274768",
   "metadata": {},
   "source": [
    "# Representing climate change"
   ]
  },
  {
   "cell_type": "markdown",
   "id": "2b5dfee2",
   "metadata": {
    "lines_to_next_cell": 0
   },
   "source": [
    "This chapter uses data from various public sources to represent key trends related to climate, in global and UK context.\n",
    "\n",
    "For ease of replication, all the data used in the chapter is available as an Excel file `data_ch2.xlsx` with different datasets saved as different tabs. The file has already been placed within the working directory of the virtual R installation, so there is no need to set paths."
   ]
  },
  {
   "cell_type": "markdown",
   "id": "b397d559",
   "metadata": {
    "lines_to_next_cell": 0
   },
   "source": [
    "In addition, relevant packages have been preinstalled but should be loaded"
   ]
  },
  {
   "cell_type": "code",
   "execution_count": null,
   "id": "009817a5",
   "metadata": {},
   "outputs": [],
   "source": [
    "library(readxl)\n",
    "library(dplyr)\n",
    "library(ggplot2)\n",
    "library(forcats)"
   ]
  },
  {
   "cell_type": "markdown",
   "id": "ac44ac26",
   "metadata": {
    "lines_to_next_cell": 0
   },
   "source": [
    "## Global trends\n",
    "\n",
    "### Monthly global surface temperature\n",
    "\n",
    "This section uses monthly data on global surface (land and ocean) temperature from @world-temp available [here](https://berkeleyearth.org/data/). For ease of replication, the data has been saved in the sheet `gst` of the `data_ch2.xlsx` Excel file."
   ]
  },
  {
   "cell_type": "code",
   "execution_count": null,
   "id": "ecc4cdfe",
   "metadata": {},
   "outputs": [],
   "source": [
    "gst <- read_xlsx(\"data_ch2.xlsx\", sheet=\"gst\")\n",
    "head(gst)"
   ]
  },
  {
   "cell_type": "markdown",
   "id": "a4051208",
   "metadata": {
    "lines_to_next_cell": 0
   },
   "source": [
    "The data contains 2079 monthly observations (from January 1850 to March 2023) of average monthly global surface temperatures, reported in terms of *temperature anomalies* (i.e., differences) relative to average temperatures in the corresponding month from January 1951 to December 1980. \n",
    "\n",
    "For the purpose of producing time-series plots, combine the `Year` and `Month` variables into a single variable `Date` "
   ]
  },
  {
   "cell_type": "code",
   "execution_count": null,
   "id": "f2af96aa",
   "metadata": {},
   "outputs": [],
   "source": [
    "gst$Date<-as.Date(with(gst,paste(Year,Month,\"01\",sep=\"-\")),\"%Y-%m-%d\")"
   ]
  },
  {
   "cell_type": "markdown",
   "id": "9c9dfa0a",
   "metadata": {
    "lines_to_next_cell": 0
   },
   "source": [
    "Then plotting monthly temperature anomalies against time yields the following"
   ]
  },
  {
   "cell_type": "code",
   "execution_count": null,
   "id": "7bcf90bf",
   "metadata": {},
   "outputs": [],
   "source": [
    "ggplot(gst, aes(x=Date, y=TemperatureAnomaly)) +\n",
    "  geom_line(col=\"blue\") +\n",
    "  geom_hline(yintercept=0, lty=\"dashed\", col=\"black\", linewidth=1) +\n",
    "  geom_segment(y=0,yend=0, x=as.Date(\"1951-01-01\"), xend=as.Date(\"1980-12-01\"), col=\"red\", linewidth=1) +\n",
    "  labs(title=\"Time series line plot\", subtitle = \"Average global monthly temperature anomalies\") +\n",
    "  xlab(\"Time\") + ylab(\"Degrees relative to 1951-1980 average\")"
   ]
  },
  {
   "cell_type": "markdown",
   "id": "1c8fc266",
   "metadata": {},
   "source": [
    "From the 1850s until around the 1910s average global temperatures were approximately stable, at levels around 0.3 degrees below the 1951-1980 average. There was a pronounced upward trend from the 1910s until the 1940s. Temperatures remained relatively stable until the 1970s. Afterwards, they have been rising steadily and as of 2023 are around 1 degree above the 1951-1980 average. Throughout the whole period average global temperatures have risen by more than 1.3 degrees Celsius. \n",
    "\n",
    "While the overall trend is clearly visible, temperature anomalies exhibit large fluctuations at monthly frequency. One way to represent the trend more clearly is to convert the monthly data to 10-year averages.    "
   ]
  },
  {
   "cell_type": "code",
   "execution_count": null,
   "id": "efdb805d",
   "metadata": {},
   "outputs": [],
   "source": [
    "# Create new data frame based on the original one, and create a variable for the decade\n",
    "gst.decade <- gst %>% mutate(Decade = floor(Year/10)*10)\n",
    "\n",
    "# Create a new variable which equals the mean monthly anomaly for all months in each decade\n",
    "gst.decade <- gst.decade %>% group_by(Decade) %>% mutate(aveTempAnomaly = mean(TemperatureAnomaly))\n",
    "\n",
    "# Keep only one observation per decade\n",
    "gst.decade <- gst.decade %>% group_by(Decade) %>% filter(row_number() == 1)\n",
    "\n",
    "# Remove observations for the 2020-2029 decade, as sample is smaller\n",
    "gst.decade <- subset(gst.decade, Decade<2020)\n",
    "\n",
    "# Report a table of average temperatures by decade \n",
    "tab <- cbind(gst.decade$Decade, gst.decade$aveTempAnomaly)\n",
    "\n",
    "tab <- gst.decade %>% select(c(\"Decade\", \"aveTempAnomaly\")) \n",
    "tab"
   ]
  },
  {
   "cell_type": "markdown",
   "id": "e9a726d9",
   "metadata": {
    "lines_to_next_cell": 0
   },
   "source": [
    "The table of 10-year averages confirms the above discussion. \n",
    "\n",
    "The information from the table can be equivalently presented as a time-series line plot"
   ]
  },
  {
   "cell_type": "code",
   "execution_count": null,
   "id": "62805924",
   "metadata": {},
   "outputs": [],
   "source": [
    "ggplot(gst.decade, aes(x=Decade, y=aveTempAnomaly)) +\n",
    "  geom_point(col=\"blue\") +\n",
    "  geom_line(col=\"blue\")+\n",
    "  geom_hline(yintercept=0, lty=\"dashed\", col=\"black\", linewidth=1) +\n",
    "  geom_segment(y=0,yend=0, x=1950, xend=1980, col=\"red\", linewidth=1) +\n",
    "  labs(title=\"Time series line plot\", subtitle = \"Decade averages of average global monthly temperature anomalies\") +\n",
    "  xlab(\"Time\") + ylab(\"Degrees relative to 1951-1980 average\")"
   ]
  },
  {
   "cell_type": "markdown",
   "id": "4a698eee",
   "metadata": {
    "lines_to_next_cell": 0
   },
   "source": [
    "or a bar chart"
   ]
  },
  {
   "cell_type": "code",
   "execution_count": null,
   "id": "e0bd88a8",
   "metadata": {},
   "outputs": [],
   "source": [
    "ggplot(gst.decade, aes(x=as.factor(Decade), y=aveTempAnomaly)) +\n",
    "  geom_bar(stat=\"identity\", fill=\"blue\")+\n",
    "  geom_hline(yintercept=0, lty=\"dashed\", col=\"black\", linewidth=1) +\n",
    "  geom_segment(y=0,yend=0, x=10.5, xend=13.5, col=\"red\", linewidth=1) +\n",
    "  labs(title=\"Bar chart\", subtitle = \"Decade averages of average global monthly temperature anomalies\") +\n",
    "  xlab(\"Time\") + ylab(\"Degrees relative to 1951-1980 average\")\n",
    "\n"
   ]
  },
  {
   "cell_type": "markdown",
   "id": "b361f462",
   "metadata": {},
   "source": [
    "In summary, since 1850 there has been a marked increase in global surface temperatures, occurring over two distinct stages - 1910s to 1940s and then 1970s to present. "
   ]
  },
  {
   "cell_type": "code",
   "execution_count": null,
   "id": "05c0ee8d",
   "metadata": {},
   "outputs": [],
   "source": [
    "# Clear R environment\n",
    "rm(list = ls())"
   ]
  },
  {
   "cell_type": "markdown",
   "id": "368c0b05",
   "metadata": {},
   "source": [
    "### Changes in ice mass\n",
    "\n",
    "This section uses data from @antarctic, on the Antarctic ice mass measured by satellites,  available [here](https://climate.nasa.gov/). For ease of replication, the data has been saved in the sheet `ice` of the `data_ch2.xlsx` Excel file."
   ]
  },
  {
   "cell_type": "code",
   "execution_count": null,
   "id": "1da28966",
   "metadata": {},
   "outputs": [],
   "source": [
    "antarctic <- read_xlsx(\"data_ch2.xlsx\", sheet=\"ice\")\n",
    "head(antarctic)"
   ]
  },
  {
   "cell_type": "markdown",
   "id": "4efd4afa",
   "metadata": {
    "lines_to_next_cell": 0
   },
   "source": [
    "The data is an irregularly sampled time series: time is measured as year, reported in decimal form depending on the point in the year when satellites made a measurement.  The mass of Antarctic ice is reported as *anomaly* (i.e., change) in gigatonnes, relative to February 2002.\n",
    "\n",
    "Plotting the Antarctic mass anomaly against time yields"
   ]
  },
  {
   "cell_type": "code",
   "execution_count": null,
   "id": "f2e3c4ea",
   "metadata": {},
   "outputs": [],
   "source": [
    "ggplot(antarctic, aes(x=Time, y=Mass)) + geom_line(col=\"blue\") +\n",
    "  labs(title=\"Time series line plot\", subtitle = \"Change in Antarctica ice mass\") +\n",
    "  xlab(\"Time\") + ylab(\"Gigatonnes, Change relative to 2002\")"
   ]
  },
  {
   "cell_type": "markdown",
   "id": "1e6bec75",
   "metadata": {},
   "source": [
    "We observe that the mass of the Antarctic ice cap has decreased by around 3000 gigatonnes from 2002 to 2023. "
   ]
  },
  {
   "cell_type": "code",
   "execution_count": null,
   "id": "ca38d8b8",
   "metadata": {},
   "outputs": [],
   "source": [
    "# Clear R environment\n",
    "rm(list = ls())"
   ]
  },
  {
   "cell_type": "markdown",
   "id": "9ff2d051",
   "metadata": {},
   "source": [
    "### Sea level\n",
    "\n",
    "This section uses data from @sealevel, on the global mean sea level measured by satellites,  available [here](https://climate.nasa.gov/). For ease of replication, the data has been saved in the sheet `sea` of the `data_ch2.xlsx` Excel file."
   ]
  },
  {
   "cell_type": "code",
   "execution_count": null,
   "id": "347d036a",
   "metadata": {},
   "outputs": [],
   "source": [
    "sea <- read_xlsx(\"data_ch2.xlsx\", sheet=\"sea\")\n",
    "head(sea)"
   ]
  },
  {
   "cell_type": "markdown",
   "id": "29849b04",
   "metadata": {
    "lines_to_next_cell": 0
   },
   "source": [
    "Similarly to the data on ice mass, this data is an irregularly sampled time series: time is measured by year reported in decimal form depending on the point in the year when satellites made a measurement.  The average global sea level (`GMSL`) is reported in the form of *anomaly* (i.e., change) in millimeters, relative to January 1993.\n",
    "\n",
    "Plotting the mean seal level anomaly against time yields"
   ]
  },
  {
   "cell_type": "code",
   "execution_count": null,
   "id": "f3e5efd5",
   "metadata": {},
   "outputs": [],
   "source": [
    "ggplot(sea, aes(x=Time, y=GMSL)) + geom_line(col=\"blue\") +\n",
    "  labs(title=\"Time series line plot\", subtitle = \"Global mean sea level change\") +\n",
    "  xlab(\"Time\") + ylab(\"mm, Change relative to 1993\")"
   ]
  },
  {
   "cell_type": "markdown",
   "id": "3a6cf577",
   "metadata": {},
   "source": [
    "We observe that from 1993 to 2023, global mean sea level has raised by approximately 100 mm (or 10 cm). \n"
   ]
  },
  {
   "cell_type": "code",
   "execution_count": null,
   "id": "c25c199b",
   "metadata": {},
   "outputs": [],
   "source": [
    "# Clear R environment\n",
    "rm(list = ls())"
   ]
  },
  {
   "cell_type": "markdown",
   "id": "60e95410",
   "metadata": {
    "lines_to_next_cell": 0
   },
   "source": [
    "### CO2 concentration\n",
    "\n",
    "It is well understood that one of the key drivers of changes in the climate, is changes in the concentration of greenhouse gases in the atmosphere. Greenhouse gases (including CO2, methane, NO and others) absorb the radiation of heat reflected by the Earth surface and cause heating of the atmosphere.\n",
    "\n",
    "This section uses monthly time-series data on atmospheric carbon dioxide (CO2) levels measured by NOAA at Mauna Loa Observatory, Hawaii, since 1958. The data comes from @co2, and is available [here](https://climate.nasa.gov/). For ease of replication, the data has been saved in the sheet `co2` of the `data_ch2.xlsx` Excel file.\n",
    "\n",
    "Loading, preparing, and printing the first few rows of data"
   ]
  },
  {
   "cell_type": "code",
   "execution_count": null,
   "id": "f75fff87",
   "metadata": {},
   "outputs": [],
   "source": [
    "co2df <- read_xlsx(\"data_ch2.xlsx\", sheet = \"co2\")\n",
    "co2df$Time <- as.Date(co2df$Time)\n",
    "head(co2df)"
   ]
  },
  {
   "cell_type": "markdown",
   "id": "ec0d2bd9",
   "metadata": {
    "lines_to_next_cell": 0
   },
   "source": [
    "we observe that data is monthly, from March 1958 to July 2023. Atmospheric CO2 levels (the variable `co2`) are measured in *parts per million*. \n",
    "\n",
    "Plotting CO2 levels against time yields"
   ]
  },
  {
   "cell_type": "code",
   "execution_count": null,
   "id": "5d355b54",
   "metadata": {},
   "outputs": [],
   "source": [
    "ggplot(co2df, aes(x=Time, y=co2)) + geom_line(col=\"blue\")+\n",
    "  labs(title=\"Time series line plot\", subtitle = \"Atmospheric CO2 levels measured at Mauna Loa Observatory\") +\n",
    "  xlab(\"Time\") + ylab(\"CO2, parts per million\")"
   ]
  },
  {
   "cell_type": "markdown",
   "id": "8670d766",
   "metadata": {},
   "source": [
    "Atmospheric concentration of CO2 has raised steadily from 315 ppm in March 1958 to 422 ppm in July 2023. We observe that CO2 levels fluctuate seasonally, but fluctuations are small relative to the long run trend. "
   ]
  },
  {
   "cell_type": "code",
   "execution_count": null,
   "id": "4c0c4a94",
   "metadata": {},
   "outputs": [],
   "source": [
    "# Clear R environment\n",
    "rm(list = ls())"
   ]
  },
  {
   "cell_type": "markdown",
   "id": "ae60fceb",
   "metadata": {
    "lines_to_next_cell": 0
   },
   "source": [
    "### CO2 emissions\n",
    "\n",
    "There is evidence from ice-core data (e.g., see [here](https://climate.nasa.gov/evidence/)) that CO2 concentrations in the atmosphere have varied considerably over hundreds of thousands of years, driving cycles of warming and cooling of the planet. However, current CO2 concentrations are unprecedented, and a key reason for this is human activity, especially the release of greenhouse gases from fossil fuels which has increased considerably since the Industrial Revolution.  \n",
    "\n",
    "This section uses annual time-series data on the World's total CO2 emissions from fossil fuels. The data comes from @co2emissions, and is available [here](https://globalcarbonbudgetdata.org/data-archive.html). For ease of replication, the data has been saved in the sheet `co2emissions` of the `data_ch2.xlsx` Excel file.\n",
    "\n",
    "Load the data and print first few rows"
   ]
  },
  {
   "cell_type": "code",
   "execution_count": null,
   "id": "43f0c584",
   "metadata": {},
   "outputs": [],
   "source": [
    "co2world <- read_xlsx(\"data_ch2.xlsx\", sheet = \"co2emissions\")\n",
    "head(co2world)"
   ]
  },
  {
   "cell_type": "markdown",
   "id": "ee9f58e0",
   "metadata": {
    "lines_to_next_cell": 0
   },
   "source": [
    "The data contains annual observations from 1750 until 2021 of the global CO2 emissions from fossil fuels, measured by the variable `co2` in tonnes. \n",
    "\n",
    "Given the scale of measurement, it is convenient to change the unit of measurement to billions of tones, by dividing the series by 1000000000:"
   ]
  },
  {
   "cell_type": "code",
   "execution_count": null,
   "id": "c8d0d822",
   "metadata": {},
   "outputs": [],
   "source": [
    "co2world$co2 <- co2world$co2/1000000000 "
   ]
  },
  {
   "cell_type": "markdown",
   "id": "c6c1a237",
   "metadata": {
    "lines_to_next_cell": 0
   },
   "source": [
    "Plotting CO2 emissions against time yields"
   ]
  },
  {
   "cell_type": "code",
   "execution_count": null,
   "id": "e1a10a86",
   "metadata": {},
   "outputs": [],
   "source": [
    "ggplot(co2world, aes(x=Year, y=co2)) + geom_line(col=\"blue\")+\n",
    "  labs(title=\"Time series line plot\", subtitle = \"Global CO2 emissions from fossil fuels\") +\n",
    "  xlab(\"Year\") + ylab(\"Billions of tonnes\")"
   ]
  },
  {
   "cell_type": "markdown",
   "id": "c0377d25",
   "metadata": {},
   "source": [
    "It can be observed that CO2 emissions from human activity have increased sharply since 1750, and at an increasing rate for most of the 20th century. "
   ]
  },
  {
   "cell_type": "code",
   "execution_count": null,
   "id": "aa24874c",
   "metadata": {},
   "outputs": [],
   "source": [
    "# Clear R environment\n",
    "rm(list=ls())"
   ]
  },
  {
   "cell_type": "markdown",
   "id": "7248f98e",
   "metadata": {
    "lines_to_next_cell": 0
   },
   "source": [
    "### CO2 emissions and GNI per capita\n",
    "\n",
    "As we have already seen in the Topic of GNI per capita, at country level CO2 emissions per capita associate closely with the level of economic development measured by GNI per capita (PPP). While the associations was already illustrated in the previous topic, we also represent it here for completeness. Again, we use cross sectional data on  GNI p.c. (PPP) and CO2 emissions for 212 countries. The data comes from the World Bank's World Development Indicators database, and is available [here](https://data.worldbank.org/). For ease of replication, the data has been saved in the sheet `gni_co2_pc_2019` of the `data_ch2.xlsx` Excel file.\n",
    "\n",
    "Load the data and print first few rows"
   ]
  },
  {
   "cell_type": "code",
   "execution_count": null,
   "id": "4e712566",
   "metadata": {
    "lines_to_next_cell": 0
   },
   "outputs": [],
   "source": [
    "gnico22019 <- read_xlsx(\"data_ch2.xlsx\", sheet = \"gni_co2_pc_2019\")\n",
    "head(gnico22019)"
   ]
  },
  {
   "cell_type": "code",
   "execution_count": null,
   "id": "358dd821",
   "metadata": {},
   "outputs": [],
   "source": [
    "ggplot(gnico22019, aes(x=log(GNIpc), y=log(CO2pc))) + geom_point(col=\"blue\")+\n",
    "  labs(title=\"Scatterplot\", subtitle = \"GNI p.c. (PPP) and CO2 emissions p.c., 2019\") +\n",
    "  xlab(\"log(International Dollars per capita)\") + ylab(\"log(Metric tonnes per capita)\")"
   ]
  },
  {
   "cell_type": "markdown",
   "id": "85428052",
   "metadata": {},
   "source": [
    "Again, we can see that countries with high per-capita income, also tend to have high per-capita CO2 emissions."
   ]
  },
  {
   "cell_type": "code",
   "execution_count": null,
   "id": "ead727b1",
   "metadata": {},
   "outputs": [],
   "source": [
    "# Clear R environment\n",
    "rm(list = ls())"
   ]
  },
  {
   "cell_type": "markdown",
   "id": "9cae8f89",
   "metadata": {
    "lines_to_next_cell": 0
   },
   "source": [
    "## UK trends\n",
    "\n",
    "### UK temperatures\n",
    "\n",
    "The data on temperature anomalies discussed above represented average global temperature anomalies, but climate varies geographically, and the overall change in climate affects different regions differently. We now turn attention to specific trend related to the climate of the UK. \n",
    "\n",
    "This section uses annual time-series data on annual average temperature in the UK. The data comes from @uktemp, and is available [here](https://beta.gss-data.org.uk/cube/explore?uri=https%3A%2F%2Fraw.githubusercontent.com%2FGSS-Cogs%2Fprovider-met-office%2Fmain%2Fout%2Fregional-average-climate-observations-uk-annual-mean-temperature-2022%2Fregional-average-climate-observations-uk-annual-mean-temperature-2022%2Fregional-average-climate-observations-uk-annual-mean-temperature-2022.csv%23dataset-catalog-entry). For ease of replication, the data has been saved in the sheet `uktemp` of the `data_ch2.xlsx` Excel file.\n",
    "\n",
    "Loading the data and printing the first few rows"
   ]
  },
  {
   "cell_type": "code",
   "execution_count": null,
   "id": "3a5f6ee8",
   "metadata": {},
   "outputs": [],
   "source": [
    "uktemp <- read_xlsx(\"data_ch2.xlsx\", sheet = \"uktemp\")\n",
    "head(uktemp)"
   ]
  },
  {
   "cell_type": "markdown",
   "id": "ec9ce84a",
   "metadata": {
    "lines_to_next_cell": 0
   },
   "source": [
    "the data contains 139 annual observations (from 1884 to 2022) of the annual average temperature in the UK, measured in degrees Celsius. \n",
    "\n",
    "Plotting temperatures against time"
   ]
  },
  {
   "cell_type": "code",
   "execution_count": null,
   "id": "e7138739",
   "metadata": {},
   "outputs": [],
   "source": [
    "ggplot(uktemp, aes(x=Year, y=AnnualMeanTemperature)) + \n",
    "  geom_line(col=\"blue\") + \n",
    "  labs(title=\"Time series line plot\", subtitle = \"Average annual temperature in UK\") +\n",
    "  xlab(\"Time\") + ylab(\"Degrees\")"
   ]
  },
  {
   "cell_type": "markdown",
   "id": "3510d8b4",
   "metadata": {
    "lines_to_next_cell": 0
   },
   "source": [
    "we observe that while temperature fluctuates considerably at annual frequency, overall there is a positive trend (possibly non-monotonic). Average annual temperatures in the end of the 19th century tended to be around 8 degrees, but have been typically above 9.5 degrees in the last years.\n",
    "\n",
    "For purpose of comparison UK trends to the global trend documented above, we can measure temperatures in terms of anomalies relative to the 1951-1980 average. Construct a new variable, `AnnualAnomaly` equal to the difference between the temperature in a given year and the average of annual temperatures from 1951 to 1980:"
   ]
  },
  {
   "cell_type": "code",
   "execution_count": null,
   "id": "1b8a03f4",
   "metadata": {},
   "outputs": [],
   "source": [
    "mean5180 <- mean(subset(uktemp, Year>=1951 & Year<=1980)$AnnualMeanTemperature)\n",
    "uktemp$AnnualAnomaly <- uktemp$AnnualMeanTemperature - mean5180"
   ]
  },
  {
   "cell_type": "markdown",
   "id": "1588d080",
   "metadata": {
    "lines_to_next_cell": 0
   },
   "source": [
    "Plotting the annual anomaly against time"
   ]
  },
  {
   "cell_type": "code",
   "execution_count": null,
   "id": "d1e8bdd2",
   "metadata": {},
   "outputs": [],
   "source": [
    "ggplot(uktemp, aes(x=Year, y=AnnualAnomaly)) + \n",
    "  geom_line(col=\"blue\") +\n",
    "  geom_hline(yintercept=0, lty=\"dashed\", col=\"black\", linewidth=1) +\n",
    "  geom_segment(y=0,yend=0, x=1951, xend=1980, col=\"red\", linewidth=1) +\n",
    "  labs(title=\"Time series line plot\", subtitle = \"Average annual temperature anomalies, UK\") +\n",
    "  xlab(\"Time\") + ylab(\"Degrees relative to 1951-1980 average\")"
   ]
  },
  {
   "cell_type": "markdown",
   "id": "e46f148a",
   "metadata": {
    "lines_to_next_cell": 0
   },
   "source": [
    "we observe that the pattern of temperatures in the UK looks very similar to the global pattern. Of course, it should be noted that measurement is not directly comparable - for one, global data was available at monthly, while UK at annual frequency. Furthermore, global temperatures were averages across land and ocean surface, while UK temperatures are land surface only. \n",
    "\n",
    "Again, we can provide a clearer understanding of the long term trend if we average out annual fluctuations, for example, by converting annual data, to data on 10-year averages (as before):"
   ]
  },
  {
   "cell_type": "code",
   "execution_count": null,
   "id": "2c51f349",
   "metadata": {},
   "outputs": [],
   "source": [
    "# Create a variable measuring decade\n",
    "uktemp.decade <- uktemp %>% mutate(Decade = floor(Year/10)*10)\n",
    "\n",
    "# Create variable aveTempAnomaly equal to the average of annual temperatures for the corresponding decade.\n",
    "uktemp.decade <- uktemp.decade %>% group_by(Decade) %>% mutate(aveTempAnomaly = mean(AnnualAnomaly))\n",
    "\n",
    "# Keep single observation for decade\n",
    "uktemp.decade <- uktemp.decade %>% group_by(Decade) %>% filter(row_number() == 1)\n",
    "\n",
    "# Remove observations for \"incomplete\" decades\n",
    "uktemp.decade <- subset(uktemp.decade, Decade<2020&Decade>1880)\n",
    "\n",
    "# Plot 10-year average temperatures against corresponding decades \n",
    "ggplot(uktemp.decade, aes(x=Decade, y=aveTempAnomaly)) +\n",
    "  geom_point(col=\"blue\") +\n",
    "  geom_line(col=\"blue\")+\n",
    "  geom_hline(yintercept=0, lty=\"dashed\", col=\"black\", linewidth=1) +\n",
    "  geom_segment(y=0,yend=0, x=1950, xend=1980, col=\"red\", linewidth=1) +\n",
    "  labs(title=\"Time series line plot\", subtitle = \"Decade averages of average annual UK temperature anomalies\") +\n",
    "  xlab(\"Time\") + ylab(\"Degrees relative to 1951-1980 average\")"
   ]
  },
  {
   "cell_type": "markdown",
   "id": "2bab2de2",
   "metadata": {},
   "source": [
    "The pattern for UK is very similar to the global pattern documented before, with the notable difference that UK temperatures followed a brief downward trend from 1940s to the 1960s. "
   ]
  },
  {
   "cell_type": "code",
   "execution_count": null,
   "id": "b4941d8a",
   "metadata": {},
   "outputs": [],
   "source": [
    "# Clear R environment\n",
    "rm(list = ls())"
   ]
  },
  {
   "cell_type": "markdown",
   "id": "baee66af",
   "metadata": {
    "lines_to_next_cell": 0
   },
   "source": [
    "### UK Rainfall\n",
    "\n",
    "This section uses annual time-series data on annual average rainall in the UK. The data comes from @ukrain, and is available [here](https://beta.gss-data.org.uk/cube/explore?uri=http%3A%2F%2Fgss-data.org.uk%2Fdata%2Fclimate-change%2Fmet-office-regional-average-climate-observations-uk-annual-rainfall-2021%2Fregional-average-climate-observations-uk-annual-rainfall%23dataset-catalog-entry&show-uris=false&apply-filters=true&order-by-component=http%253A%252F%252Fgss-data.org.uk%252Fdata%252Fclimate-change%252Fmet-office-regional-average-climate-observations-uk-annual-rainfall-2021%252Fregional-average-climate-observations-uk-annual-rainfall%2523dimension%252Fyear&order-direction=ASC). For ease of replication, the data has been saved in the sheet `ukrain` of the `data_ch2.xlsx` Excel file.\n",
    "\n",
    "Loading the data and printing the first few rows"
   ]
  },
  {
   "cell_type": "code",
   "execution_count": null,
   "id": "9fd6421e",
   "metadata": {},
   "outputs": [],
   "source": [
    "ukrain <- read_xlsx(\"data_ch2.xlsx\", sheet = \"ukrain\")\n",
    "head(ukrain)"
   ]
  },
  {
   "cell_type": "markdown",
   "id": "4b5c57e4",
   "metadata": {
    "lines_to_next_cell": 0
   },
   "source": [
    "The data consists of 186 annual observations (from 1836 to 2021) of the average annual rainfall in UK, measured in millimeters.\n",
    "\n",
    "Plotting average annual rainfall against time yields"
   ]
  },
  {
   "cell_type": "code",
   "execution_count": null,
   "id": "a7a302d9",
   "metadata": {},
   "outputs": [],
   "source": [
    "ggplot(ukrain, aes(x=Year, y=Rain)) + \n",
    "  geom_line(col=\"blue\") + \n",
    "  labs(title=\"Time series line plot\", subtitle = \"Average annual rainfall in UK\") +\n",
    "  xlab(\"Time\") + ylab(\"Millimeters\")"
   ]
  },
  {
   "cell_type": "markdown",
   "id": "de7d2b14",
   "metadata": {
    "lines_to_next_cell": 0
   },
   "source": [
    "Relative to average temperature, we can observe that average rainfall tends to be quite more volatile at annual frequency (it is relatively common for very wet and very dry years to occur, and there are large differences between wet and dry years). Nonetheless, we can also observe that there is an increasing long-term trend - typical rainfall in the begining of the 19th century was around 1000 mm, while in recent decades typical years see 1200 mm or rain.\n",
    "\n",
    "Similarly to prior sections we can represent this more clearly by reporting rainfall in terms of annual anomalies (differences) relative to the 1951-1980 average"
   ]
  },
  {
   "cell_type": "code",
   "execution_count": null,
   "id": "0862ea59",
   "metadata": {},
   "outputs": [],
   "source": [
    "# Calucalte mean annual rainfall for 1951-1980\n",
    "mean5180 <- mean(subset(ukrain, Year>=1951 & Year<=1980)$Rain)\n",
    "\n",
    "# Calculate annual anomaly as difference between actual annual rainfall and the 1951-1980 average\n",
    "ukrain$AnnualAnomaly <- ukrain$Rain - mean5180\n",
    "\n",
    "# Plot annual anomalies against year \n",
    "ggplot(ukrain, aes(x=Year, y=AnnualAnomaly)) + \n",
    "  geom_line(col=\"blue\") +\n",
    "  geom_hline(yintercept=0, lty=\"dashed\", col=\"black\", linewidth=1) +\n",
    "  geom_segment(y=0,yend=0, x=1951, xend=1980, col=\"red\", linewidth=1) +\n",
    "  labs(title=\"Time series line plot\", subtitle = \"Annual UK rain anomalies\") +\n",
    "  xlab(\"Time\") + ylab(\"Millimeters relative to 1951-1980 average\")"
   ]
  },
  {
   "cell_type": "markdown",
   "id": "1f16a6a3",
   "metadata": {
    "lines_to_next_cell": 0
   },
   "source": [
    "where we can clearly see that typical years recently are wetter than typical years in 1951-1980, and 1951-1980 are on average wetter than in the begining of the observation window.\n",
    "\n",
    "As before, to focus on trends rather than fluctuations, represent the data in terms of 10-year averages:"
   ]
  },
  {
   "cell_type": "code",
   "execution_count": null,
   "id": "ef902540",
   "metadata": {},
   "outputs": [],
   "source": [
    "# Create a variable measuring the decade of observation\n",
    "ukrain.decade <- ukrain %>% mutate(Decade = floor(Year/10)*10)\n",
    "\n",
    "# Create a variable measuring the average anomaly per decade\n",
    "ukrain.decade <- ukrain.decade %>% group_by(Decade) %>% mutate(aveAnomaly = mean(AnnualAnomaly))\n",
    "\n",
    "# Keep single observation per decade\n",
    "ukrain.decade <- ukrain.decade %>% group_by(Decade) %>% filter(row_number() == 1)\n",
    "\n",
    "# Remove incomplete decades\n",
    "ukrain.decade <- subset(ukrain.decade, Decade>1830&Decade<2020)\n",
    "\n",
    "\n",
    "# Plot\n",
    "ggplot(ukrain.decade, aes(x=Decade, y=aveAnomaly)) +\n",
    "  geom_point(col=\"blue\") +\n",
    "  geom_line(col=\"blue\")+\n",
    "  geom_hline(yintercept=0, lty=\"dashed\", col=\"black\", linewidth=1) +\n",
    "  geom_segment(y=0,yend=0, x=1950, xend=1980, col=\"red\", linewidth=1) +\n",
    "  labs(title=\"Time series line plot\", subtitle = \"Decade averages of annual rain anomalies, UK\") +\n",
    "  xlab(\"Time\") + ylab(\"Millimeters relative to 1951-1980 average\")"
   ]
  },
  {
   "cell_type": "markdown",
   "id": "89871976",
   "metadata": {},
   "source": [
    "We can see that recent decades typically experienced about 100 mm (10 cm) annual rain, than in 1951-1980. "
   ]
  },
  {
   "cell_type": "code",
   "execution_count": null,
   "id": "13c12b36",
   "metadata": {},
   "outputs": [],
   "source": [
    "# Clear R environment\n",
    "rm(list = ls())"
   ]
  },
  {
   "cell_type": "markdown",
   "id": "eece6cb6",
   "metadata": {
    "lines_to_next_cell": 0
   },
   "source": [
    "### UK CO2 emissions\n",
    "\n",
    "This section uses annual time-series data on UK's CO2 emissions. The data comes from @ukco2, and is available [here](https://globalcarbonbudgetdata.org/data-archive.html). For ease of replication, the data has been saved in the sheet `ukco2` of the `data_ch2.xlsx` Excel file.\n",
    "\n",
    "Load the data and print first few rows"
   ]
  },
  {
   "cell_type": "code",
   "execution_count": null,
   "id": "cc5beedd",
   "metadata": {},
   "outputs": [],
   "source": [
    "ukco2 <- read_xlsx(\"data_ch2.xlsx\", sheet = \"ukco2\")\n",
    "head(ukco2)"
   ]
  },
  {
   "cell_type": "markdown",
   "id": "f1ea161f",
   "metadata": {
    "lines_to_next_cell": 0
   },
   "source": [
    "The dataset contains annual data (from 1750 to 2021) on estimates of UK's \n",
    "- *production-based* CO2 emissions, measured by the variable `co2` in tonnes; and\n",
    "- *consumption-based* CO2 emissions, measured by the variable `co2cons` in tonnes.\n",
    "\n",
    "Production-based emissions record the amount of CO2 emitted through production within a country's own borders. Consumption-based emissions record the amount of CO2 emitted to produce the goods and services consumed within an economy (i.e., accounting for trade). While production-based emissions are available since 1750, consumption-based emissions are only available since 1990.\n",
    "\n",
    "Given the scale of the variables, it is appropriate to report emissions in terms of millions of tonnes, rather than tonnes. To do this, divide emissions in tonnes by 1000000:"
   ]
  },
  {
   "cell_type": "code",
   "execution_count": null,
   "id": "06428cc7",
   "metadata": {},
   "outputs": [],
   "source": [
    "ukco2$co2 <- ukco2$co2/1000000\n",
    "ukco2$co2cons <- ukco2$co2cons/1000000"
   ]
  },
  {
   "cell_type": "markdown",
   "id": "9ac83d3f",
   "metadata": {
    "lines_to_next_cell": 0
   },
   "source": [
    "Plotting UK's production-based CO2 emissions against time yields "
   ]
  },
  {
   "cell_type": "code",
   "execution_count": null,
   "id": "f90beadd",
   "metadata": {},
   "outputs": [],
   "source": [
    "ggplot(ukco2, aes(x=Year, y=co2)) + \n",
    "  geom_line(col=\"blue\") + \n",
    "  labs(title=\"Time series line plot\", subtitle = \"Annual production-based CO2 emissions, UK\") +\n",
    "  xlab(\"Time\") + ylab(\"Millions of tonnes\")"
   ]
  },
  {
   "cell_type": "markdown",
   "id": "2a05d8af",
   "metadata": {
    "lines_to_next_cell": 0
   },
   "source": [
    "Since the outset of the Industrial Revolution, UK's CO2 emissions increased at an approximately exponential rate, peaking in the 1970s at levels around 650 millions of tonnes per year  (and seeing a relative decline at the time of WW1 and the Great Depression). Following the sectoral restructuring in the economy away from manufacturing CO2 emissions embodied in production have declined to about 346 millions of tonnes as of 2022. \n",
    "\n",
    "However, plotting consumption and production based emissions on the same graph for the same time window"
   ]
  },
  {
   "cell_type": "code",
   "execution_count": null,
   "id": "8d740430",
   "metadata": {},
   "outputs": [],
   "source": [
    "ggplot(ukco2, aes(x=Year)) + \n",
    "  geom_line(aes(y=co2,col=\"Production\")) + \n",
    "  geom_line(aes(y=co2cons,col=\"Consumption\")) + \n",
    "  labs(title=\"Time series line plot\", subtitle = \"Annual CO2 emissions, UK\", col = \"Measure\") +\n",
    "  xlab(\"Time\") + ylab(\"Millions of tonnes\") + \n",
    "  scale_color_manual(values=c(\"red\", \"blue\"))"
   ]
  },
  {
   "cell_type": "markdown",
   "id": "05865d2d",
   "metadata": {
    "lines_to_next_cell": 0
   },
   "source": [
    "or only for the part of the window where consumption-based measures are available"
   ]
  },
  {
   "cell_type": "code",
   "execution_count": null,
   "id": "761158b1",
   "metadata": {},
   "outputs": [],
   "source": [
    "ggplot(ukco2, aes(x=Year)) + \n",
    "  geom_line(aes(y=co2,col=\"Production\")) + \n",
    "  geom_line(aes(y=co2cons,col=\"Consumption\")) + \n",
    "  labs(title=\"Time series line plot\", subtitle = \"Annual CO2 emissions, UK\", col = \"Measure\") +\n",
    "  xlab(\"Time\") + ylab(\"Millions of tonnes\") + \n",
    "  xlim(c(1988,2022)) +\n",
    "  scale_color_manual(values=c(\"red\", \"blue\"))"
   ]
  },
  {
   "cell_type": "markdown",
   "id": "d972dbed",
   "metadata": {},
   "source": [
    "we observe that while UK's production embodies much less CO2 emissions than its consumption (i.e., UK is a net importer of \"CO2\" emissions). Still, even consumption-based CO2 emissions have seen a decline since the early 2000s."
   ]
  }
 ],
 "metadata": {
  "jupytext": {
   "cell_metadata_filter": "eval,name,tags,-all",
   "main_language": "R",
   "notebook_metadata_filter": "-all"
  },
  "language_info": {
   "name": "python"
  }
 },
 "nbformat": 4,
 "nbformat_minor": 5
}
