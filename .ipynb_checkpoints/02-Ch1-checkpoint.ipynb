{
 "cells": [
  {
   "cell_type": "markdown",
   "id": "4706e272",
   "metadata": {},
   "source": [
    "# Representing differences in living standards across countries and over time\n",
    "\n",
    "This Jupyter notebook allows you to replicate all the codes from the corresponding chapter of the e-book in a virtual R installation on the cloud without having to install R on your computer. \n",
    "\n",
    "The codes and text are largely identical to those in the book, with small differences only due to the fact that some pieces of code (e.g., setting paths) are not needed in the virtual environment, but only if you replicate the document locally. Additionally, some of the text is slightly different due to differences of functionality of Jupyter Notebooks. One implication is that the full references to sources and data are more clearly articulated in the book than in this notebook - so please refer to the book for full references.\n",
    "\n",
    "To continue, when asked, set the \"kernel\" of the notebook to R (rather than Python). Then go through the notebook and evaluate the cells in the order that they appear. To evaluate a cell, select the cell and hit Ctrl + Enter (on Windows and Linux) or Cmd + Enter (on Mac). A good way to learn is to make changes to the code and observe how this affects the output."
   ]
  },
  {
   "cell_type": "markdown",
   "id": "c31519c2",
   "metadata": {},
   "source": [
    "Most of this chapter uses data on GNI per capita (PPP) from the World Bank's World Development Indicators database available [here](https://databank.worldbank.org/source/world-development-indicators). The chapter provides examples of using the data to represent differences in living standards between countries and over time. "
   ]
  },
  {
   "cell_type": "markdown",
   "id": "b246de46",
   "metadata": {
    "lines_to_next_cell": 0
   },
   "source": [
    "For ease of replication, all the data used in the chapter is available as an Excel file `data_ch1.xlsx` with different datasets saved as different tabs. The file has been saved in the working directory of the virtual R installation, so there is no need to set paths here."
   ]
  },
  {
   "cell_type": "markdown",
   "id": "4388d053",
   "metadata": {
    "lines_to_next_cell": 0
   },
   "source": [
    "In addition, the packages used within this notebook have been preinstalled but should be loaded"
   ]
  },
  {
   "cell_type": "code",
   "execution_count": 1,
   "id": "226f7ed0",
   "metadata": {
    "message": false,
    "name": "loadpackages",
    "warning": false
   },
   "outputs": [
    {
     "name": "stderr",
     "output_type": "stream",
     "text": [
      "\n",
      "Attaching package: 'dplyr'\n",
      "\n",
      "\n",
      "The following objects are masked from 'package:stats':\n",
      "\n",
      "    filter, lag\n",
      "\n",
      "\n",
      "The following objects are masked from 'package:base':\n",
      "\n",
      "    intersect, setdiff, setequal, union\n",
      "\n",
      "\n"
     ]
    }
   ],
   "source": [
    "library(readxl)\n",
    "library(tidyr)\n",
    "library(dplyr)\n",
    "library(ggplot2)\n",
    "library(forcats)\n",
    "library(stringr)\n",
    "library(maps)\n",
    "library(knitr)\n"
   ]
  },
  {
   "cell_type": "markdown",
   "id": "e2e22882",
   "metadata": {
    "lines_to_next_cell": 0
   },
   "source": [
    "The complete dataset on GNI per capita (PPP) from WDI is available in the `gnipcppp_long` sheet of the `data_ch1.xlsx` Excel file. First, we load and inspect the the first few rows of the data"
   ]
  },
  {
   "cell_type": "code",
   "execution_count": 2,
   "id": "b5210080",
   "metadata": {
    "lines_to_next_cell": 0
   },
   "outputs": [
    {
     "data": {
      "text/html": [
       "<table class=\"dataframe\">\n",
       "<caption>A tibble: 6 × 5</caption>\n",
       "<thead>\n",
       "\t<tr><th scope=col>Country</th><th scope=col>Code</th><th scope=col>Region</th><th scope=col>Year</th><th scope=col>rGNIpc</th></tr>\n",
       "\t<tr><th scope=col>&lt;chr&gt;</th><th scope=col>&lt;chr&gt;</th><th scope=col>&lt;chr&gt;</th><th scope=col>&lt;dbl&gt;</th><th scope=col>&lt;dbl&gt;</th></tr>\n",
       "</thead>\n",
       "<tbody>\n",
       "\t<tr><td>Afghanistan</td><td>AFG</td><td>South Asia</td><td>1973</td><td>NA</td></tr>\n",
       "\t<tr><td>Afghanistan</td><td>AFG</td><td>South Asia</td><td>1974</td><td>NA</td></tr>\n",
       "\t<tr><td>Afghanistan</td><td>AFG</td><td>South Asia</td><td>1975</td><td>NA</td></tr>\n",
       "\t<tr><td>Afghanistan</td><td>AFG</td><td>South Asia</td><td>1976</td><td>NA</td></tr>\n",
       "\t<tr><td>Afghanistan</td><td>AFG</td><td>South Asia</td><td>1977</td><td>NA</td></tr>\n",
       "\t<tr><td>Afghanistan</td><td>AFG</td><td>South Asia</td><td>1978</td><td>NA</td></tr>\n",
       "</tbody>\n",
       "</table>\n"
      ],
      "text/latex": [
       "A tibble: 6 × 5\n",
       "\\begin{tabular}{lllll}\n",
       " Country & Code & Region & Year & rGNIpc\\\\\n",
       " <chr> & <chr> & <chr> & <dbl> & <dbl>\\\\\n",
       "\\hline\n",
       "\t Afghanistan & AFG & South Asia & 1973 & NA\\\\\n",
       "\t Afghanistan & AFG & South Asia & 1974 & NA\\\\\n",
       "\t Afghanistan & AFG & South Asia & 1975 & NA\\\\\n",
       "\t Afghanistan & AFG & South Asia & 1976 & NA\\\\\n",
       "\t Afghanistan & AFG & South Asia & 1977 & NA\\\\\n",
       "\t Afghanistan & AFG & South Asia & 1978 & NA\\\\\n",
       "\\end{tabular}\n"
      ],
      "text/markdown": [
       "\n",
       "A tibble: 6 × 5\n",
       "\n",
       "| Country &lt;chr&gt; | Code &lt;chr&gt; | Region &lt;chr&gt; | Year &lt;dbl&gt; | rGNIpc &lt;dbl&gt; |\n",
       "|---|---|---|---|---|\n",
       "| Afghanistan | AFG | South Asia | 1973 | NA |\n",
       "| Afghanistan | AFG | South Asia | 1974 | NA |\n",
       "| Afghanistan | AFG | South Asia | 1975 | NA |\n",
       "| Afghanistan | AFG | South Asia | 1976 | NA |\n",
       "| Afghanistan | AFG | South Asia | 1977 | NA |\n",
       "| Afghanistan | AFG | South Asia | 1978 | NA |\n",
       "\n"
      ],
      "text/plain": [
       "  Country     Code Region     Year rGNIpc\n",
       "1 Afghanistan AFG  South Asia 1973 NA    \n",
       "2 Afghanistan AFG  South Asia 1974 NA    \n",
       "3 Afghanistan AFG  South Asia 1975 NA    \n",
       "4 Afghanistan AFG  South Asia 1976 NA    \n",
       "5 Afghanistan AFG  South Asia 1977 NA    \n",
       "6 Afghanistan AFG  South Asia 1978 NA    "
      ]
     },
     "metadata": {},
     "output_type": "display_data"
    }
   ],
   "source": [
    "# Load full panel dataset in long form\n",
    "longdata <- read_excel(\"data_ch1.xlsx\", sheet = \"gnipcppp_long\")\n",
    "head(longdata)"
   ]
  },
  {
   "cell_type": "markdown",
   "id": "b93f1e55",
   "metadata": {
    "lines_to_next_cell": 0
   },
   "source": [
    "This is a panel dataset in long form, with each row identifying an individual country in a specific year. There are 10600 observations (country-year pairs) in total (212 countries followed over 50 years). \n",
    "\n",
    "In the remainder of this chapter, we will illustrate how individual cross sections, individual time series, or the whole panel dataset can be utilized to insightfully represent information from the data.\n",
    "\n",
    "The following code cleans the R environment so that the dataframes used in this section are no longer loaded:"
   ]
  },
  {
   "cell_type": "code",
   "execution_count": 3,
   "id": "3d94ab26",
   "metadata": {},
   "outputs": [],
   "source": [
    "rm(list = ls())"
   ]
  },
  {
   "cell_type": "markdown",
   "id": "3f8cb192",
   "metadata": {},
   "source": [
    "## Representing cross sectional data: Cross-country differences in living standards in 2019\n",
    "\n",
    "This section uses a cross section of the panel dataset for 2019 only, and presents examples of insightful ways of representing this data, with view of understanding differences in (distribution of) living standards as measured by GNI per capita (PPP), across countries in 2019.\n",
    "\n",
    "### Loading data\n",
    "\n",
    "First, to obtain cross-sectional data for 2019, we can load the full panel dataset in long form (found in the third sheet of the `data_ch1.xlsx` Excel file) and then only keep observations for 2019."
   ]
  },
  {
   "cell_type": "code",
   "execution_count": 4,
   "id": "e5edb1a1",
   "metadata": {},
   "outputs": [],
   "source": [
    "# Load full panel dataset in long form\n",
    "longdata <- read_excel(\"data_ch1.xlsx\", sheet = \"gnipcppp_long\")\n",
    "\n",
    "# Obtain a cross-section for Year 2019 only, and allocate to dataframe `csdata`\n",
    "\n",
    "csdata <- subset(longdata, Year==2019)\n",
    "\n",
    "# Prepare by declaring `Country`, `Code` and `Region` to be factor (or categorical) variables\n",
    "\n",
    "csdata$Code <- as.factor(csdata$Code)\n",
    "csdata$Region <- as.factor(csdata$Region)\n",
    "csdata$Country <- as.factor(csdata$Country)\n",
    "\n",
    "# Remove full panel dataset from memory\n",
    "rm(longdata)"
   ]
  },
  {
   "cell_type": "markdown",
   "id": "2e190fc5",
   "metadata": {
    "lines_to_next_cell": 0
   },
   "source": [
    "For completeness, the full cross sectional dataset we work with is presented in the following table"
   ]
  },
  {
   "cell_type": "code",
   "execution_count": 5,
   "id": "f9c1694e",
   "metadata": {},
   "outputs": [
    {
     "data": {
      "text/html": [
       "<table class=\"dataframe\">\n",
       "<caption>A tibble: 212 × 5</caption>\n",
       "<thead>\n",
       "\t<tr><th scope=col>Country</th><th scope=col>Code</th><th scope=col>Region</th><th scope=col>Year</th><th scope=col>rGNIpc</th></tr>\n",
       "\t<tr><th scope=col>&lt;fct&gt;</th><th scope=col>&lt;fct&gt;</th><th scope=col>&lt;fct&gt;</th><th scope=col>&lt;dbl&gt;</th><th scope=col>&lt;dbl&gt;</th></tr>\n",
       "</thead>\n",
       "<tbody>\n",
       "\t<tr><td>Bermuda             </td><td>BMU</td><td>North America               </td><td>2019</td><td>117280</td></tr>\n",
       "\t<tr><td>Isle of Man         </td><td>IMN</td><td>Europe and Central Asia     </td><td>2019</td><td> 84490</td></tr>\n",
       "\t<tr><td>Switzerland         </td><td>CHE</td><td>Europe and Central Asia     </td><td>2019</td><td> 83160</td></tr>\n",
       "\t<tr><td>Norway              </td><td>NOR</td><td>Europe and Central Asia     </td><td>2019</td><td> 82430</td></tr>\n",
       "\t<tr><td>Luxembourg          </td><td>LUX</td><td>Europe and Central Asia     </td><td>2019</td><td> 77500</td></tr>\n",
       "\t<tr><td>Iceland             </td><td>ISL</td><td>Europe and Central Asia     </td><td>2019</td><td> 72980</td></tr>\n",
       "\t<tr><td>Faroe Islands       </td><td>FRO</td><td>Europe and Central Asia     </td><td>2019</td><td> 66380</td></tr>\n",
       "\t<tr><td>USA                 </td><td>USA</td><td>North America               </td><td>2019</td><td> 66130</td></tr>\n",
       "\t<tr><td>Cayman Islands      </td><td>CYM</td><td>Latin America and Caribbean </td><td>2019</td><td> 65690</td></tr>\n",
       "\t<tr><td>Ireland             </td><td>IRL</td><td>Europe and Central Asia     </td><td>2019</td><td> 63570</td></tr>\n",
       "\t<tr><td>Denmark             </td><td>DNK</td><td>Europe and Central Asia     </td><td>2019</td><td> 63140</td></tr>\n",
       "\t<tr><td>Qatar               </td><td>QAT</td><td>Middle East and North Africa</td><td>2019</td><td> 61790</td></tr>\n",
       "\t<tr><td>Singapore           </td><td>SGP</td><td>East Asia and Pacific       </td><td>2019</td><td> 58910</td></tr>\n",
       "\t<tr><td>Sweden              </td><td>SWE</td><td>Europe and Central Asia     </td><td>2019</td><td> 56470</td></tr>\n",
       "\t<tr><td>Australia           </td><td>AUS</td><td>East Asia and Pacific       </td><td>2019</td><td> 54900</td></tr>\n",
       "\t<tr><td>Netherlands         </td><td>NLD</td><td>Europe and Central Asia     </td><td>2019</td><td> 51930</td></tr>\n",
       "\t<tr><td>Austria             </td><td>AUT</td><td>Europe and Central Asia     </td><td>2019</td><td> 51020</td></tr>\n",
       "\t<tr><td>Finland             </td><td>FIN</td><td>Europe and Central Asia     </td><td>2019</td><td> 49940</td></tr>\n",
       "\t<tr><td>Germany             </td><td>DEU</td><td>Europe and Central Asia     </td><td>2019</td><td> 49220</td></tr>\n",
       "\t<tr><td>Belgium             </td><td>BEL</td><td>Europe and Central Asia     </td><td>2019</td><td> 48110</td></tr>\n",
       "\t<tr><td>Canada              </td><td>CAN</td><td>North America               </td><td>2019</td><td> 46600</td></tr>\n",
       "\t<tr><td>Andorra             </td><td>AND</td><td>Europe and Central Asia     </td><td>2019</td><td> 46530</td></tr>\n",
       "\t<tr><td>United Arab Emirates</td><td>ARE</td><td>Middle East and North Africa</td><td>2019</td><td> 46210</td></tr>\n",
       "\t<tr><td>San Marino          </td><td>SMR</td><td>Europe and Central Asia     </td><td>2019</td><td> 44390</td></tr>\n",
       "\t<tr><td>Israel              </td><td>ISR</td><td>Middle East and North Africa</td><td>2019</td><td> 44070</td></tr>\n",
       "\t<tr><td>UK                  </td><td>GBR</td><td>Europe and Central Asia     </td><td>2019</td><td> 43380</td></tr>\n",
       "\t<tr><td>New Zealand         </td><td>NZL</td><td>East Asia and Pacific       </td><td>2019</td><td> 43110</td></tr>\n",
       "\t<tr><td>France              </td><td>FRA</td><td>Europe and Central Asia     </td><td>2019</td><td> 42460</td></tr>\n",
       "\t<tr><td>Japan               </td><td>JPN</td><td>East Asia and Pacific       </td><td>2019</td><td> 41970</td></tr>\n",
       "\t<tr><td>Italy               </td><td>ITA</td><td>Europe and Central Asia     </td><td>2019</td><td> 34930</td></tr>\n",
       "\t<tr><td>⋮</td><td>⋮</td><td>⋮</td><td>⋮</td><td>⋮</td></tr>\n",
       "\t<tr><td>Burkina Faso                    </td><td>BFA</td><td>Sub-Saharan Africa          </td><td>2019</td><td>750</td></tr>\n",
       "\t<tr><td>Gambia                          </td><td>GMB</td><td>Sub-Saharan Africa          </td><td>2019</td><td>700</td></tr>\n",
       "\t<tr><td>Chad                            </td><td>TCD</td><td>Sub-Saharan Africa          </td><td>2019</td><td>690</td></tr>\n",
       "\t<tr><td>Liberia                         </td><td>LBR</td><td>Sub-Saharan Africa          </td><td>2019</td><td>610</td></tr>\n",
       "\t<tr><td>Niger                           </td><td>NER</td><td>Sub-Saharan Africa          </td><td>2019</td><td>590</td></tr>\n",
       "\t<tr><td>Malawi                          </td><td>MWI</td><td>Sub-Saharan Africa          </td><td>2019</td><td>550</td></tr>\n",
       "\t<tr><td>Afghanistan                     </td><td>AFG</td><td>South Asia                  </td><td>2019</td><td>530</td></tr>\n",
       "\t<tr><td>Sierra Leone                    </td><td>SLE</td><td>Sub-Saharan Africa          </td><td>2019</td><td>520</td></tr>\n",
       "\t<tr><td>Democratic Republic of the Congo</td><td>COD</td><td>Sub-Saharan Africa          </td><td>2019</td><td>510</td></tr>\n",
       "\t<tr><td>Madagascar                      </td><td>MDG</td><td>Sub-Saharan Africa          </td><td>2019</td><td>510</td></tr>\n",
       "\t<tr><td>Mozambique                      </td><td>MOZ</td><td>Sub-Saharan Africa          </td><td>2019</td><td>490</td></tr>\n",
       "\t<tr><td>Central African Republic        </td><td>CAF</td><td>Sub-Saharan Africa          </td><td>2019</td><td>470</td></tr>\n",
       "\t<tr><td>Somalia                         </td><td>SOM</td><td>Sub-Saharan Africa          </td><td>2019</td><td>410</td></tr>\n",
       "\t<tr><td>Burundi                         </td><td>BDI</td><td>Sub-Saharan Africa          </td><td>2019</td><td>230</td></tr>\n",
       "\t<tr><td>American Samoa                  </td><td>ASM</td><td>East Asia and Pacific       </td><td>2019</td><td> NA</td></tr>\n",
       "\t<tr><td>Virgin Islands                  </td><td>VGB</td><td>Latin America and Caribbean </td><td>2019</td><td> NA</td></tr>\n",
       "\t<tr><td>Jersey                          </td><td>CHI</td><td>Europe and Central Asia     </td><td>2019</td><td> NA</td></tr>\n",
       "\t<tr><td>Eritrea                         </td><td>ERI</td><td>Sub-Saharan Africa          </td><td>2019</td><td> NA</td></tr>\n",
       "\t<tr><td>French Polynesia                </td><td>PYF</td><td>East Asia and Pacific       </td><td>2019</td><td> NA</td></tr>\n",
       "\t<tr><td>Greenland                       </td><td>GRL</td><td>Europe and Central Asia     </td><td>2019</td><td> NA</td></tr>\n",
       "\t<tr><td>Guam                            </td><td>GUM</td><td>East Asia and Pacific       </td><td>2019</td><td> NA</td></tr>\n",
       "\t<tr><td>North Korea                     </td><td>PRK</td><td>East Asia and Pacific       </td><td>2019</td><td> NA</td></tr>\n",
       "\t<tr><td>Liechtenstein                   </td><td>LIE</td><td>Europe and Central Asia     </td><td>2019</td><td> NA</td></tr>\n",
       "\t<tr><td>Monaco                          </td><td>MCO</td><td>Europe and Central Asia     </td><td>2019</td><td> NA</td></tr>\n",
       "\t<tr><td>New Caledonia                   </td><td>NCL</td><td>East Asia and Pacific       </td><td>2019</td><td> NA</td></tr>\n",
       "\t<tr><td>Northern Mariana Islands        </td><td>MNP</td><td>East Asia and Pacific       </td><td>2019</td><td> NA</td></tr>\n",
       "\t<tr><td>South Sudan                     </td><td>SSD</td><td>Sub-Saharan Africa          </td><td>2019</td><td> NA</td></tr>\n",
       "\t<tr><td>Saint Martin                    </td><td>MAF</td><td>Latin America and Caribbean </td><td>2019</td><td> NA</td></tr>\n",
       "\t<tr><td>Venezuela                       </td><td>VEN</td><td>Latin America and Caribbean </td><td>2019</td><td> NA</td></tr>\n",
       "\t<tr><td>Yemen                           </td><td>YEM</td><td>Middle East and North Africa</td><td>2019</td><td> NA</td></tr>\n",
       "</tbody>\n",
       "</table>\n"
      ],
      "text/latex": [
       "A tibble: 212 × 5\n",
       "\\begin{tabular}{lllll}\n",
       " Country & Code & Region & Year & rGNIpc\\\\\n",
       " <fct> & <fct> & <fct> & <dbl> & <dbl>\\\\\n",
       "\\hline\n",
       "\t Bermuda              & BMU & North America                & 2019 & 117280\\\\\n",
       "\t Isle of Man          & IMN & Europe and Central Asia      & 2019 &  84490\\\\\n",
       "\t Switzerland          & CHE & Europe and Central Asia      & 2019 &  83160\\\\\n",
       "\t Norway               & NOR & Europe and Central Asia      & 2019 &  82430\\\\\n",
       "\t Luxembourg           & LUX & Europe and Central Asia      & 2019 &  77500\\\\\n",
       "\t Iceland              & ISL & Europe and Central Asia      & 2019 &  72980\\\\\n",
       "\t Faroe Islands        & FRO & Europe and Central Asia      & 2019 &  66380\\\\\n",
       "\t USA                  & USA & North America                & 2019 &  66130\\\\\n",
       "\t Cayman Islands       & CYM & Latin America and Caribbean  & 2019 &  65690\\\\\n",
       "\t Ireland              & IRL & Europe and Central Asia      & 2019 &  63570\\\\\n",
       "\t Denmark              & DNK & Europe and Central Asia      & 2019 &  63140\\\\\n",
       "\t Qatar                & QAT & Middle East and North Africa & 2019 &  61790\\\\\n",
       "\t Singapore            & SGP & East Asia and Pacific        & 2019 &  58910\\\\\n",
       "\t Sweden               & SWE & Europe and Central Asia      & 2019 &  56470\\\\\n",
       "\t Australia            & AUS & East Asia and Pacific        & 2019 &  54900\\\\\n",
       "\t Netherlands          & NLD & Europe and Central Asia      & 2019 &  51930\\\\\n",
       "\t Austria              & AUT & Europe and Central Asia      & 2019 &  51020\\\\\n",
       "\t Finland              & FIN & Europe and Central Asia      & 2019 &  49940\\\\\n",
       "\t Germany              & DEU & Europe and Central Asia      & 2019 &  49220\\\\\n",
       "\t Belgium              & BEL & Europe and Central Asia      & 2019 &  48110\\\\\n",
       "\t Canada               & CAN & North America                & 2019 &  46600\\\\\n",
       "\t Andorra              & AND & Europe and Central Asia      & 2019 &  46530\\\\\n",
       "\t United Arab Emirates & ARE & Middle East and North Africa & 2019 &  46210\\\\\n",
       "\t San Marino           & SMR & Europe and Central Asia      & 2019 &  44390\\\\\n",
       "\t Israel               & ISR & Middle East and North Africa & 2019 &  44070\\\\\n",
       "\t UK                   & GBR & Europe and Central Asia      & 2019 &  43380\\\\\n",
       "\t New Zealand          & NZL & East Asia and Pacific        & 2019 &  43110\\\\\n",
       "\t France               & FRA & Europe and Central Asia      & 2019 &  42460\\\\\n",
       "\t Japan                & JPN & East Asia and Pacific        & 2019 &  41970\\\\\n",
       "\t Italy                & ITA & Europe and Central Asia      & 2019 &  34930\\\\\n",
       "\t ⋮ & ⋮ & ⋮ & ⋮ & ⋮\\\\\n",
       "\t Burkina Faso                     & BFA & Sub-Saharan Africa           & 2019 & 750\\\\\n",
       "\t Gambia                           & GMB & Sub-Saharan Africa           & 2019 & 700\\\\\n",
       "\t Chad                             & TCD & Sub-Saharan Africa           & 2019 & 690\\\\\n",
       "\t Liberia                          & LBR & Sub-Saharan Africa           & 2019 & 610\\\\\n",
       "\t Niger                            & NER & Sub-Saharan Africa           & 2019 & 590\\\\\n",
       "\t Malawi                           & MWI & Sub-Saharan Africa           & 2019 & 550\\\\\n",
       "\t Afghanistan                      & AFG & South Asia                   & 2019 & 530\\\\\n",
       "\t Sierra Leone                     & SLE & Sub-Saharan Africa           & 2019 & 520\\\\\n",
       "\t Democratic Republic of the Congo & COD & Sub-Saharan Africa           & 2019 & 510\\\\\n",
       "\t Madagascar                       & MDG & Sub-Saharan Africa           & 2019 & 510\\\\\n",
       "\t Mozambique                       & MOZ & Sub-Saharan Africa           & 2019 & 490\\\\\n",
       "\t Central African Republic         & CAF & Sub-Saharan Africa           & 2019 & 470\\\\\n",
       "\t Somalia                          & SOM & Sub-Saharan Africa           & 2019 & 410\\\\\n",
       "\t Burundi                          & BDI & Sub-Saharan Africa           & 2019 & 230\\\\\n",
       "\t American Samoa                   & ASM & East Asia and Pacific        & 2019 &  NA\\\\\n",
       "\t Virgin Islands                   & VGB & Latin America and Caribbean  & 2019 &  NA\\\\\n",
       "\t Jersey                           & CHI & Europe and Central Asia      & 2019 &  NA\\\\\n",
       "\t Eritrea                          & ERI & Sub-Saharan Africa           & 2019 &  NA\\\\\n",
       "\t French Polynesia                 & PYF & East Asia and Pacific        & 2019 &  NA\\\\\n",
       "\t Greenland                        & GRL & Europe and Central Asia      & 2019 &  NA\\\\\n",
       "\t Guam                             & GUM & East Asia and Pacific        & 2019 &  NA\\\\\n",
       "\t North Korea                      & PRK & East Asia and Pacific        & 2019 &  NA\\\\\n",
       "\t Liechtenstein                    & LIE & Europe and Central Asia      & 2019 &  NA\\\\\n",
       "\t Monaco                           & MCO & Europe and Central Asia      & 2019 &  NA\\\\\n",
       "\t New Caledonia                    & NCL & East Asia and Pacific        & 2019 &  NA\\\\\n",
       "\t Northern Mariana Islands         & MNP & East Asia and Pacific        & 2019 &  NA\\\\\n",
       "\t South Sudan                      & SSD & Sub-Saharan Africa           & 2019 &  NA\\\\\n",
       "\t Saint Martin                     & MAF & Latin America and Caribbean  & 2019 &  NA\\\\\n",
       "\t Venezuela                        & VEN & Latin America and Caribbean  & 2019 &  NA\\\\\n",
       "\t Yemen                            & YEM & Middle East and North Africa & 2019 &  NA\\\\\n",
       "\\end{tabular}\n"
      ],
      "text/markdown": [
       "\n",
       "A tibble: 212 × 5\n",
       "\n",
       "| Country &lt;fct&gt; | Code &lt;fct&gt; | Region &lt;fct&gt; | Year &lt;dbl&gt; | rGNIpc &lt;dbl&gt; |\n",
       "|---|---|---|---|---|\n",
       "| Bermuda              | BMU | North America                | 2019 | 117280 |\n",
       "| Isle of Man          | IMN | Europe and Central Asia      | 2019 |  84490 |\n",
       "| Switzerland          | CHE | Europe and Central Asia      | 2019 |  83160 |\n",
       "| Norway               | NOR | Europe and Central Asia      | 2019 |  82430 |\n",
       "| Luxembourg           | LUX | Europe and Central Asia      | 2019 |  77500 |\n",
       "| Iceland              | ISL | Europe and Central Asia      | 2019 |  72980 |\n",
       "| Faroe Islands        | FRO | Europe and Central Asia      | 2019 |  66380 |\n",
       "| USA                  | USA | North America                | 2019 |  66130 |\n",
       "| Cayman Islands       | CYM | Latin America and Caribbean  | 2019 |  65690 |\n",
       "| Ireland              | IRL | Europe and Central Asia      | 2019 |  63570 |\n",
       "| Denmark              | DNK | Europe and Central Asia      | 2019 |  63140 |\n",
       "| Qatar                | QAT | Middle East and North Africa | 2019 |  61790 |\n",
       "| Singapore            | SGP | East Asia and Pacific        | 2019 |  58910 |\n",
       "| Sweden               | SWE | Europe and Central Asia      | 2019 |  56470 |\n",
       "| Australia            | AUS | East Asia and Pacific        | 2019 |  54900 |\n",
       "| Netherlands          | NLD | Europe and Central Asia      | 2019 |  51930 |\n",
       "| Austria              | AUT | Europe and Central Asia      | 2019 |  51020 |\n",
       "| Finland              | FIN | Europe and Central Asia      | 2019 |  49940 |\n",
       "| Germany              | DEU | Europe and Central Asia      | 2019 |  49220 |\n",
       "| Belgium              | BEL | Europe and Central Asia      | 2019 |  48110 |\n",
       "| Canada               | CAN | North America                | 2019 |  46600 |\n",
       "| Andorra              | AND | Europe and Central Asia      | 2019 |  46530 |\n",
       "| United Arab Emirates | ARE | Middle East and North Africa | 2019 |  46210 |\n",
       "| San Marino           | SMR | Europe and Central Asia      | 2019 |  44390 |\n",
       "| Israel               | ISR | Middle East and North Africa | 2019 |  44070 |\n",
       "| UK                   | GBR | Europe and Central Asia      | 2019 |  43380 |\n",
       "| New Zealand          | NZL | East Asia and Pacific        | 2019 |  43110 |\n",
       "| France               | FRA | Europe and Central Asia      | 2019 |  42460 |\n",
       "| Japan                | JPN | East Asia and Pacific        | 2019 |  41970 |\n",
       "| Italy                | ITA | Europe and Central Asia      | 2019 |  34930 |\n",
       "| ⋮ | ⋮ | ⋮ | ⋮ | ⋮ |\n",
       "| Burkina Faso                     | BFA | Sub-Saharan Africa           | 2019 | 750 |\n",
       "| Gambia                           | GMB | Sub-Saharan Africa           | 2019 | 700 |\n",
       "| Chad                             | TCD | Sub-Saharan Africa           | 2019 | 690 |\n",
       "| Liberia                          | LBR | Sub-Saharan Africa           | 2019 | 610 |\n",
       "| Niger                            | NER | Sub-Saharan Africa           | 2019 | 590 |\n",
       "| Malawi                           | MWI | Sub-Saharan Africa           | 2019 | 550 |\n",
       "| Afghanistan                      | AFG | South Asia                   | 2019 | 530 |\n",
       "| Sierra Leone                     | SLE | Sub-Saharan Africa           | 2019 | 520 |\n",
       "| Democratic Republic of the Congo | COD | Sub-Saharan Africa           | 2019 | 510 |\n",
       "| Madagascar                       | MDG | Sub-Saharan Africa           | 2019 | 510 |\n",
       "| Mozambique                       | MOZ | Sub-Saharan Africa           | 2019 | 490 |\n",
       "| Central African Republic         | CAF | Sub-Saharan Africa           | 2019 | 470 |\n",
       "| Somalia                          | SOM | Sub-Saharan Africa           | 2019 | 410 |\n",
       "| Burundi                          | BDI | Sub-Saharan Africa           | 2019 | 230 |\n",
       "| American Samoa                   | ASM | East Asia and Pacific        | 2019 |  NA |\n",
       "| Virgin Islands                   | VGB | Latin America and Caribbean  | 2019 |  NA |\n",
       "| Jersey                           | CHI | Europe and Central Asia      | 2019 |  NA |\n",
       "| Eritrea                          | ERI | Sub-Saharan Africa           | 2019 |  NA |\n",
       "| French Polynesia                 | PYF | East Asia and Pacific        | 2019 |  NA |\n",
       "| Greenland                        | GRL | Europe and Central Asia      | 2019 |  NA |\n",
       "| Guam                             | GUM | East Asia and Pacific        | 2019 |  NA |\n",
       "| North Korea                      | PRK | East Asia and Pacific        | 2019 |  NA |\n",
       "| Liechtenstein                    | LIE | Europe and Central Asia      | 2019 |  NA |\n",
       "| Monaco                           | MCO | Europe and Central Asia      | 2019 |  NA |\n",
       "| New Caledonia                    | NCL | East Asia and Pacific        | 2019 |  NA |\n",
       "| Northern Mariana Islands         | MNP | East Asia and Pacific        | 2019 |  NA |\n",
       "| South Sudan                      | SSD | Sub-Saharan Africa           | 2019 |  NA |\n",
       "| Saint Martin                     | MAF | Latin America and Caribbean  | 2019 |  NA |\n",
       "| Venezuela                        | VEN | Latin America and Caribbean  | 2019 |  NA |\n",
       "| Yemen                            | YEM | Middle East and North Africa | 2019 |  NA |\n",
       "\n"
      ],
      "text/plain": [
       "    Country                          Code Region                       Year\n",
       "1   Bermuda                          BMU  North America                2019\n",
       "2   Isle of Man                      IMN  Europe and Central Asia      2019\n",
       "3   Switzerland                      CHE  Europe and Central Asia      2019\n",
       "4   Norway                           NOR  Europe and Central Asia      2019\n",
       "5   Luxembourg                       LUX  Europe and Central Asia      2019\n",
       "6   Iceland                          ISL  Europe and Central Asia      2019\n",
       "7   Faroe Islands                    FRO  Europe and Central Asia      2019\n",
       "8   USA                              USA  North America                2019\n",
       "9   Cayman Islands                   CYM  Latin America and Caribbean  2019\n",
       "10  Ireland                          IRL  Europe and Central Asia      2019\n",
       "11  Denmark                          DNK  Europe and Central Asia      2019\n",
       "12  Qatar                            QAT  Middle East and North Africa 2019\n",
       "13  Singapore                        SGP  East Asia and Pacific        2019\n",
       "14  Sweden                           SWE  Europe and Central Asia      2019\n",
       "15  Australia                        AUS  East Asia and Pacific        2019\n",
       "16  Netherlands                      NLD  Europe and Central Asia      2019\n",
       "17  Austria                          AUT  Europe and Central Asia      2019\n",
       "18  Finland                          FIN  Europe and Central Asia      2019\n",
       "19  Germany                          DEU  Europe and Central Asia      2019\n",
       "20  Belgium                          BEL  Europe and Central Asia      2019\n",
       "21  Canada                           CAN  North America                2019\n",
       "22  Andorra                          AND  Europe and Central Asia      2019\n",
       "23  United Arab Emirates             ARE  Middle East and North Africa 2019\n",
       "24  San Marino                       SMR  Europe and Central Asia      2019\n",
       "25  Israel                           ISR  Middle East and North Africa 2019\n",
       "26  UK                               GBR  Europe and Central Asia      2019\n",
       "27  New Zealand                      NZL  East Asia and Pacific        2019\n",
       "28  France                           FRA  Europe and Central Asia      2019\n",
       "29  Japan                            JPN  East Asia and Pacific        2019\n",
       "30  Italy                            ITA  Europe and Central Asia      2019\n",
       "⋮   ⋮                                ⋮    ⋮                            ⋮   \n",
       "183 Burkina Faso                     BFA  Sub-Saharan Africa           2019\n",
       "184 Gambia                           GMB  Sub-Saharan Africa           2019\n",
       "185 Chad                             TCD  Sub-Saharan Africa           2019\n",
       "186 Liberia                          LBR  Sub-Saharan Africa           2019\n",
       "187 Niger                            NER  Sub-Saharan Africa           2019\n",
       "188 Malawi                           MWI  Sub-Saharan Africa           2019\n",
       "189 Afghanistan                      AFG  South Asia                   2019\n",
       "190 Sierra Leone                     SLE  Sub-Saharan Africa           2019\n",
       "191 Democratic Republic of the Congo COD  Sub-Saharan Africa           2019\n",
       "192 Madagascar                       MDG  Sub-Saharan Africa           2019\n",
       "193 Mozambique                       MOZ  Sub-Saharan Africa           2019\n",
       "194 Central African Republic         CAF  Sub-Saharan Africa           2019\n",
       "195 Somalia                          SOM  Sub-Saharan Africa           2019\n",
       "196 Burundi                          BDI  Sub-Saharan Africa           2019\n",
       "197 American Samoa                   ASM  East Asia and Pacific        2019\n",
       "198 Virgin Islands                   VGB  Latin America and Caribbean  2019\n",
       "199 Jersey                           CHI  Europe and Central Asia      2019\n",
       "200 Eritrea                          ERI  Sub-Saharan Africa           2019\n",
       "201 French Polynesia                 PYF  East Asia and Pacific        2019\n",
       "202 Greenland                        GRL  Europe and Central Asia      2019\n",
       "203 Guam                             GUM  East Asia and Pacific        2019\n",
       "204 North Korea                      PRK  East Asia and Pacific        2019\n",
       "205 Liechtenstein                    LIE  Europe and Central Asia      2019\n",
       "206 Monaco                           MCO  Europe and Central Asia      2019\n",
       "207 New Caledonia                    NCL  East Asia and Pacific        2019\n",
       "208 Northern Mariana Islands         MNP  East Asia and Pacific        2019\n",
       "209 South Sudan                      SSD  Sub-Saharan Africa           2019\n",
       "210 Saint Martin                     MAF  Latin America and Caribbean  2019\n",
       "211 Venezuela                        VEN  Latin America and Caribbean  2019\n",
       "212 Yemen                            YEM  Middle East and North Africa 2019\n",
       "    rGNIpc\n",
       "1   117280\n",
       "2    84490\n",
       "3    83160\n",
       "4    82430\n",
       "5    77500\n",
       "6    72980\n",
       "7    66380\n",
       "8    66130\n",
       "9    65690\n",
       "10   63570\n",
       "11   63140\n",
       "12   61790\n",
       "13   58910\n",
       "14   56470\n",
       "15   54900\n",
       "16   51930\n",
       "17   51020\n",
       "18   49940\n",
       "19   49220\n",
       "20   48110\n",
       "21   46600\n",
       "22   46530\n",
       "23   46210\n",
       "24   44390\n",
       "25   44070\n",
       "26   43380\n",
       "27   43110\n",
       "28   42460\n",
       "29   41970\n",
       "30   34930\n",
       "⋮   ⋮     \n",
       "183 750   \n",
       "184 700   \n",
       "185 690   \n",
       "186 610   \n",
       "187 590   \n",
       "188 550   \n",
       "189 530   \n",
       "190 520   \n",
       "191 510   \n",
       "192 510   \n",
       "193 490   \n",
       "194 470   \n",
       "195 410   \n",
       "196 230   \n",
       "197  NA   \n",
       "198  NA   \n",
       "199  NA   \n",
       "200  NA   \n",
       "201  NA   \n",
       "202  NA   \n",
       "203  NA   \n",
       "204  NA   \n",
       "205  NA   \n",
       "206  NA   \n",
       "207  NA   \n",
       "208  NA   \n",
       "209  NA   \n",
       "210  NA   \n",
       "211  NA   \n",
       "212  NA   "
      ]
     },
     "metadata": {},
     "output_type": "display_data"
    }
   ],
   "source": [
    "csdata <- csdata %>% arrange(desc(rGNIpc))\n",
    "\n",
    "csdata"
   ]
  },
  {
   "cell_type": "markdown",
   "id": "2cf9c939",
   "metadata": {},
   "source": [
    "The dataset contains 212 observations (rows of data) on 5 variables (columns). An observation corresponds to an individual country. Variables are as follows:\n",
    "- `Country` is a categorical (factor) variable identifying the country.\n",
    "- `Code` is a categorical (factor) variable containing the country code - a standard 3-letter identifier of a country. It contains exactly the same information as `Country`, so adds nothing further to the information in the dataset. Nonetheless, in some representations below we will be interested in identifying individual countries in graphs, and the country code may be more compact label for the country than its name. \n",
    "- `Region` is a categorical (factor) variable, identifying a country's region according to the World Bank's standard classification of countries by regions. We will see more about that below. However, the presence of data on region adds a meaningful new dimension to the data as it allows us to represent not only features of the distribution of living standards across the world overall, but also between and within regions.\n",
    "- `Year` lists the year of observation. The variable is inherited from the original panel dataset. However, it equals `2019` for all observations in the cross section. Given the lack of variation, it contains no meaningful information for the purposes of the following representations (aside from the fact that we are looking at distributions in 2019 which we already know). \n",
    "- Finally, `rGNIpc` corresponds to GNI p.c. (PPP) - our main object of interest - and is a numeric variable. It is measured in *2022 international dollars* - a counterfactual currency which is constructed as if 1 international dollar has the same purchasing power in each country (of course, imperfectly).\n",
    "\n",
    "### Summary of key variables\n",
    "\n",
    "To get a feel of the data, let's summarize two of the key variables"
   ]
  },
  {
   "cell_type": "code",
   "execution_count": 6,
   "id": "18e494ca",
   "metadata": {},
   "outputs": [
    {
     "data": {
      "text/html": [
       "<style>\n",
       ".dl-inline {width: auto; margin:0; padding: 0}\n",
       ".dl-inline>dt, .dl-inline>dd {float: none; width: auto; display: inline-block}\n",
       ".dl-inline>dt::after {content: \":\\0020\"; padding-right: .5ex}\n",
       ".dl-inline>dt:not(:first-of-type) {padding-left: .5ex}\n",
       "</style><dl class=dl-inline><dt>East Asia and Pacific</dt><dd>34</dd><dt>Europe and Central Asia</dt><dd>57</dd><dt>Latin America and Caribbean</dt><dd>41</dd><dt>Middle East and North Africa</dt><dd>21</dd><dt>North America</dt><dd>3</dd><dt>South Asia</dt><dd>8</dd><dt>Sub-Saharan Africa</dt><dd>48</dd></dl>\n"
      ],
      "text/latex": [
       "\\begin{description*}\n",
       "\\item[East Asia and Pacific] 34\n",
       "\\item[Europe and Central Asia] 57\n",
       "\\item[Latin America and Caribbean] 41\n",
       "\\item[Middle East and North Africa] 21\n",
       "\\item[North America] 3\n",
       "\\item[South Asia] 8\n",
       "\\item[Sub-Saharan Africa] 48\n",
       "\\end{description*}\n"
      ],
      "text/markdown": [
       "East Asia and Pacific\n",
       ":   34Europe and Central Asia\n",
       ":   57Latin America and Caribbean\n",
       ":   41Middle East and North Africa\n",
       ":   21North America\n",
       ":   3South Asia\n",
       ":   8Sub-Saharan Africa\n",
       ":   48\n",
       "\n"
      ],
      "text/plain": [
       "       East Asia and Pacific      Europe and Central Asia \n",
       "                          34                           57 \n",
       " Latin America and Caribbean Middle East and North Africa \n",
       "                          41                           21 \n",
       "               North America                   South Asia \n",
       "                           3                            8 \n",
       "          Sub-Saharan Africa \n",
       "                          48 "
      ]
     },
     "metadata": {},
     "output_type": "display_data"
    }
   ],
   "source": [
    "summary(csdata$Region)\n"
   ]
  },
  {
   "cell_type": "markdown",
   "id": "ae7fdb20",
   "metadata": {},
   "source": [
    "As we can see countries are categorized into 7 regions based on World Bank's region classification. We can see that different regions include different numbers of countries. For example, there are only three countries in North America (by inspection Bermuda, Canada and the United States). Most countries (57) are in the region of Europe and Central Asia.\n"
   ]
  },
  {
   "cell_type": "code",
   "execution_count": 7,
   "id": "9a32e589",
   "metadata": {},
   "outputs": [
    {
     "data": {
      "text/plain": [
       "   Min. 1st Qu.  Median    Mean 3rd Qu.    Max.    NA's \n",
       "    230    2195    6435   15890   19693  117280      16 "
      ]
     },
     "metadata": {},
     "output_type": "display_data"
    }
   ],
   "source": [
    "summary(csdata$rGNIpc)"
   ]
  },
  {
   "cell_type": "markdown",
   "id": "0803eb79",
   "metadata": {},
   "source": [
    "We can see that GNI per capita is unevenly distributed between countries, ranging from 230 international dollars per year to 117280 international dollars per year. The average GNI per capita in the sample - 15890 - is above the median - 6435. Data is not available for 16 countries."
   ]
  },
  {
   "cell_type": "markdown",
   "id": "93f259ba",
   "metadata": {},
   "source": [
    "### Maps (for fun)\n",
    "\n",
    "Given that the unit of observation is a country, a (possibly) attractive way of visualizing cross-country differences, is through a map. \n",
    "\n",
    "The code below downloads an open-access geographic dataset of country coordinates which we can merge with our current data and produce a map. While the code is short , what happens under the hood is conceptually complex so we will make no attempt to explain the code. If you are interested in learning how to produce maps like this yourself, you can take a look at the discussion on the [`maps` package website](https://cran.r-project.org/web/packages/maps/index.html)."
   ]
  },
  {
   "cell_type": "code",
   "execution_count": 8,
   "id": "9a64b993",
   "metadata": {},
   "outputs": [],
   "source": [
    "# Load world map data from server\n",
    "world <- map_data(\"world\")\n",
    "\n",
    "# Merge world map data with GNI data\n",
    "\n",
    "gnimap.data <- inner_join(world, csdata, by=c(\"region\"=\"Country\"))\n",
    "\n",
    "# Set a simple map theme\n",
    "\n",
    "plainmap <- theme(\n",
    "  axis.text = element_blank(),\n",
    "  axis.line = element_blank(),\n",
    "  axis.ticks = element_blank(),\n",
    "  panel.border = element_blank(),\n",
    "  panel.grid = element_blank(),\n",
    "  axis.title = element_blank(),\n",
    "  panel.background = element_rect(fill = \"white\"),\n",
    "  plot.title = element_text(hjust = 0.5)\n",
    ")"
   ]
  },
  {
   "cell_type": "markdown",
   "id": "26d5a8ee",
   "metadata": {
    "lines_to_next_cell": 0
   },
   "source": [
    "Once we have allocated the merged data into a new dataframe, `gnimap.data`, containing information on both geography and GNI per capita, we can plot a map as follows: "
   ]
  },
  {
   "cell_type": "code",
   "execution_count": 9,
   "id": "835a2b82",
   "metadata": {},
   "outputs": [
    {
     "data": {
      "image/png": "[encoded data removed]",
      "text/plain": [
       "plot without title"
      ]
     },
     "metadata": {
      "image/png": {
       "height": 420,
       "width": 420
      }
     },
     "output_type": "display_data"
    }
   ],
   "source": [
    "\n",
    "ggplot(data = gnimap.data, mapping = aes(x = long, y = lat, group = group)) + \n",
    "  coord_fixed(1.3) +\n",
    "  geom_polygon(aes(fill = rGNIpc)) +\n",
    "  scale_fill_distiller(palette =\"Blues\", direction = -1, name=\"international $\") + \n",
    "  ggtitle(\"GNI per capita, PPP (2019)\") + plainmap"
   ]
  },
  {
   "cell_type": "markdown",
   "id": "4f3ef19e",
   "metadata": {
    "lines_to_next_cell": 0
   },
   "source": [
    "Notice that the colour (shade of blue) of each country corresponds to its GNI p.c. (PPP) as noted in the legend. While a map is an informative way to represent the geographic variation in GNI per capita, there are many aspects of the distribution which are not so easy to observe and would be better visualized later on.\n",
    "\n",
    "For the purposes of understanding our data, we next plot a map showing how the regions in our data (as categorised by the World Bank) are defined:"
   ]
  },
  {
   "cell_type": "code",
   "execution_count": 10,
   "id": "e7d30b3a",
   "metadata": {},
   "outputs": [
    {
     "data": {
      "image/png": "[encoded data removed]",
      "text/plain": [
       "plot without title"
      ]
     },
     "metadata": {
      "image/png": {
       "height": 420,
       "width": 420
      }
     },
     "output_type": "display_data"
    }
   ],
   "source": [
    "ggplot(data = gnimap.data, mapping = aes(x = long, y = lat, group = group)) + \n",
    "  coord_fixed(1.3) +\n",
    "  geom_polygon(aes(fill = Region)) +\n",
    "  ggtitle(\"Regions by World Bank classification\") + plainmap "
   ]
  },
  {
   "cell_type": "markdown",
   "id": "b654c4c6",
   "metadata": {
    "lines_to_next_cell": 0
   },
   "source": [
    "This is all we are going to say about maps at this stage. Before proceeding further, we remove objects that will no longer be needed from the R environment: "
   ]
  },
  {
   "cell_type": "code",
   "execution_count": 12,
   "id": "d1444ccd",
   "metadata": {},
   "outputs": [
    {
     "name": "stderr",
     "output_type": "stream",
     "text": [
      "Warning message in rm(gnimap.data, plainmap, world):\n",
      "\"object 'gnimap.data' not found\"\n",
      "Warning message in rm(gnimap.data, plainmap, world):\n",
      "\"object 'plainmap' not found\"\n",
      "Warning message in rm(gnimap.data, plainmap, world):\n",
      "\"object 'world' not found\"\n"
     ]
    }
   ],
   "source": [
    "# Clean up\n",
    "\n",
    "rm(gnimap.data, plainmap, world)\n"
   ]
  },
  {
   "cell_type": "markdown",
   "id": "3d8fc12e",
   "metadata": {
    "lines_to_next_cell": 0
   },
   "source": [
    "Also, for the purpose of some of the representations later it would be useful to remove observations with missing values of GNI pc from the dataset:"
   ]
  },
  {
   "cell_type": "code",
   "execution_count": 13,
   "id": "b441f794",
   "metadata": {
    "lines_to_next_cell": 0
   },
   "outputs": [],
   "source": [
    "csdata <- subset(csdata, !is.na(rGNIpc))\n"
   ]
  },
  {
   "cell_type": "markdown",
   "id": "d2f771a3",
   "metadata": {
    "lines_to_next_cell": 0
   },
   "source": [
    "Note that this leaves us with a sample of 196 countries from the initial 212.\n",
    "\n",
    "### Histograms\n",
    "\n",
    "A histogram of a random variable is a graph which divides the support of the variable, plotted on the horizontal axis, into a number of equally wide \"bins\", with the height of each bin (on the vertical axis) equal to the number (or fraction) of observations falling into the bin. The histogram is a graphical representation of the distribution function of the variable. \n",
    "\n",
    "Using `ggplot2`, we can produce a histogram of the distribution of GNI per capita across countries as follows "
   ]
  },
  {
   "cell_type": "code",
   "execution_count": 14,
   "id": "588c007d",
   "metadata": {
    "lines_to_next_cell": 0
   },
   "outputs": [
    {
     "data": {
      "image/png": "[encoded data removed]",
      "text/plain": [
       "plot without title"
      ]
     },
     "metadata": {
      "image/png": {
       "height": 420,
       "width": 420
      }
     },
     "output_type": "display_data"
    }
   ],
   "source": [
    "ggplot(csdata, aes(x=rGNIpc)) + \n",
    "  geom_histogram(bins=60, color=\"black\", fill=\"red\", alpha=0.5)+\n",
    "  xlab(\"GNI per capita, PPP (2019)\") + ylab(\"Number of countries\") +\n",
    "  labs(title=\"Histogram\",\n",
    "       subtitle=\"Distribution of real GNI per capita across countries, 2019\")"
   ]
  },
  {
   "cell_type": "markdown",
   "id": "cbd3b333",
   "metadata": {},
   "source": [
    "As can be seen from the histogram above, living standards (as measured by PPP-adjusted GNI per capita) are very unequally distributed across countries. The distribution of GNI p.c. is highly disperse (varying from close to 0 to about 115000 international dollars). In addition, it is strongly positively skewed (i.e., there are much more countries at the left tail of the distribution with few to the right forming a long right tail). Consistently with this positive skewness the mean GNI p.c. (at 15890) is well above the median (at 6435)."
   ]
  },
  {
   "cell_type": "markdown",
   "id": "8b2700fb",
   "metadata": {
    "lines_to_next_cell": 0
   },
   "source": [
    "### Quantiles\n",
    "\n",
    "While a histogram provides a rich description of the distribution of a continuous variable, other types of graphs and tables can visualize better other aspects of the differences between countries in the data.\n",
    "\n",
    "A way to get a quantitative feeling of the dispersion and asymmetry of the distribution is by calculating some of its quantiles:"
   ]
  },
  {
   "cell_type": "code",
   "execution_count": 15,
   "id": "b775f93b",
   "metadata": {},
   "outputs": [
    {
     "data": {
      "text/html": [
       "<style>\n",
       ".dl-inline {width: auto; margin:0; padding: 0}\n",
       ".dl-inline>dt, .dl-inline>dd {float: none; width: auto; display: inline-block}\n",
       ".dl-inline>dt::after {content: \":\\0020\"; padding-right: .5ex}\n",
       ".dl-inline>dt:not(:first-of-type) {padding-left: .5ex}\n",
       "</style><dl class=dl-inline><dt>10%</dt><dd>910</dd><dt>20%</dt><dd>1880</dd><dt>30%</dt><dd>3270</dd><dt>40%</dt><dd>4490</dd><dt>50%</dt><dd>6435</dd><dt>60%</dt><dd>9510</dd><dt>70%</dt><dd>16355</dd><dt>80%</dt><dd>26960</dd><dt>90%</dt><dd>47355</dd></dl>\n"
      ],
      "text/latex": [
       "\\begin{description*}\n",
       "\\item[10\\textbackslash{}\\%] 910\n",
       "\\item[20\\textbackslash{}\\%] 1880\n",
       "\\item[30\\textbackslash{}\\%] 3270\n",
       "\\item[40\\textbackslash{}\\%] 4490\n",
       "\\item[50\\textbackslash{}\\%] 6435\n",
       "\\item[60\\textbackslash{}\\%] 9510\n",
       "\\item[70\\textbackslash{}\\%] 16355\n",
       "\\item[80\\textbackslash{}\\%] 26960\n",
       "\\item[90\\textbackslash{}\\%] 47355\n",
       "\\end{description*}\n"
      ],
      "text/markdown": [
       "10%\n",
       ":   91020%\n",
       ":   188030%\n",
       ":   327040%\n",
       ":   449050%\n",
       ":   643560%\n",
       ":   951070%\n",
       ":   1635580%\n",
       ":   2696090%\n",
       ":   47355\n",
       "\n"
      ],
      "text/plain": [
       "  10%   20%   30%   40%   50%   60%   70%   80%   90% \n",
       "  910  1880  3270  4490  6435  9510 16355 26960 47355 "
      ]
     },
     "metadata": {},
     "output_type": "display_data"
    }
   ],
   "source": [
    "quantile(csdata$rGNIpc,seq(0.1,0.9,0.1))"
   ]
  },
  {
   "cell_type": "markdown",
   "id": "7905dd03",
   "metadata": {
    "lines_to_next_cell": 0
   },
   "source": [
    "We can see, for example, that \n",
    "- 10% of the countries in the dataset have GNI p.c. of no more than 910 international dollars; \n",
    "- 20% of the countries in the dataset have GNI p.c. of no more than 1880 international dollars;\n",
    "- 50% of the countries in the dataset have GNI p.c. of no more than 6435 international dollars (the median).\n",
    "\n",
    "By comparing different quantiles we can obtain a clear numerical sense of the differences between countries at different points of the distribution. \n",
    "\n",
    "### Quantile function\n",
    "\n",
    "While the above table only reports 9 quantiles, in principle we can provide a table of more (for example, 100 quantiles - or percentiles) but so much information would be cumbersome to read in a table. Instead, we may equivalently represent such information graphically.\n",
    "\n",
    "Given a random variable, e.g. GNI per capita (PPP) in 2019, its quantile function is defined as the mapping from $n\\in[0,1]$ to the $n$-th quantile of its distribution. For example, if $q(n)$ is the empirical quantile function for GNI per capita in our data, then given the observations of quantiles above, $q(0.1) = 910$, $q(0.2)=1880$ and $q(0.5)=6435$. Hence, the way to represent graphically all quantiles of the distribution, is by a graph of its quantile function.\n",
    "\n",
    "One way to do this is as follows. First, create a new variable which records the quantile rank in the GNI p.c. distribution for each country (i.e., the quantile of GNI pc where each country is located) "
   ]
  },
  {
   "cell_type": "code",
   "execution_count": 16,
   "id": "a1afb7a1",
   "metadata": {},
   "outputs": [],
   "source": [
    "\n",
    "# Create a variable rGNIpc.rank representing the quantile rank of each country in the distribution of GNI p.c.\n",
    "\n",
    "csdata <- csdata %>% mutate(rGNIpc.rank = rank(rGNIpc)/length(rGNIpc))\n",
    "\n",
    "# (Not essential) Sort country codes by GNI pc \n",
    "\n",
    "csdata$Code <- fct_reorder(csdata$Code,csdata$rGNIpc)\n"
   ]
  },
  {
   "cell_type": "markdown",
   "id": "1684e6fa",
   "metadata": {
    "lines_to_next_cell": 0
   },
   "source": [
    "Next, plot quantile rank of each country against its corresponding GNI per capita (PPP)"
   ]
  },
  {
   "cell_type": "code",
   "execution_count": 17,
   "id": "6fc95ac0",
   "metadata": {},
   "outputs": [
    {
     "data": {
      "image/png": "[encoded data removed]",
      "text/plain": [
       "plot without title"
      ]
     },
     "metadata": {
      "image/png": {
       "height": 420,
       "width": 420
      }
     },
     "output_type": "display_data"
    }
   ],
   "source": [
    "\n",
    "\n",
    "ggplot(csdata, aes(y=rGNIpc, x=rGNIpc.rank)) + \n",
    "  geom_line() +\n",
    "  xlab(\"Quantile rank\") + ylab(\"International dollars\") + labs(title=\"Empirical quantile function\", subtitle = \"GNI per capita (PPP), 2019\")\n"
   ]
  },
  {
   "cell_type": "markdown",
   "id": "71c219cb",
   "metadata": {
    "lines_to_next_cell": 0
   },
   "source": [
    "While above we used `geom_line()` to fit a curve passing through the coordinates of each country. We can make this explicit by instead using points for each country. Doing so, and customizing the graph a bit further yields the following"
   ]
  },
  {
   "cell_type": "code",
   "execution_count": 18,
   "id": "602527e9",
   "metadata": {},
   "outputs": [
    {
     "data": {
      "image/png": "[encoded data removed]",
      "text/plain": [
       "plot without title"
      ]
     },
     "metadata": {
      "image/png": {
       "height": 420,
       "width": 420
      }
     },
     "output_type": "display_data"
    }
   ],
   "source": [
    "ggplot(csdata, aes(y=rGNIpc, x=rGNIpc.rank)) + \n",
    "  geom_point(col=\"tomato\") +\n",
    "  geom_segment(aes(x=rGNIpc.rank, xend=rGNIpc.rank, y=0, yend=rGNIpc), col=\"tomato\") +\n",
    "  geom_text(aes(label=Code), check_overlap = TRUE, angle=90, hjust=-0.5, size=2) + \n",
    "  xlab(\"Quantile rank\") + ylab(\"International dollars\") + labs(title=\"Empirical quantile function\", subtitle = \"GNI per capita (PPP), 2019\")\n"
   ]
  },
  {
   "cell_type": "markdown",
   "id": "8c4c9cc6",
   "metadata": {
    "lines_to_next_cell": 0
   },
   "source": [
    "Relative to a histogram, this representation draws more attention to \"divergence\" of living standards across countries (for example, we can easily see how rich are the richest relative to the poorest).\n",
    "\n",
    "For example, one interesting observation is as follows. Since countries are ordered by quantile rank (from poorest to richest) it is clear that the quantile function will be increasing. However, the empirical quantile function is not only increasing, but  appears to exhibit approximately exponential pattern. To verify this, note that if we plotted the natural logarithm of GNI p.c. (rather than its level) on the vertical axis, we get \"approximately\" linear pattern:"
   ]
  },
  {
   "cell_type": "code",
   "execution_count": 19,
   "id": "02bbc25d",
   "metadata": {},
   "outputs": [
    {
     "data": {
      "image/png": "[encoded data removed]",
      "text/plain": [
       "plot without title"
      ]
     },
     "metadata": {
      "image/png": {
       "height": 420,
       "width": 420
      }
     },
     "output_type": "display_data"
    }
   ],
   "source": [
    "ggplot(csdata, aes(y=log(rGNIpc), x=rGNIpc.rank)) + \n",
    "  geom_point(col=\"tomato\") +\n",
    "  geom_segment(aes(x=rGNIpc.rank, xend=rGNIpc.rank, y=4, yend=log(rGNIpc)), col=\"tomato\") +\n",
    "  geom_text(aes(label=Code), check_overlap = TRUE, angle=90, hjust=-0.5, size=2) + \n",
    "  xlab(\"Quantile rank\") + ylab(\"International dollars\") + labs(title=\"Empirical quantile function\", subtitle = \"GNI per capita (PPP), 2019\")\n"
   ]
  },
  {
   "cell_type": "markdown",
   "id": "b5aa59c8",
   "metadata": {
    "lines_to_next_cell": 0
   },
   "source": [
    "This tells us something fairly specific about the distribution (and in particular its skewness). If we order countries in ascending order of GNI p.c. (PPP), each subsequent country is richer than the previous one by approximately the same proportion (rather than for example, by the same number of international dollars). This is yet another manifestation of the skewness of the distribution, characterised by a long and thinning right tail.  \n",
    "\n",
    "In order to get an idea of how the distribution varies between regions, we can make the colors elements different for different regions of the world:"
   ]
  },
  {
   "cell_type": "code",
   "execution_count": 20,
   "id": "4cdf9aa6",
   "metadata": {},
   "outputs": [
    {
     "data": {
      "image/png": "[encoded data removed]",
      "text/plain": [
       "plot without title"
      ]
     },
     "metadata": {
      "image/png": {
       "height": 420,
       "width": 420
      }
     },
     "output_type": "display_data"
    }
   ],
   "source": [
    "ggplot(csdata, aes(y=rGNIpc, x=rGNIpc.rank, col=Region)) + \n",
    "  geom_point() +\n",
    "  geom_segment(aes(x=rGNIpc.rank, xend=rGNIpc.rank, y=0, yend=rGNIpc)) +\n",
    "  geom_text(aes(label=Code), check_overlap = TRUE, angle=90, hjust=-0.5, size=2) + \n",
    "  xlab(\"Quantile rank\") + ylab(\"International dollars\") + labs(title=\"Empirical quantile function\", subtitle = \"GNI per capita (PPP), 2019\") +   theme(legend.position = c(0.16, 0.7))\n"
   ]
  },
  {
   "cell_type": "markdown",
   "id": "15785ab9",
   "metadata": {
    "lines_to_next_cell": 0
   },
   "source": [
    "The graph shows clear regional differences. For example, there is a large concentration of countries from Sub-Saharan Africa at the lowest quantiles, and countries from North America and Europe and Central Asia in the highest quantiles.\n",
    "\n",
    "### Visualizing distribution within and between regions\n",
    "\n",
    "As already seen there seem to be systematic regional differences with respect to the distribution of GNI p.c. In what follows, we will look at ways to represent the data to understand these differences. \n",
    "\n",
    "To have a clearer point of reference, let's first reorder the levels of the `Region` variable to be in ascending order of the median (per region): "
   ]
  },
  {
   "cell_type": "code",
   "execution_count": 21,
   "id": "44d5be73",
   "metadata": {},
   "outputs": [],
   "source": [
    "# Rearrange region in order of the median GNI pc.\n",
    "csdata$Region <- fct_reorder(csdata$Region,csdata$rGNIpc, .fun = median)"
   ]
  },
  {
   "cell_type": "markdown",
   "id": "2627c954",
   "metadata": {},
   "source": [
    "#### Histograms by region\n",
    "\n",
    "Just like we can plot a histogram for the whole dataset, we can also plot separate histograms for regions:"
   ]
  },
  {
   "cell_type": "code",
   "execution_count": 22,
   "id": "fe99b0fc",
   "metadata": {},
   "outputs": [
    {
     "data": {
      "image/png": "[encoded data removed]",
      "text/plain": [
       "plot without title"
      ]
     },
     "metadata": {
      "image/png": {
       "height": 420,
       "width": 420
      }
     },
     "output_type": "display_data"
    }
   ],
   "source": [
    "ggplot(csdata, aes(x=rGNIpc, fill=Region)) + \n",
    "  geom_histogram(bins=10,color=\"black\", alpha=0.9)+\n",
    "  labs(title=\"Histograms\",\n",
    "       subtitle=\"Distribution of GNI per capita within regions, 2019\") +\n",
    "  xlab(\"GNI per capita, PPP (2019)\") + ylab(\"Number of countries\") +\n",
    "  facet_wrap(Region~., scales=\"free_y\", strip.position = \"bottom\")+theme(legend.position = \"none\")"
   ]
  },
  {
   "cell_type": "markdown",
   "id": "3adccd4d",
   "metadata": {},
   "source": [
    "Note that all histograms have the same horizontal axis, but different scales on the vertical axes. \n",
    "\n",
    "A few things coming out of the graph:\n",
    "- Countries in Sub-Saharan Africa and South Asia tend to have low GNI p.c. relative to other regions.\n",
    "- The three countries in North America - Bermuda, Canada and US have high GNI p.c. \n",
    "- There is quite a bit of dispersion across all regions.\n",
    "\n",
    "#### Dot plots by region\n",
    "\n",
    "Given the relatively small number of observations, an alternative way to represent the same information is through dot plots. Suppose that we measure GNI p.c. on the horizontal axis, draw a separate vertical intercept for each region and plot each country as a point: "
   ]
  },
  {
   "cell_type": "code",
   "execution_count": 23,
   "id": "9abf45ba",
   "metadata": {
    "lines_to_next_cell": 0
   },
   "outputs": [
    {
     "data": {
      "image/png": "[encoded data removed]",
      "text/plain": [
       "plot without title"
      ]
     },
     "metadata": {
      "image/png": {
       "height": 420,
       "width": 420
      }
     },
     "output_type": "display_data"
    }
   ],
   "source": [
    "ggplot(csdata, aes(x=Region, y=rGNIpc)) + \n",
    "  geom_point(aes(col=Region), show.legend=F) +\n",
    "  labs(title=\"Dot plot\", subtitle=\"GNI per capita grouped by regions, 2019\") + \n",
    "  ylab(\"International $\") + xlab(\"\") +  coord_flip()"
   ]
  },
  {
   "cell_type": "markdown",
   "id": "e1943a46",
   "metadata": {},
   "source": [
    "Unlike the histogram, we are not able to clearly see the density of the distribution for different ranges of GNI p.c. (as ranges with many countries contain too many points to differentiate between). For example, while we have 48 countries in Sub-Saharan Africa, most of them are far in the left tail of the distribution, and from the graph it appears as if there are fewer countries. Typically, this type of graph is more useful when we have a small number of observations. Nonetheless, it is still somewhat insightful in the context of our data with 196 observations. One advantage is that GNI p.c. is a continuous variable, and small variations are visible on the dot plot, but not on the histogram (which approximates the continuous distribution through a discrete one). "
   ]
  },
  {
   "cell_type": "markdown",
   "id": "2462cf67",
   "metadata": {},
   "source": [
    "#### Summary statistics by region\n",
    "\n",
    "While histograms and dot plots provide rich representation of the distributions of GNI p.c. within and between regions, they contain too much information, which makes it difficult to gain a more quantitative feel of the regional differences (for example, it is not always easy to compare distributions between regions - given the histogram above are countries in Sub-Saharan Africa typically poorer or richer than in South Asia?). We can gain more quantitative feeling of regional differences by using summary statistics (numbers that summarize key aspects of the distributions such as central tendency and spread) by region. For example, we can obtain the median and mean (measures of central tendency) and standard deviation (measuring the \"spread\") of the distributions of GNI p.c. for the different regions (i.e., *conditional on region*):"
   ]
  },
  {
   "cell_type": "code",
   "execution_count": 24,
   "id": "2837bbc1",
   "metadata": {},
   "outputs": [
    {
     "data": {
      "text/html": [
       "<table class=\"dataframe\">\n",
       "<caption>A tibble: 7 × 4</caption>\n",
       "<thead>\n",
       "\t<tr><th scope=col>Region</th><th scope=col>median</th><th scope=col>mean</th><th scope=col>sd</th></tr>\n",
       "\t<tr><th scope=col>&lt;fct&gt;</th><th scope=col>&lt;dbl&gt;</th><th scope=col>&lt;dbl&gt;</th><th scope=col>&lt;dbl&gt;</th></tr>\n",
       "</thead>\n",
       "<tbody>\n",
       "\t<tr><td>Sub-Saharan Africa          </td><td> 1225</td><td> 2344.13</td><td> 3117.059</td></tr>\n",
       "\t<tr><td>South Asia                  </td><td> 2145</td><td> 3140.00</td><td> 3056.581</td></tr>\n",
       "\t<tr><td>East Asia and Pacific       </td><td> 4680</td><td>13772.50</td><td>17225.044</td></tr>\n",
       "\t<tr><td>Middle East and North Africa</td><td> 7060</td><td>16808.50</td><td>17882.461</td></tr>\n",
       "\t<tr><td>Latin America and Caribbean </td><td> 9070</td><td>13463.42</td><td>12000.976</td></tr>\n",
       "\t<tr><td>Europe and Central Asia     </td><td>19200</td><td>28641.32</td><td>25212.081</td></tr>\n",
       "\t<tr><td>North America               </td><td>66130</td><td>76670.00</td><td>36499.785</td></tr>\n",
       "</tbody>\n",
       "</table>\n"
      ],
      "text/latex": [
       "A tibble: 7 × 4\n",
       "\\begin{tabular}{llll}\n",
       " Region & median & mean & sd\\\\\n",
       " <fct> & <dbl> & <dbl> & <dbl>\\\\\n",
       "\\hline\n",
       "\t Sub-Saharan Africa           &  1225 &  2344.13 &  3117.059\\\\\n",
       "\t South Asia                   &  2145 &  3140.00 &  3056.581\\\\\n",
       "\t East Asia and Pacific        &  4680 & 13772.50 & 17225.044\\\\\n",
       "\t Middle East and North Africa &  7060 & 16808.50 & 17882.461\\\\\n",
       "\t Latin America and Caribbean  &  9070 & 13463.42 & 12000.976\\\\\n",
       "\t Europe and Central Asia      & 19200 & 28641.32 & 25212.081\\\\\n",
       "\t North America                & 66130 & 76670.00 & 36499.785\\\\\n",
       "\\end{tabular}\n"
      ],
      "text/markdown": [
       "\n",
       "A tibble: 7 × 4\n",
       "\n",
       "| Region &lt;fct&gt; | median &lt;dbl&gt; | mean &lt;dbl&gt; | sd &lt;dbl&gt; |\n",
       "|---|---|---|---|\n",
       "| Sub-Saharan Africa           |  1225 |  2344.13 |  3117.059 |\n",
       "| South Asia                   |  2145 |  3140.00 |  3056.581 |\n",
       "| East Asia and Pacific        |  4680 | 13772.50 | 17225.044 |\n",
       "| Middle East and North Africa |  7060 | 16808.50 | 17882.461 |\n",
       "| Latin America and Caribbean  |  9070 | 13463.42 | 12000.976 |\n",
       "| Europe and Central Asia      | 19200 | 28641.32 | 25212.081 |\n",
       "| North America                | 66130 | 76670.00 | 36499.785 |\n",
       "\n"
      ],
      "text/plain": [
       "  Region                       median mean     sd       \n",
       "1 Sub-Saharan Africa            1225   2344.13  3117.059\n",
       "2 South Asia                    2145   3140.00  3056.581\n",
       "3 East Asia and Pacific         4680  13772.50 17225.044\n",
       "4 Middle East and North Africa  7060  16808.50 17882.461\n",
       "5 Latin America and Caribbean   9070  13463.42 12000.976\n",
       "6 Europe and Central Asia      19200  28641.32 25212.081\n",
       "7 North America                66130  76670.00 36499.785"
      ]
     },
     "metadata": {},
     "output_type": "display_data"
    }
   ],
   "source": [
    "csdata %>% group_by(Region) %>% summarize(median=median(rGNIpc), mean=mean(rGNIpc), sd=sd(rGNIpc))\n"
   ]
  },
  {
   "cell_type": "markdown",
   "id": "498d8397",
   "metadata": {},
   "source": [
    "The numbers should be fairly self-explanatory but in any case we can see that there are large differences in living standards across regions. In addition, we can see that distributions are more disperse the richer the region on average.\n",
    "\n",
    "#### Bar charts by region\n",
    "\n",
    "One way to graphically represent key summary statistics (such as the information from the above table) is through bar charts. For example, a bar chart representing the median GNI p.c. by regions can be obtained as follows:"
   ]
  },
  {
   "cell_type": "code",
   "execution_count": 25,
   "id": "d2b7c154",
   "metadata": {
    "lines_to_next_cell": 0
   },
   "outputs": [
    {
     "data": {
      "image/png": "[encoded data removed]",
      "text/plain": [
       "plot without title"
      ]
     },
     "metadata": {
      "image/png": {
       "height": 420,
       "width": 420
      }
     },
     "output_type": "display_data"
    }
   ],
   "source": [
    "ggplot(csdata, aes(y=rGNIpc, x=Region)) + \n",
    "  geom_bar(stat='summary', fun='median', aes(fill=Region), show.legend=F) +   \n",
    "  labs(title=\"Bar chart\",subtitle=\"Median GNI per capita (PPP), 2019\") + \n",
    "  xlab(\"\") + ylab(\"International $\") +\n",
    "  coord_flip()"
   ]
  },
  {
   "cell_type": "markdown",
   "id": "59d3db0e",
   "metadata": {},
   "source": [
    "We can produce similar bar charts for the other summary statistics.\n",
    "\n",
    "#### Box plots by region\n",
    "\n",
    "A somewhat richer representation of regional differences, based on summary statistics, can be obtained by using *box and whisker plots* (also called simply *box plots*). A box plot of GNI p.c. by regions in our data can be obtained as follows: "
   ]
  },
  {
   "cell_type": "code",
   "execution_count": 26,
   "id": "9c5109a2",
   "metadata": {
    "lines_to_next_cell": 0
   },
   "outputs": [
    {
     "data": {
      "image/png": "[encoded data removed]",
      "text/plain": [
       "plot without title"
      ]
     },
     "metadata": {
      "image/png": {
       "height": 420,
       "width": 420
      }
     },
     "output_type": "display_data"
    }
   ],
   "source": [
    "ggplot(csdata, aes(x=Region, y=rGNIpc)) + \n",
    "  geom_boxplot(aes(fill=Region), show.legend=F) +\n",
    "  labs(title=\"Box plot\", subtitle=\"GNI per capita (PPP), 2019\") + \n",
    "  xlab(\"Region\") + ylab(\"International $\") + coord_flip()"
   ]
  },
  {
   "cell_type": "markdown",
   "id": "d730d10a",
   "metadata": {
    "lines_to_next_cell": 0
   },
   "source": [
    "The vertical segments in the middle of the \"boxes\" correspond to the medians of the distributions by region. The boxes span the support from the 25th percentile to the 75th percentile (so 50% of the observations per region lie inside the corresponding box). The horizontal segments around the sides of the boxes are meant to represent parts of the support where observations are relatively common (precise statement of what this means is beyond the scope of the discussion here). The points, represent individual observations (countries) which have \"unusually\" extreme values (outliers).\n",
    "\n",
    "Unlike the bar chart, the box plot allows us to understand not only the central tendency of the conditional-on-region distributions, but also the dispersion, and skewness.\n",
    "\n",
    "#### Categorizing countries by quintiles\n",
    "\n",
    "Another meaningful set of representations can be obtained by categorizing countries into groups according to their ranking in the distribution of GNI p.c. While this certainly leads to some loss of information, it may still be appropriate for representing features of the data that are difficult to achieve with continuous variables, as discussed below.  \n",
    "\n",
    "First, let's create a new variable `qrank.rGNIpc` which assigns countries into a quintile of the global GNI p.c. distribution:"
   ]
  },
  {
   "cell_type": "code",
   "execution_count": 27,
   "id": "5d095af9",
   "metadata": {},
   "outputs": [],
   "source": [
    "csdata <- csdata %>% arrange(rGNIpc)\n",
    "csdata <- csdata %>% mutate(qrank.rGNIpc=ntile(rGNIpc,5))\n",
    "csdata$qrank.rGNIpc <- as.factor(csdata$qrank.rGNIpc)\n",
    "levels(csdata$qrank.rGNIpc) = c(\"0-20%\", \"20-40%\", \"40-60%\", \"60-80%\", \"80-100%\")"
   ]
  },
  {
   "cell_type": "markdown",
   "id": "90627625",
   "metadata": {
    "lines_to_next_cell": 0
   },
   "source": [
    "Now we can characterize the joint distribution of region and GNI p.c. quintile in the form of a two-way table of counts:"
   ]
  },
  {
   "cell_type": "code",
   "execution_count": 28,
   "id": "5c2e6ce3",
   "metadata": {
    "lines_to_next_cell": 0
   },
   "outputs": [
    {
     "data": {
      "text/plain": [
       "                              \n",
       "                               0-20% 20-40% 40-60% 60-80% 80-100%\n",
       "  Sub-Saharan Africa              30      9      5      2       0\n",
       "  South Asia                       3      4      0      1       0\n",
       "  East Asia and Pacific            2     12      4      4       6\n",
       "  Middle East and North Africa     1      8      2      4       5\n",
       "  Latin America and Caribbean      2      3     15     14       4\n",
       "  Europe and Central Asia          2      3     13     14      21\n",
       "  North America                    0      0      0      0       3"
      ]
     },
     "metadata": {},
     "output_type": "display_data"
    }
   ],
   "source": [
    "tab <- table(csdata$Region, csdata$qrank.rGNIpc)\n",
    "tab"
   ]
  },
  {
   "cell_type": "markdown",
   "id": "f1dc5c5f",
   "metadata": {},
   "source": [
    "To understand the meaning of the numbers, a few examples follow\n",
    "\n",
    " - 30 of the countries in our data are in Sub-Saharan Africa and in the bottom quintile of the global GNI p.c. distribution. \n",
    " - 4 of the countries in the data are in East Asia and Pacific region and are in the third quintile of the global GNI p.c. distribution.\n",
    "\n",
    "The same information can be represented in terms of proportions:"
   ]
  },
  {
   "cell_type": "code",
   "execution_count": 29,
   "id": "4ef1bcfe",
   "metadata": {},
   "outputs": [
    {
     "data": {
      "text/plain": [
       "                              \n",
       "                                     0-20%      20-40%      40-60%      60-80%\n",
       "  Sub-Saharan Africa           0.153061224 0.045918367 0.025510204 0.010204082\n",
       "  South Asia                   0.015306122 0.020408163 0.000000000 0.005102041\n",
       "  East Asia and Pacific        0.010204082 0.061224490 0.020408163 0.020408163\n",
       "  Middle East and North Africa 0.005102041 0.040816327 0.010204082 0.020408163\n",
       "  Latin America and Caribbean  0.010204082 0.015306122 0.076530612 0.071428571\n",
       "  Europe and Central Asia      0.010204082 0.015306122 0.066326531 0.071428571\n",
       "  North America                0.000000000 0.000000000 0.000000000 0.000000000\n",
       "                              \n",
       "                                   80-100%\n",
       "  Sub-Saharan Africa           0.000000000\n",
       "  South Asia                   0.000000000\n",
       "  East Asia and Pacific        0.030612245\n",
       "  Middle East and North Africa 0.025510204\n",
       "  Latin America and Caribbean  0.020408163\n",
       "  Europe and Central Asia      0.107142857\n",
       "  North America                0.015306122"
      ]
     },
     "metadata": {},
     "output_type": "display_data"
    }
   ],
   "source": [
    "prop.table(tab)"
   ]
  },
  {
   "cell_type": "markdown",
   "id": "3fc228b9",
   "metadata": {},
   "source": [
    "So, for example,\n",
    "\n",
    " - 15% of the countries in our data are in Sub-Saharan Africa and in the bottom quintile of the global GNI p.c. distribution. \n",
    " - 2% of the countries in the data are in East Asia and Pacific region and are in the third quintile of the global GNI p.c. distribution."
   ]
  },
  {
   "cell_type": "markdown",
   "id": "599e3c6b",
   "metadata": {
    "lines_to_next_cell": 0
   },
   "source": [
    "If we normalize the values in the table so that rows sum to 1, we get a table on the distribution of GNI p.c. quintiles conditional on regions:"
   ]
  },
  {
   "cell_type": "code",
   "execution_count": 30,
   "id": "35e252d7",
   "metadata": {},
   "outputs": [
    {
     "data": {
      "text/plain": [
       "                              \n",
       "                                    0-20%     20-40%     40-60%     60-80%\n",
       "  Sub-Saharan Africa           0.65217391 0.19565217 0.10869565 0.04347826\n",
       "  South Asia                   0.37500000 0.50000000 0.00000000 0.12500000\n",
       "  East Asia and Pacific        0.07142857 0.42857143 0.14285714 0.14285714\n",
       "  Middle East and North Africa 0.05000000 0.40000000 0.10000000 0.20000000\n",
       "  Latin America and Caribbean  0.05263158 0.07894737 0.39473684 0.36842105\n",
       "  Europe and Central Asia      0.03773585 0.05660377 0.24528302 0.26415094\n",
       "  North America                0.00000000 0.00000000 0.00000000 0.00000000\n",
       "                              \n",
       "                                  80-100%\n",
       "  Sub-Saharan Africa           0.00000000\n",
       "  South Asia                   0.00000000\n",
       "  East Asia and Pacific        0.21428571\n",
       "  Middle East and North Africa 0.25000000\n",
       "  Latin America and Caribbean  0.10526316\n",
       "  Europe and Central Asia      0.39622642\n",
       "  North America                1.00000000"
      ]
     },
     "metadata": {},
     "output_type": "display_data"
    }
   ],
   "source": [
    "prop.table(tab,1)\n"
   ]
  },
  {
   "cell_type": "markdown",
   "id": "7e9e0587",
   "metadata": {},
   "source": [
    "So for example, 65% of countries in Sub-Saharan Africa are in the bottom fifth of the global GNI p.c. distribution; additional 20% are in the second quintile, etc. On the other hand, 100% of countries in North America region are in the top fifth of the global GNI p.c. distribution."
   ]
  },
  {
   "cell_type": "markdown",
   "id": "5b8be120",
   "metadata": {},
   "source": [
    "If instead we normalize the values in the table so that columns sum to 1, we get a table on the distribution of regions conditional on quintile of GNI p.c.:"
   ]
  },
  {
   "cell_type": "code",
   "execution_count": 31,
   "id": "6ae0c62a",
   "metadata": {},
   "outputs": [
    {
     "data": {
      "text/plain": [
       "                              \n",
       "                                    0-20%     20-40%     40-60%     60-80%\n",
       "  Sub-Saharan Africa           0.75000000 0.23076923 0.12820513 0.05128205\n",
       "  South Asia                   0.07500000 0.10256410 0.00000000 0.02564103\n",
       "  East Asia and Pacific        0.05000000 0.30769231 0.10256410 0.10256410\n",
       "  Middle East and North Africa 0.02500000 0.20512821 0.05128205 0.10256410\n",
       "  Latin America and Caribbean  0.05000000 0.07692308 0.38461538 0.35897436\n",
       "  Europe and Central Asia      0.05000000 0.07692308 0.33333333 0.35897436\n",
       "  North America                0.00000000 0.00000000 0.00000000 0.00000000\n",
       "                              \n",
       "                                  80-100%\n",
       "  Sub-Saharan Africa           0.00000000\n",
       "  South Asia                   0.00000000\n",
       "  East Asia and Pacific        0.15384615\n",
       "  Middle East and North Africa 0.12820513\n",
       "  Latin America and Caribbean  0.10256410\n",
       "  Europe and Central Asia      0.53846154\n",
       "  North America                0.07692308"
      ]
     },
     "metadata": {},
     "output_type": "display_data"
    }
   ],
   "source": [
    "prop.table(tab,2)\n"
   ]
  },
  {
   "cell_type": "markdown",
   "id": "ed9b6890",
   "metadata": {
    "lines_to_next_cell": 0
   },
   "source": [
    "So for example, 75% of world's poorest countries (i.e., countries in the bottom 20 percent) are in Sub-Saharan Africa. On the other hand, 8% of the world's richest countries (in terms of quintile of global distribution) are in North America.\n",
    "\n",
    "The information from the two-way tables can be equivalently represented in bar charts. For example, the distribution of GNI p.c. quintiles by region (i.e., conditional on regions) can be represented as follows:"
   ]
  },
  {
   "cell_type": "code",
   "execution_count": 32,
   "id": "dc776a8c",
   "metadata": {},
   "outputs": [
    {
     "data": {
      "image/png": "[encoded data removed]",
      "text/plain": [
       "plot without title"
      ]
     },
     "metadata": {
      "image/png": {
       "height": 420,
       "width": 420
      }
     },
     "output_type": "display_data"
    }
   ],
   "source": [
    "ggplot(csdata, aes(x=Region, fill=qrank.rGNIpc)) + \n",
    "  geom_bar(position='dodge', color=\"black\") +\n",
    "  labs(title=\"Bar chart\",subtitle=\"Distribution of countries across GNI quintiles by region, 2019\") + \n",
    "  xlab(\"GNI per capita (PPP) Quintile\") + ylab(\"Number of countries\") "
   ]
  },
  {
   "cell_type": "markdown",
   "id": "759e3de8",
   "metadata": {
    "lines_to_next_cell": 0
   },
   "source": [
    "The distribution of regions across GNI p.c. quintiles can be represented as follows:"
   ]
  },
  {
   "cell_type": "code",
   "execution_count": 33,
   "id": "6ea7aa5e",
   "metadata": {},
   "outputs": [
    {
     "data": {
      "image/png": "[encoded data removed]",
      "text/plain": [
       "plot without title"
      ]
     },
     "metadata": {
      "image/png": {
       "height": 420,
       "width": 420
      }
     },
     "output_type": "display_data"
    }
   ],
   "source": [
    "ggplot(csdata, aes(fill=Region, x=qrank.rGNIpc), na.rm = T) + \n",
    "  geom_bar(position='dodge', color=\"black\") +\n",
    "  labs(title=\"Bar chart\",subtitle=\"Distribution of countries across regions by GNI quintile, 2019\") + \n",
    "  xlab(\"GNI per capita (PPP) Quintile\") + ylab(\"Number of countries\") "
   ]
  },
  {
   "cell_type": "markdown",
   "id": "db5ed5d1",
   "metadata": {
    "lines_to_next_cell": 0
   },
   "source": [
    "Following this let's clean the R environment"
   ]
  },
  {
   "cell_type": "code",
   "execution_count": 34,
   "id": "3a6a3cf5",
   "metadata": {},
   "outputs": [],
   "source": [
    "rm(csdata, tab)"
   ]
  },
  {
   "cell_type": "markdown",
   "id": "e4b1c75e",
   "metadata": {
    "lines_to_next_cell": 0
   },
   "source": [
    "### Representing relationships between continuous variables \n",
    "\n",
    "In the data we use so far the only continuous variable is GNI per capita (PPP). However, we typically work with richer datasets and are often interested in representing the relationship between several continuous variables. \n",
    "\n",
    "To provide some examples of this, we load the dataset from sheet `sc2019_multi` in the `data_ch1.xlsx` Excel file:"
   ]
  },
  {
   "cell_type": "code",
   "execution_count": 35,
   "id": "29bc5558",
   "metadata": {
    "lines_to_next_cell": 0
   },
   "outputs": [
    {
     "data": {
      "text/html": [
       "<table class=\"dataframe\">\n",
       "<caption>A tibble: 6 × 7</caption>\n",
       "<thead>\n",
       "\t<tr><th scope=col>Country</th><th scope=col>Code</th><th scope=col>Year</th><th scope=col>Region</th><th scope=col>rGNIpc</th><th scope=col>LifeExpectancy</th><th scope=col>CO2pc</th></tr>\n",
       "\t<tr><th scope=col>&lt;chr&gt;</th><th scope=col>&lt;chr&gt;</th><th scope=col>&lt;dbl&gt;</th><th scope=col>&lt;chr&gt;</th><th scope=col>&lt;dbl&gt;</th><th scope=col>&lt;dbl&gt;</th><th scope=col>&lt;dbl&gt;</th></tr>\n",
       "</thead>\n",
       "<tbody>\n",
       "\t<tr><td>Afghanistan   </td><td>AFG</td><td>2019</td><td>South Asia                  </td><td>  530</td><td>63.565</td><td>0.2975637</td></tr>\n",
       "\t<tr><td>Albania       </td><td>ALB</td><td>2019</td><td>Europe and Central Asia     </td><td> 5230</td><td>79.282</td><td>1.7494625</td></tr>\n",
       "\t<tr><td>Algeria       </td><td>DZA</td><td>2019</td><td>Middle East and North Africa</td><td> 4050</td><td>76.474</td><td>3.9944018</td></tr>\n",
       "\t<tr><td>American Samoa</td><td>ASM</td><td>2019</td><td>East Asia and Pacific       </td><td>   NA</td><td>    NA</td><td>       NA</td></tr>\n",
       "\t<tr><td>Andorra       </td><td>AND</td><td>2019</td><td>Europe and Central Asia     </td><td>46530</td><td>    NA</td><td>6.2872038</td></tr>\n",
       "\t<tr><td>Angola        </td><td>AGO</td><td>2019</td><td>Sub-Saharan Africa          </td><td> 2040</td><td>62.448</td><td>0.7536382</td></tr>\n",
       "</tbody>\n",
       "</table>\n"
      ],
      "text/latex": [
       "A tibble: 6 × 7\n",
       "\\begin{tabular}{lllllll}\n",
       " Country & Code & Year & Region & rGNIpc & LifeExpectancy & CO2pc\\\\\n",
       " <chr> & <chr> & <dbl> & <chr> & <dbl> & <dbl> & <dbl>\\\\\n",
       "\\hline\n",
       "\t Afghanistan    & AFG & 2019 & South Asia                   &   530 & 63.565 & 0.2975637\\\\\n",
       "\t Albania        & ALB & 2019 & Europe and Central Asia      &  5230 & 79.282 & 1.7494625\\\\\n",
       "\t Algeria        & DZA & 2019 & Middle East and North Africa &  4050 & 76.474 & 3.9944018\\\\\n",
       "\t American Samoa & ASM & 2019 & East Asia and Pacific        &    NA &     NA &        NA\\\\\n",
       "\t Andorra        & AND & 2019 & Europe and Central Asia      & 46530 &     NA & 6.2872038\\\\\n",
       "\t Angola         & AGO & 2019 & Sub-Saharan Africa           &  2040 & 62.448 & 0.7536382\\\\\n",
       "\\end{tabular}\n"
      ],
      "text/markdown": [
       "\n",
       "A tibble: 6 × 7\n",
       "\n",
       "| Country &lt;chr&gt; | Code &lt;chr&gt; | Year &lt;dbl&gt; | Region &lt;chr&gt; | rGNIpc &lt;dbl&gt; | LifeExpectancy &lt;dbl&gt; | CO2pc &lt;dbl&gt; |\n",
       "|---|---|---|---|---|---|---|\n",
       "| Afghanistan    | AFG | 2019 | South Asia                   |   530 | 63.565 | 0.2975637 |\n",
       "| Albania        | ALB | 2019 | Europe and Central Asia      |  5230 | 79.282 | 1.7494625 |\n",
       "| Algeria        | DZA | 2019 | Middle East and North Africa |  4050 | 76.474 | 3.9944018 |\n",
       "| American Samoa | ASM | 2019 | East Asia and Pacific        |    NA |     NA |        NA |\n",
       "| Andorra        | AND | 2019 | Europe and Central Asia      | 46530 |     NA | 6.2872038 |\n",
       "| Angola         | AGO | 2019 | Sub-Saharan Africa           |  2040 | 62.448 | 0.7536382 |\n",
       "\n"
      ],
      "text/plain": [
       "  Country        Code Year Region                       rGNIpc LifeExpectancy\n",
       "1 Afghanistan    AFG  2019 South Asia                     530  63.565        \n",
       "2 Albania        ALB  2019 Europe and Central Asia       5230  79.282        \n",
       "3 Algeria        DZA  2019 Middle East and North Africa  4050  76.474        \n",
       "4 American Samoa ASM  2019 East Asia and Pacific           NA      NA        \n",
       "5 Andorra        AND  2019 Europe and Central Asia      46530      NA        \n",
       "6 Angola         AGO  2019 Sub-Saharan Africa            2040  62.448        \n",
       "  CO2pc    \n",
       "1 0.2975637\n",
       "2 1.7494625\n",
       "3 3.9944018\n",
       "4        NA\n",
       "5 6.2872038\n",
       "6 0.7536382"
      ]
     },
     "metadata": {},
     "output_type": "display_data"
    }
   ],
   "source": [
    "csdata.all <- read_excel(\"data_ch1.xlsx\", sheet=\"cs2019_multi\")\n",
    "head(csdata.all)"
   ]
  },
  {
   "cell_type": "markdown",
   "id": "9eec34ab",
   "metadata": {
    "lines_to_next_cell": 0
   },
   "source": [
    "The new dataframe contains the same cross section of countries in 2019, but in addition to GNI per capita (PPP), includes two additional variables from the World Bank's WMD database for 2019:\n",
    "\n",
    " - `LifeExpectancy`: the average life expectancy at birth for each country\n",
    " - `CO2pc`: the CO2 emissions per capita for each country.\n",
    " \n",
    "#### GNI per capita and Life Expenctancy\n",
    "\n",
    "Let's start by investigating how GNI per capita associates with life expectancy. A convenient way for representing the relationship between two continuous variables is through a scatterplot. In this case this can be a graph with GNI p.c. on the horizontal axis and life expectancy on the vertical axis, with each country's combination of the two variables plotted by a point at the corresponding coordinates:  "
   ]
  },
  {
   "cell_type": "code",
   "execution_count": 36,
   "id": "06bdbbbe",
   "metadata": {},
   "outputs": [
    {
     "name": "stderr",
     "output_type": "stream",
     "text": [
      "Warning message:\n",
      "\"\u001b[1m\u001b[22mRemoved 21 rows containing missing values (`geom_point()`).\"\n"
     ]
    },
    {
     "data": {
      "image/png": "[encoded data removed]",
      "text/plain": [
       "plot without title"
      ]
     },
     "metadata": {
      "image/png": {
       "height": 420,
       "width": 420
      }
     },
     "output_type": "display_data"
    }
   ],
   "source": [
    "ggplot(csdata.all,aes(x=rGNIpc, y=LifeExpectancy)) +\n",
    "  geom_point()"
   ]
  },
  {
   "cell_type": "markdown",
   "id": "1e800e22",
   "metadata": {
    "lines_to_next_cell": 0
   },
   "source": [
    "As we can see, there is a clear positive relationship between GNI per capita and life expectancy. \n",
    "\n",
    "Given the scale of measurement on both axes, the relationship appears to be non-linear. In such cases it is worth checking how changes in the scale of measurement affect the shape of the relationship. To explore this, let's plot the natural log of GNI per capita (PPP) against the natural log of life expectancy: "
   ]
  },
  {
   "cell_type": "code",
   "execution_count": 37,
   "id": "fb2a30e4",
   "metadata": {},
   "outputs": [
    {
     "name": "stderr",
     "output_type": "stream",
     "text": [
      "Warning message:\n",
      "\"\u001b[1m\u001b[22mRemoved 21 rows containing missing values (`geom_point()`).\"\n"
     ]
    },
    {
     "data": {
      "image/png": "[encoded data removed]",
      "text/plain": [
       "plot without title"
      ]
     },
     "metadata": {
      "image/png": {
       "height": 420,
       "width": 420
      }
     },
     "output_type": "display_data"
    }
   ],
   "source": [
    "ggplot(csdata.all,aes(x=log(rGNIpc), y=log(LifeExpectancy))) +\n",
    "  geom_point()"
   ]
  },
  {
   "cell_type": "markdown",
   "id": "5aacc69b",
   "metadata": {
    "lines_to_next_cell": 0
   },
   "source": [
    "As we can see, on logarithmic scales, the relationship appears approximately linear. This indicates that proportional increases in GNI per capita associate with proportional increases in life expectancy. \n",
    "\n",
    "Using the usual syntax we can customize the graph further:"
   ]
  },
  {
   "cell_type": "code",
   "execution_count": 38,
   "id": "7af710bf",
   "metadata": {},
   "outputs": [
    {
     "name": "stderr",
     "output_type": "stream",
     "text": [
      "Warning message:\n",
      "\"\u001b[1m\u001b[22mRemoved 21 rows containing missing values (`geom_point()`).\"\n"
     ]
    },
    {
     "data": {
      "image/png": "[encoded data removed]",
      "text/plain": [
       "plot without title"
      ]
     },
     "metadata": {
      "image/png": {
       "height": 420,
       "width": 420
      }
     },
     "output_type": "display_data"
    }
   ],
   "source": [
    "ggplot(csdata.all,aes(x=log(rGNIpc), y=log(LifeExpectancy))) +\n",
    "  geom_point(col=\"red\") + xlab(\"log(GNI per capita, PPP)\") +\n",
    "  ylab(\"log(Life Expectancy)\") + labs(title=\"Scatterplot\", subtitle=\"GNI per capita and life expecancy, 2019\")"
   ]
  },
  {
   "cell_type": "markdown",
   "id": "8915071f",
   "metadata": {
    "lines_to_next_cell": 0
   },
   "source": [
    "Alternatively, rather than plotting points at the corresponding coordinates, we can instead plot as text the name of the country:"
   ]
  },
  {
   "cell_type": "code",
   "execution_count": 39,
   "id": "782aabf5",
   "metadata": {},
   "outputs": [
    {
     "name": "stderr",
     "output_type": "stream",
     "text": [
      "Warning message:\n",
      "\"\u001b[1m\u001b[22mRemoved 21 rows containing missing values (`geom_text()`).\"\n"
     ]
    },
    {
     "data": {
      "image/png": "[encoded data removed]",
      "text/plain": [
       "plot without title"
      ]
     },
     "metadata": {
      "image/png": {
       "height": 420,
       "width": 420
      }
     },
     "output_type": "display_data"
    }
   ],
   "source": [
    "ggplot(csdata.all,aes(x=log(rGNIpc), y=log(LifeExpectancy),label=Country)) +\n",
    "  geom_text(col=\"red\", check_overlap=TRUE, size=3) + xlab(\"log(GNI per capita, PPP)\") +\n",
    "  ylab(\"log(Life Expectancy)\") + labs(title=\"Scatterplot\", subtitle=\"GNI per capita and life expecancy, 2019\")"
   ]
  },
  {
   "cell_type": "markdown",
   "id": "7d280e3c",
   "metadata": {
    "lines_to_next_cell": 0
   },
   "source": [
    "We can quantify the association by calculating the correlation coefficients between the two pairs of variables\n",
    "\n",
    "- in natural units of measurement"
   ]
  },
  {
   "cell_type": "code",
   "execution_count": 40,
   "id": "94aea248",
   "metadata": {},
   "outputs": [
    {
     "data": {
      "text/html": [
       "0.658977367894325"
      ],
      "text/latex": [
       "0.658977367894325"
      ],
      "text/markdown": [
       "0.658977367894325"
      ],
      "text/plain": [
       "[1] 0.6589774"
      ]
     },
     "metadata": {},
     "output_type": "display_data"
    }
   ],
   "source": [
    "cor(csdata.all$rGNIpc, csdata.all$LifeExpectancy,use=\"complete.obs\")\n"
   ]
  },
  {
   "cell_type": "markdown",
   "id": "4f6fb346",
   "metadata": {
    "lines_to_next_cell": 0
   },
   "source": [
    "- in logs"
   ]
  },
  {
   "cell_type": "code",
   "execution_count": 41,
   "id": "ae3558bd",
   "metadata": {},
   "outputs": [
    {
     "data": {
      "text/html": [
       "0.830650637464006"
      ],
      "text/latex": [
       "0.830650637464006"
      ],
      "text/markdown": [
       "0.830650637464006"
      ],
      "text/plain": [
       "[1] 0.8306506"
      ]
     },
     "metadata": {},
     "output_type": "display_data"
    }
   ],
   "source": [
    "cor(log(csdata.all$rGNIpc), log(csdata.all$LifeExpectancy),use=\"complete.obs\")\n"
   ]
  },
  {
   "cell_type": "markdown",
   "id": "2b4acc5e",
   "metadata": {},
   "source": [
    "In both cases we have high correlations, but especially in terms of log-levels. \n",
    "\n",
    "In summary, we observe that countries with higher GNI per capita tend to also have higher life expectancy. It should be noted, however, that association does not imply causal links. Based on what we observe, we are not able to conclude if higher GNI per capita causes higher life expectancy, or high life expectancy causes high GNI per capita, or if something else varies systematically over countries causing some to have high income and high life expectancy, while others to have low income and low life expectancy. "
   ]
  },
  {
   "cell_type": "markdown",
   "id": "422ca14c",
   "metadata": {
    "lines_to_next_cell": 0
   },
   "source": [
    "#### GNI per capita and CO2 emissions per capita\n",
    "\n",
    "In a similar way we can visualize the association between GNI per capita (PPP) and CO2 emissions per capita:"
   ]
  },
  {
   "cell_type": "code",
   "execution_count": 42,
   "id": "939c19dc",
   "metadata": {
    "lines_to_next_cell": 0
   },
   "outputs": [
    {
     "name": "stderr",
     "output_type": "stream",
     "text": [
      "Warning message:\n",
      "\"\u001b[1m\u001b[22mRemoved 28 rows containing missing values (`geom_point()`).\"\n"
     ]
    },
    {
     "data": {
      "image/png": "[encoded data removed]",
      "text/plain": [
       "plot without title"
      ]
     },
     "metadata": {
      "image/png": {
       "height": 420,
       "width": 420
      }
     },
     "output_type": "display_data"
    }
   ],
   "source": [
    "ggplot(csdata.all,aes(x=log(rGNIpc), y=log(CO2pc), label=Country)) +\n",
    "  geom_point(col=\"tomato2\") + xlab(\"log(GNI per capita)\") +\n",
    "  ylab(\"log(CO2 emissions per capita)\") + labs(title=\"Scatterplot\", subtitle=\"GNI per capita and CO2 emissions\")"
   ]
  },
  {
   "cell_type": "code",
   "execution_count": 43,
   "id": "47b7aca6",
   "metadata": {},
   "outputs": [
    {
     "data": {
      "text/html": [
       "0.872116529707294"
      ],
      "text/latex": [
       "0.872116529707294"
      ],
      "text/markdown": [
       "0.872116529707294"
      ],
      "text/plain": [
       "[1] 0.8721165"
      ]
     },
     "metadata": {},
     "output_type": "display_data"
    }
   ],
   "source": [
    "cor(log(csdata.all$rGNIpc), log(csdata.all$CO2pc),use=\"complete.obs\")\n"
   ]
  },
  {
   "cell_type": "markdown",
   "id": "1e59fc33",
   "metadata": {
    "lines_to_next_cell": 0
   },
   "source": [
    "The association between the two seems to be even more pronounced. Again we can conclude that countries with high GNI per capita (PPP) tend to also have high CO2 emissions per capita.\n",
    "\n",
    "This completes the discussion of cross-sectional data. Next we will turn attention to visualizing time series. Before that let's clean the R environment"
   ]
  },
  {
   "cell_type": "code",
   "execution_count": 44,
   "id": "90cfcc34",
   "metadata": {},
   "outputs": [],
   "source": [
    "rm(csdata.all)"
   ]
  },
  {
   "cell_type": "markdown",
   "id": "fc2a43f7",
   "metadata": {
    "lines_to_next_cell": 0
   },
   "source": [
    "## Representing time-series data: Real GDP per capita in UK over time\n",
    "\n",
    "This section provides examples of representing time-series data. \n",
    "\n",
    "Up until now we have used data on GNI per capita (PPP) from the World Bank's World Development Indicators database. The cross-sectional dataset for 2019 that was used in the previous section, was obtained as from the full panel dataset by only keeping observations for 2019. Similarly, one way in which we can obtain a time-series dataset, is as a subset of the full panel dataset for an individual country only. \n",
    "\n",
    "While this is certainly feasible (and all the below codes can be replicated by using such a dataset) we will choose to use a slightly different dataset instead - namely, a quarterly time-series of UK's real GDP per capita (rather than annual GNI per capita (PPP)) obtained from the Office for National Statistics [here](https://www.ons.gov.uk/economy/grossdomesticproductgdp/timeseries/ihxw/pn2). We do so for several reasons:\n",
    "\n",
    "- Atlas-method PPP-adjusted gross national income per capita is best-suited for comparing living standards between countries, but not so well-suited for understanding the dynamic change of real income within a country. Real GDP per capita is better suited for the latter.\n",
    "- GNI per capita data from the World Bank's WDI is only available annually. Data on real GDP per capita for UK is available at higher frequencies - in partiular, we will use quarterly data - which allows for better understanding of business cyclical fluctuations. \n",
    "\n",
    "The data from ONS has been saved in the `uk_gdppc_qr` sheet of the `data_ch1.xlsx` Excel file. Start by loading the data and printing the first few rows:"
   ]
  },
  {
   "cell_type": "code",
   "execution_count": 45,
   "id": "cf408a13",
   "metadata": {
    "lines_to_next_cell": 0
   },
   "outputs": [
    {
     "data": {
      "text/html": [
       "<table class=\"dataframe\">\n",
       "<caption>A tibble: 6 × 2</caption>\n",
       "<thead>\n",
       "\t<tr><th scope=col>date</th><th scope=col>gdppc</th></tr>\n",
       "\t<tr><th scope=col>&lt;date&gt;</th><th scope=col>&lt;dbl&gt;</th></tr>\n",
       "</thead>\n",
       "<tbody>\n",
       "\t<tr><td>1955-01-01</td><td>2543</td></tr>\n",
       "\t<tr><td>1955-04-01</td><td>2542</td></tr>\n",
       "\t<tr><td>1955-07-01</td><td>2589</td></tr>\n",
       "\t<tr><td>1955-10-01</td><td>2573</td></tr>\n",
       "\t<tr><td>1956-01-01</td><td>2601</td></tr>\n",
       "\t<tr><td>1956-04-01</td><td>2592</td></tr>\n",
       "</tbody>\n",
       "</table>\n"
      ],
      "text/latex": [
       "A tibble: 6 × 2\n",
       "\\begin{tabular}{ll}\n",
       " date & gdppc\\\\\n",
       " <date> & <dbl>\\\\\n",
       "\\hline\n",
       "\t 1955-01-01 & 2543\\\\\n",
       "\t 1955-04-01 & 2542\\\\\n",
       "\t 1955-07-01 & 2589\\\\\n",
       "\t 1955-10-01 & 2573\\\\\n",
       "\t 1956-01-01 & 2601\\\\\n",
       "\t 1956-04-01 & 2592\\\\\n",
       "\\end{tabular}\n"
      ],
      "text/markdown": [
       "\n",
       "A tibble: 6 × 2\n",
       "\n",
       "| date &lt;date&gt; | gdppc &lt;dbl&gt; |\n",
       "|---|---|\n",
       "| 1955-01-01 | 2543 |\n",
       "| 1955-04-01 | 2542 |\n",
       "| 1955-07-01 | 2589 |\n",
       "| 1955-10-01 | 2573 |\n",
       "| 1956-01-01 | 2601 |\n",
       "| 1956-04-01 | 2592 |\n",
       "\n"
      ],
      "text/plain": [
       "  date       gdppc\n",
       "1 1955-01-01 2543 \n",
       "2 1955-04-01 2542 \n",
       "3 1955-07-01 2589 \n",
       "4 1955-10-01 2573 \n",
       "5 1956-01-01 2601 \n",
       "6 1956-04-01 2592 "
      ]
     },
     "metadata": {},
     "output_type": "display_data"
    }
   ],
   "source": [
    "ukgdp <- read_excel(\"data_ch1.xlsx\", sheet=\"uk_gdppc_qr\")\n",
    "ukgdp$date <- as.Date(ukgdp$date)\n",
    "\n",
    "head(ukgdp)\n"
   ]
  },
  {
   "cell_type": "markdown",
   "id": "dd438548",
   "metadata": {},
   "source": [
    "The dataset includes quarterly observations on real GDP per capita from the begining of 1955 until the begining of 2023. There are only two variables: `date` which lists the quarter of the observation, and `gdppc` which gives the value of real GDP per capita measured in 2022 pounds.\n",
    "\n",
    "### Time-series line plots\n",
    "\n",
    "A common way to represent the behaviour of a time-series variable is through a time-series line plot. This is a graph that plots the value of the variable (in our case real GDP per capita) against time"
   ]
  },
  {
   "cell_type": "code",
   "execution_count": 46,
   "id": "f79bac63",
   "metadata": {},
   "outputs": [
    {
     "data": {
      "image/png": "[encoded data removed]",
      "text/plain": [
       "plot without title"
      ]
     },
     "metadata": {
      "image/png": {
       "height": 420,
       "width": 420
      }
     },
     "output_type": "display_data"
    }
   ],
   "source": [
    "ggplot(ukgdp, aes(x=date, y=gdppc)) +\n",
    "  geom_line() "
   ]
  },
  {
   "cell_type": "markdown",
   "id": "a234f66a",
   "metadata": {
    "lines_to_next_cell": 0
   },
   "source": [
    "As usual the graph can be customized. The code below sets a different color and width of the line and adds labels and titles."
   ]
  },
  {
   "cell_type": "code",
   "execution_count": 47,
   "id": "ae65fc39",
   "metadata": {},
   "outputs": [
    {
     "name": "stderr",
     "output_type": "stream",
     "text": [
      "Warning message:\n",
      "\"\u001b[1m\u001b[22mUsing `size` aesthetic for lines was deprecated in ggplot2 3.4.0.\n",
      "\u001b[36mℹ\u001b[39m Please use `linewidth` instead.\"\n"
     ]
    },
    {
     "data": {
      "image/png": "[encoded data removed]",
      "text/plain": [
       "plot without title"
      ]
     },
     "metadata": {
      "image/png": {
       "height": 420,
       "width": 420
      }
     },
     "output_type": "display_data"
    }
   ],
   "source": [
    "ggplot(ukgdp, aes(x=date, y=gdppc)) +\n",
    "  geom_line(col=\"red\", size=1) +\n",
    "  labs(title=\"Time-series line plot\", subtitle = \"Real GDP per capita, quarterly, UK\") +\n",
    "  xlab(\"\") + ylab(\"2022 £s\") "
   ]
  },
  {
   "cell_type": "markdown",
   "id": "81cd2b45",
   "metadata": {
    "lines_to_next_cell": 0
   },
   "source": [
    "Over time real GDP per capita has exhibited an overall positive trend. In terms of 2022 GBP (henceforth £), UK's average quarterly income has more than tripled from £2543 in the first quarter of 1955 to £8213 in the first quarter of 2023. We can also see that this overall growth has not been smooth - GDP fluctuates around trend over sequential periods of *expansions* and *recessions* - something known as the **business cycle**. For example, in the second quarter of 2020 (the through of the 2020 pandemic recession), per capita GDP fell to £6437 - a level last seen in 1998 - from a peak of £8386 two quarters ago.  \n",
    "\n",
    "### Time-series line plots of the log transformation\n",
    "\n",
    "When representing the time path of a growing series over time it is often insightful to plot on a logarithmic scale (i.e., to plot the natural log of the series, rather than the series itself, against time). To see why this is the case, suppose that $Y_t$ denotes GDP per capita, $Y$, at quarter $t$. When we plot $Y_t$ against $t$, the slope of the \"curve\" at any particular point is \n",
    "\n",
    "$$\\frac{\\Delta Y_t}{\\Delta t}\\equiv\\frac{Y_{t+1}-Y_t}{(t+1)-t} = Y_{t+1}-Y_t = \\Delta Y_t$$\n",
    "\n",
    "which is measured in the same units of measurement as the $Y_t$ (i.e., pounds per quarter). Hence, if GDP were to grow at a constant positive growth rate over time, its time path would describe an increasing and convex schedule over time.\n",
    "\n",
    "Suppose that instead we plot the natural logarithm of GDP per capita against time. The slope of this curve at any particular point is instead\n",
    "\n",
    "$$\\frac{\\Delta log(Y_t)}{\\Delta t}=log(Y_{t+1})-log(Y_t)=log\\left(\\frac{Y_{t+1}}{Y_t}\\right)=log\\left(1+\\frac{Y_{t+1}-Y_t}{Y_t}\\right)\\approx \\frac{Y_{t+1}-Y_t}{Y_t}$$\n",
    "\n",
    "which equals the quarterly growth rate (percentage change quarter-on-quarter) of GDP. Hence, if GDP were to grow at a constant positive growth rate over time, the time path of its natural logarithm would describe a linear schedule over time. This allows us to quickly spot if there are systematic changes in growth rates over periods of time. \n",
    "\n",
    "For example, plotting the log of UK's GDP per capita over time"
   ]
  },
  {
   "cell_type": "code",
   "execution_count": 48,
   "id": "fb60045f",
   "metadata": {},
   "outputs": [
    {
     "data": {
      "image/png": "[encoded data removed]",
      "text/plain": [
       "plot without title"
      ]
     },
     "metadata": {
      "image/png": {
       "height": 420,
       "width": 420
      }
     },
     "output_type": "display_data"
    }
   ],
   "source": [
    "ggplot(ukgdp, aes(x=date, y=log(gdppc))) +\n",
    "  geom_line(col=\"red\" ,size=1) +\n",
    "  labs(title=\"Time-series line plot\", subtitle = \"Real GDP per capita, quarterly, UK\") +\n",
    "  xlab(\"\") + ylab(\"log(2022 £s)\")"
   ]
  },
  {
   "cell_type": "markdown",
   "id": "52a54c2c",
   "metadata": {},
   "source": [
    "We observe that the time path described by the log of real GDP per capita is \"approximately\" linear from 1955 to 2007, but afterwards shifts to a lower and flatter linear path. This indicates that real GDP growth rates were \"approximately constant\" from 1955 until the onset of the Great Recession in 2007, but afterwards average growth rates declined.  This slowdown of GDP growth rates is one of the manifestations of a phenomenon known as *UK's productivity slowdown* (although similar patterns have been observed in many other economies for the same time period).\n",
    "\n",
    "One naive but possibly insightful way to visualize this slowdown is to imagine that after 2007 GDP per capita experienced the same growth rate as it did in the prior decades, and to compare the actual series to a *counterfactual* series for real GDP per capita that would have prevailed under the previous growth rates. To do this \n",
    "\n",
    "- first, find the *counterfactual* constant average quarterly growth rate from 1955 to 2007[^3]\n",
    "\n",
    "[^3]: Let $Y_t$ denote quarterly GDP per capita at quarter $t$. Suppose that $Y_t$ grows at a constant growth rate of $g$ per quarter. Then $$Y_{2007,Q1} = Y_{1955,Q1}(1+g)^{(2007-1955)\\times 4 (= \\text{number of quarters from 1955,Q1 to 2007,Q1}) } $$  "
   ]
  },
  {
   "cell_type": "code",
   "execution_count": 49,
   "id": "83f28efa",
   "metadata": {},
   "outputs": [],
   "source": [
    "avegr.preGR<-(ukgdp$gdppc[ukgdp$date==\"2007-01-01\"]/ukgdp$gdppc[ukgdp$date==\"1955-01-01\"])^(1/((2007-1955)*4))-1"
   ]
  },
  {
   "cell_type": "markdown",
   "id": "58e9a484",
   "metadata": {
    "lines_to_next_cell": 0
   },
   "source": [
    "- next, construct a new variable `cfgdppc` which equals to the actual value of GDP per capita in the first quarter of 1955, and then increases by the amount of the average growth rate identified above each subsequent quarter. One (inefficient but transparent) way to do this is using a loop:"
   ]
  },
  {
   "cell_type": "code",
   "execution_count": 50,
   "id": "e68f101e",
   "metadata": {},
   "outputs": [],
   "source": [
    "ukgdp$cfgdppc <- ukgdp$gdppc[ukgdp$date==\"1955-01-01\"]\n",
    "\n",
    "for (i in 1:length(ukgdp$date)){\n",
    "  ukgdp$cfgdppc[i]=ukgdp$cfgdppc[1]*(1+avegr.preGR)^(i-1)\n",
    "}"
   ]
  },
  {
   "cell_type": "markdown",
   "id": "d6575c70",
   "metadata": {
    "lines_to_next_cell": 0
   },
   "source": [
    "- finally, plot both the actual and counterfactual GDP per capita series against time:"
   ]
  },
  {
   "cell_type": "code",
   "execution_count": 51,
   "id": "bbf4f3b2",
   "metadata": {},
   "outputs": [
    {
     "data": {
      "image/png": "[encoded data removed]",
      "text/plain": [
       "plot without title"
      ]
     },
     "metadata": {
      "image/png": {
       "height": 420,
       "width": 420
      }
     },
     "output_type": "display_data"
    }
   ],
   "source": [
    "ggplot(ukgdp) +\n",
    "  geom_line(aes(x=date, y=gdppc, linetype=\"Actual\"), size=1, col=\"red\") +\n",
    "  geom_line(aes(x=date, y=cfgdppc, linetype=\"Pre-2007 trend\"), alpha=0.4, size=1, col=\"blue\") +\n",
    "  labs(title=\"Time-series line plot\", subtitle = \"Real GDP per capita, quarterly, UK\") +\n",
    "  xlab(\"\") + ylab(\"2022 £s\") + labs(linetype=\"\") "
   ]
  },
  {
   "cell_type": "markdown",
   "id": "065cd3d1",
   "metadata": {
    "lines_to_next_cell": 0
   },
   "source": [
    "- or alternatively, the natural logs of the two series against time:"
   ]
  },
  {
   "cell_type": "code",
   "execution_count": 52,
   "id": "bc8e7f7e",
   "metadata": {},
   "outputs": [
    {
     "data": {
      "image/png": "[encoded data removed]",
      "text/plain": [
       "plot without title"
      ]
     },
     "metadata": {
      "image/png": {
       "height": 420,
       "width": 420
      }
     },
     "output_type": "display_data"
    }
   ],
   "source": [
    "ggplot(ukgdp) +\n",
    "  geom_line(aes(x=date, y=log(gdppc), linetype=\"Actual\"),size=1, col=\"red\") +\n",
    "  geom_line(aes(x=date, y=log(cfgdppc), linetype=\"Pre-2007 trend\"), alpha=0.4, col=\"blue\", size=1) +\n",
    "  labs(title=\"Time-series line plot\", subtitle = \"Real GDP per capita, quarterly, UK\") +\n",
    "  xlab(\"\") + ylab(\"log(2022 £s)\") + labs(linetype=\"\") "
   ]
  },
  {
   "cell_type": "markdown",
   "id": "4f0d3f83",
   "metadata": {
    "lines_to_next_cell": 0
   },
   "source": [
    "As we can see the actual series tracks closely the counterfactual one prior to 2007 (indicating approximately constant growth rates over the period) but then diverges sharply from it during the Great Recession and furthermore continues growing at a slower average rate than before.\n",
    "\n",
    "It should be noted that this exercise should be viewed with some skepticism (for a number of reasons but especially) due to the relatively naive way of fitting a trend. This being said there is no uncontroversial way of estimating trends. Furthermore, much more general and sophisticated empirical and theoretical approaches detect a systematic decline in productivity growth in the last decades. Understanding the reasons for the productivity growth decline is a hot topic of debate in economics, and you will learn about this during your studies, but further discussion is beyond the scope of this book.\n",
    "\n",
    "### Recessions\n",
    "\n",
    "As already discussed GDP per capita fluctuates systematically over the business cycle - in some periods it is above trend and in others below trend. In a general sense, periods of significant decline below trend are referred to as recessions. While precise technical definitions of a recession vary across countries, in the UK recessions are technically defined as a period of at least two consecutive quarters of negative GDP growth. When plotting macroeconomic time-series it is common to explicitly visualize periods defined as recessions, and we show how to do this here.\n",
    "\n",
    "First, the sheet `recs` of the `data_ch1.xlsx` Excel file contains data on all recessions in UK from 1955 to 2023 according to the technical definition."
   ]
  },
  {
   "cell_type": "code",
   "execution_count": 53,
   "id": "80a22e2a",
   "metadata": {
    "lines_to_next_cell": 0
   },
   "outputs": [
    {
     "data": {
      "text/html": [
       "<table class=\"dataframe\">\n",
       "<caption>A tibble: 8 × 2</caption>\n",
       "<thead>\n",
       "\t<tr><th scope=col>rec_st</th><th scope=col>rec_en</th></tr>\n",
       "\t<tr><th scope=col>&lt;date&gt;</th><th scope=col>&lt;date&gt;</th></tr>\n",
       "</thead>\n",
       "<tbody>\n",
       "\t<tr><td>1956-04-01</td><td>1956-10-01</td></tr>\n",
       "\t<tr><td>1961-07-01</td><td>1962-01-01</td></tr>\n",
       "\t<tr><td>1973-07-01</td><td>1974-04-01</td></tr>\n",
       "\t<tr><td>1975-04-01</td><td>1975-10-01</td></tr>\n",
       "\t<tr><td>1980-01-01</td><td>1981-04-01</td></tr>\n",
       "\t<tr><td>1990-07-01</td><td>1991-10-01</td></tr>\n",
       "\t<tr><td>2008-04-01</td><td>2009-07-01</td></tr>\n",
       "\t<tr><td>2020-01-01</td><td>2020-07-01</td></tr>\n",
       "</tbody>\n",
       "</table>\n"
      ],
      "text/latex": [
       "A tibble: 8 × 2\n",
       "\\begin{tabular}{ll}\n",
       " rec\\_st & rec\\_en\\\\\n",
       " <date> & <date>\\\\\n",
       "\\hline\n",
       "\t 1956-04-01 & 1956-10-01\\\\\n",
       "\t 1961-07-01 & 1962-01-01\\\\\n",
       "\t 1973-07-01 & 1974-04-01\\\\\n",
       "\t 1975-04-01 & 1975-10-01\\\\\n",
       "\t 1980-01-01 & 1981-04-01\\\\\n",
       "\t 1990-07-01 & 1991-10-01\\\\\n",
       "\t 2008-04-01 & 2009-07-01\\\\\n",
       "\t 2020-01-01 & 2020-07-01\\\\\n",
       "\\end{tabular}\n"
      ],
      "text/markdown": [
       "\n",
       "A tibble: 8 × 2\n",
       "\n",
       "| rec_st &lt;date&gt; | rec_en &lt;date&gt; |\n",
       "|---|---|\n",
       "| 1956-04-01 | 1956-10-01 |\n",
       "| 1961-07-01 | 1962-01-01 |\n",
       "| 1973-07-01 | 1974-04-01 |\n",
       "| 1975-04-01 | 1975-10-01 |\n",
       "| 1980-01-01 | 1981-04-01 |\n",
       "| 1990-07-01 | 1991-10-01 |\n",
       "| 2008-04-01 | 2009-07-01 |\n",
       "| 2020-01-01 | 2020-07-01 |\n",
       "\n"
      ],
      "text/plain": [
       "  rec_st     rec_en    \n",
       "1 1956-04-01 1956-10-01\n",
       "2 1961-07-01 1962-01-01\n",
       "3 1973-07-01 1974-04-01\n",
       "4 1975-04-01 1975-10-01\n",
       "5 1980-01-01 1981-04-01\n",
       "6 1990-07-01 1991-10-01\n",
       "7 2008-04-01 2009-07-01\n",
       "8 2020-01-01 2020-07-01"
      ]
     },
     "metadata": {},
     "output_type": "display_data"
    }
   ],
   "source": [
    "recs <- read_excel(\"data_ch1.xlsx\", sheet=\"recs\")\n",
    "recs$rec_st <- as.Date(recs$rec_st)\n",
    "recs$rec_en <- as.Date(recs$rec_en)\n",
    "\n",
    "recs"
   ]
  },
  {
   "cell_type": "markdown",
   "id": "2ca77327",
   "metadata": {
    "lines_to_next_cell": 0
   },
   "source": [
    "The two variables `rec_st` and `rec_en` list the starting and ending quarter of each of the recessions.\n",
    "\n",
    "Now, by plotting the real GDP per capita series, and adding colored rectangles between corresponding starting and ending dates of recessions we obtain the following plot:"
   ]
  },
  {
   "cell_type": "code",
   "execution_count": 54,
   "id": "dc2c2d18",
   "metadata": {},
   "outputs": [
    {
     "data": {
      "image/png": "[encoded data removed]",
      "text/plain": [
       "plot without title"
      ]
     },
     "metadata": {
      "image/png": {
       "height": 420,
       "width": 420
      }
     },
     "output_type": "display_data"
    }
   ],
   "source": [
    "ggplot(ukgdp) +\n",
    "  geom_line(aes(x=date, y=gdppc), col=\"red\", size=1) +\n",
    "  labs(title=\"Time-series line plot\", subtitle = \"Real GDP per capita, quarterly, UK\") +\n",
    "  xlab(\"\") + ylab(\"2022 £s\") +\n",
    "  geom_rect(data=recs,aes(xmin=rec_st, xmax=rec_en, ymin=-Inf, ymax=+Inf), fill='tomato', alpha=0.2)"
   ]
  },
  {
   "cell_type": "markdown",
   "id": "02041775",
   "metadata": {},
   "source": [
    "As we can see, there have been 8 recessions over the period. Two of the most notable ones are the two most recent - the Great Recession of 2007-2009 and the Covid-19 recession. We can also see that while the Covid-19 recession was associated with the largest quarterly decline in GDP per capita, it was also the shortest among all according to the technical definition."
   ]
  },
  {
   "cell_type": "markdown",
   "id": "00de00cb",
   "metadata": {
    "lines_to_next_cell": 0
   },
   "source": [
    "### Growth rates\n",
    "\n",
    "On many occasions one might be interested in analyzing the dynamic behaviour of the growth rate of GDP per capita, rather than its level. \n",
    "\n",
    "A common way to measure GDP growth rates with quarterly data is in terms of annual percentage changes relative to a year ago[^4]. Let $Y_t$ denote the value of GDP per capita in quarter $t$. Then its annual growth rate relative to year (4 quarters) ago is defined as $$\\frac{Y_t-Y_{t-4}}{Y_{t-4}} $$\n",
    "\n",
    "[^4]: It is also possible to measure it in terms of percentage changes relative to the previous quarter - this would correspond to the quarterly growth rate, which will be on a different scale given the differing lengths of time periods. It is also possible to measure it in terms of \"annualized\" quarterly growth rates.\n",
    "\n",
    "We can create a new variable `gdppc.gr` based on the above:"
   ]
  },
  {
   "cell_type": "code",
   "execution_count": 55,
   "id": "648ea429",
   "metadata": {},
   "outputs": [],
   "source": [
    "ukgdp <- ukgdp %>% mutate(gdppc.gr = (gdppc - lag(gdppc,4))/lag(gdppc,4))"
   ]
  },
  {
   "cell_type": "markdown",
   "id": "0109d8fa",
   "metadata": {
    "lines_to_next_cell": 0
   },
   "source": [
    "Inspecting the data"
   ]
  },
  {
   "cell_type": "code",
   "execution_count": 56,
   "id": "5104ae0c",
   "metadata": {
    "lines_to_next_cell": 0
   },
   "outputs": [
    {
     "data": {
      "text/html": [
       "<table class=\"dataframe\">\n",
       "<caption>A tibble: 6 × 4</caption>\n",
       "<thead>\n",
       "\t<tr><th scope=col>date</th><th scope=col>gdppc</th><th scope=col>cfgdppc</th><th scope=col>gdppc.gr</th></tr>\n",
       "\t<tr><th scope=col>&lt;date&gt;</th><th scope=col>&lt;dbl&gt;</th><th scope=col>&lt;dbl&gt;</th><th scope=col>&lt;dbl&gt;</th></tr>\n",
       "</thead>\n",
       "<tbody>\n",
       "\t<tr><td>1955-01-01</td><td>2543</td><td>2543.000</td><td>        NA</td></tr>\n",
       "\t<tr><td>1955-04-01</td><td>2542</td><td>2556.687</td><td>        NA</td></tr>\n",
       "\t<tr><td>1955-07-01</td><td>2589</td><td>2570.449</td><td>        NA</td></tr>\n",
       "\t<tr><td>1955-10-01</td><td>2573</td><td>2584.284</td><td>        NA</td></tr>\n",
       "\t<tr><td>1956-01-01</td><td>2601</td><td>2598.194</td><td>0.02280771</td></tr>\n",
       "\t<tr><td>1956-04-01</td><td>2592</td><td>2612.178</td><td>0.01966955</td></tr>\n",
       "</tbody>\n",
       "</table>\n"
      ],
      "text/latex": [
       "A tibble: 6 × 4\n",
       "\\begin{tabular}{llll}\n",
       " date & gdppc & cfgdppc & gdppc.gr\\\\\n",
       " <date> & <dbl> & <dbl> & <dbl>\\\\\n",
       "\\hline\n",
       "\t 1955-01-01 & 2543 & 2543.000 &         NA\\\\\n",
       "\t 1955-04-01 & 2542 & 2556.687 &         NA\\\\\n",
       "\t 1955-07-01 & 2589 & 2570.449 &         NA\\\\\n",
       "\t 1955-10-01 & 2573 & 2584.284 &         NA\\\\\n",
       "\t 1956-01-01 & 2601 & 2598.194 & 0.02280771\\\\\n",
       "\t 1956-04-01 & 2592 & 2612.178 & 0.01966955\\\\\n",
       "\\end{tabular}\n"
      ],
      "text/markdown": [
       "\n",
       "A tibble: 6 × 4\n",
       "\n",
       "| date &lt;date&gt; | gdppc &lt;dbl&gt; | cfgdppc &lt;dbl&gt; | gdppc.gr &lt;dbl&gt; |\n",
       "|---|---|---|---|\n",
       "| 1955-01-01 | 2543 | 2543.000 |         NA |\n",
       "| 1955-04-01 | 2542 | 2556.687 |         NA |\n",
       "| 1955-07-01 | 2589 | 2570.449 |         NA |\n",
       "| 1955-10-01 | 2573 | 2584.284 |         NA |\n",
       "| 1956-01-01 | 2601 | 2598.194 | 0.02280771 |\n",
       "| 1956-04-01 | 2592 | 2612.178 | 0.01966955 |\n",
       "\n"
      ],
      "text/plain": [
       "  date       gdppc cfgdppc  gdppc.gr  \n",
       "1 1955-01-01 2543  2543.000         NA\n",
       "2 1955-04-01 2542  2556.687         NA\n",
       "3 1955-07-01 2589  2570.449         NA\n",
       "4 1955-10-01 2573  2584.284         NA\n",
       "5 1956-01-01 2601  2598.194 0.02280771\n",
       "6 1956-04-01 2592  2612.178 0.01966955"
      ]
     },
     "metadata": {},
     "output_type": "display_data"
    }
   ],
   "source": [
    "head(ukgdp)"
   ]
  },
  {
   "cell_type": "markdown",
   "id": "1870bfb0",
   "metadata": {
    "lines_to_next_cell": 0
   },
   "source": [
    "note that observations on the growth rate are missing in the first 4 quarters of the sample, as the levels from 4 quarters ago are not available.\n",
    "\n",
    "Plotting growth rates against time yields the following "
   ]
  },
  {
   "cell_type": "code",
   "execution_count": 57,
   "id": "65f67442",
   "metadata": {},
   "outputs": [
    {
     "name": "stderr",
     "output_type": "stream",
     "text": [
      "Warning message:\n",
      "\"\u001b[1m\u001b[22mRemoved 4 rows containing missing values (`geom_line()`).\"\n"
     ]
    },
    {
     "data": {
      "image/png": "[encoded data removed]",
      "text/plain": [
       "plot without title"
      ]
     },
     "metadata": {
      "image/png": {
       "height": 420,
       "width": 420
      }
     },
     "output_type": "display_data"
    }
   ],
   "source": [
    "ggplot(ukgdp) +\n",
    "  geom_line(aes(x=date, y=gdppc.gr), col=\"red\") +\n",
    "  labs(title=\"Time-series line plot\", subtitle = \"Real GDP growth rate, quarterly, UK\") +\n",
    "  xlab(\"\") + ylab(\"Percentage change on year ago\") +\n",
    "  geom_rect(data=recs,aes(xmin=rec_st, xmax=rec_en, ymin=-Inf, ymax=+Inf), fill='blue', alpha=0.2)"
   ]
  },
  {
   "cell_type": "markdown",
   "id": "7cc74350",
   "metadata": {
    "lines_to_next_cell": 0
   },
   "source": [
    "While this plot is effectively based on the same information as as the plots of the level of GDP per capita above (in the sense that data on levels can be easily transformed into data on percentage changes and vice versa), given the scale of measurement it draws attention different aspects of the series. For example, now we can readily see that in the second quarter of the Covid-19 recession, quarterly GDP per capita had dropped by more than 20 percent relative to a year ago.\n",
    "\n",
    "The size of the quarterly fluctuations surrounding the Covid-19 recessions makes it somewhat difficult to visualize what is happening prior to it. If we replicate the same graph only until the last quarter of 2019"
   ]
  },
  {
   "cell_type": "code",
   "execution_count": 58,
   "id": "b25e13a9",
   "metadata": {},
   "outputs": [
    {
     "name": "stderr",
     "output_type": "stream",
     "text": [
      "Warning message:\n",
      "\"\u001b[1m\u001b[22mRemoved 4 rows containing missing values (`geom_line()`).\"\n"
     ]
    },
    {
     "data": {
      "image/png": "[encoded data removed]",
      "text/plain": [
       "plot without title"
      ]
     },
     "metadata": {
      "image/png": {
       "height": 420,
       "width": 420
      }
     },
     "output_type": "display_data"
    }
   ],
   "source": [
    "ggplot(subset(ukgdp,date<\"2020-01-01\")) +\n",
    "  geom_line(aes(x=date, y=gdppc.gr), col=\"red\") +\n",
    "  labs(title=\"Time-series line plot\", subtitle = \"Real GDP growth rate, quarterly, UK\") +\n",
    "  xlab(\"\") + ylab(\"Percentage change on year ago\") +\n",
    "  geom_rect(data=recs[1:7,],aes(xmin=rec_st, xmax=rec_en, ymin=-Inf, ymax=+Inf), fill='blue', alpha=0.2)"
   ]
  },
  {
   "cell_type": "markdown",
   "id": "97fa2315",
   "metadata": {
    "lines_to_next_cell": 0
   },
   "source": [
    "we can observe more clearly the dynamics of growth rates from 1955 to 2020. \n",
    "\n",
    "One thing that we can see (perhaps not very clearly) is that while there is no clear monotonic trend (as for GDP per capita in levels) typical growth rates after year 2000 tend to be lower than before - this is again the productivity slowdown discussed above. \n",
    "\n",
    "Another thing we can observe is that in some sense growth rates after the 1990s tend to exhibit smaller volatility relative to before. While the Great Recession is a notable exception, it can be noticed that even in periods of expansion, fluctuations were more volatile before some time in the 1990s. This empirical observation is often referred to as the Great Moderation (although, traditionally this term has been used to describe the period from 1990s to the Great Recession, but as we can see volatility has been relatively low in the next decade as well). \n",
    "\n",
    "### Distributions again\n",
    "\n",
    "While this may be obvious, it is worth noting that meaningful representations of time series do not need to involve plotting series over time. In fact, depending on the context any of the tools we have seen in representing cross-sectional data might be useful for illustrating relevant features of time series data.\n",
    "\n",
    "For example, it is clear that while we can plot a histogram of UK's quarterly GDP per capita time series, this will be a meaningless (you can try yourself and reflect on what you see). However, a histogram of the GDP per capita growth rates time series is actually informative: "
   ]
  },
  {
   "cell_type": "code",
   "execution_count": 59,
   "id": "04aa46e6",
   "metadata": {},
   "outputs": [
    {
     "name": "stderr",
     "output_type": "stream",
     "text": [
      "Warning message:\n",
      "\"\u001b[1m\u001b[22mRemoved 4 rows containing non-finite values (`stat_bin()`).\"\n"
     ]
    },
    {
     "data": {
      "image/png": "[encoded data removed]",
      "text/plain": [
       "plot without title"
      ]
     },
     "metadata": {
      "image/png": {
       "height": 420,
       "width": 420
      }
     },
     "output_type": "display_data"
    }
   ],
   "source": [
    "ggplot(ukgdp, aes(x=gdppc.gr)) +\n",
    "  geom_histogram(col=\"black\", fill=\"red\", binwidth=0.01)+\n",
    "  labs(title=\"Histogram\", subtitle = \"Distribution of growth rates\") +\n",
    "  ylab(\"Number of quarters\") + xlab(\"Percentage change on year ago\") "
   ]
  },
  {
   "cell_type": "markdown",
   "id": "16149bd8",
   "metadata": {
    "lines_to_next_cell": 0
   },
   "source": [
    "We can see that during the sample period, annual growth rates of around 1%-2% are most common, growth rates slightwly above or below this are relatively common, larger deviations are increasingly uncommon. It can also be noted that the two most extreme observations (which by inspection occur at the onset and recovery from the Covid-19 recession) appear as extreme outliers based on what one might have expected before. \n",
    "\n",
    "As another example, recall that we have already observed a slowdown of growth over time, as well as a decrease in volatility of fluctuations over time. One way to explore this in terms of summary statistics is by plotting box plots by decade. The code below creates a variable for decade and plots box plots for the decades from 1960s to 2010s (while we observe some data from 1950s and 2020s we have smaller number of observations than in the other decades so these are omitted)"
   ]
  },
  {
   "cell_type": "code",
   "execution_count": 60,
   "id": "caac7e46",
   "metadata": {},
   "outputs": [
    {
     "data": {
      "image/png": "[encoded data removed]",
      "text/plain": [
       "plot without title"
      ]
     },
     "metadata": {
      "image/png": {
       "height": 420,
       "width": 420
      }
     },
     "output_type": "display_data"
    }
   ],
   "source": [
    "ukgdp$year <- as.numeric(format(ukgdp$date, format=\"%Y\"))\n",
    "ukgdp <- ukgdp %>% mutate(decade = floor(year / 10) * 10)\n",
    "ukgdp$decade <- as.factor(ukgdp$decade)\n",
    "levels(ukgdp$decade) <- c(\"1950s\", \"1960s\", \"1970s\", \"1980s\", \"1990s\", \"2000s\", \"2010s\", \"2020s\")\n",
    "\n",
    "ukgdp.trunc <- subset(ukgdp,year<2020&year>1959)\n",
    "\n",
    "ggplot(ukgdp.trunc, aes(x=decade)) +\n",
    "  geom_boxplot(aes(y=gdppc.gr, col=decade)) +\n",
    "  coord_flip() +\n",
    "  geom_hline(aes(yintercept=mean(gdppc.gr, na.rm=TRUE), col=\"Average\"), linetype=\"dashed\", size=1)+\n",
    "  labs(title=\"Box plot\", subtitle = \"Distribution of growth rates by decade\") +\n",
    "  xlab(\"Decade\") + ylab(\"Percentage change on year ago\") + theme(legend.position=\"False\")"
   ]
  },
  {
   "cell_type": "markdown",
   "id": "4dd63178",
   "metadata": {},
   "source": [
    "As we can see, indeed it appears that the distributions of growth rates have shifted leftwards over time (slowdown) and became increasingly less spread out (moderation).\n"
   ]
  },
  {
   "cell_type": "code",
   "execution_count": 62,
   "id": "7b8bcd22",
   "metadata": {},
   "outputs": [
    {
     "name": "stderr",
     "output_type": "stream",
     "text": [
      "Warning message in rm(ukgdp, avegr.preGR, i, ukgdp.trunc, recs):\n",
      "\"object 'ukgdp' not found\"\n",
      "Warning message in rm(ukgdp, avegr.preGR, i, ukgdp.trunc, recs):\n",
      "\"object 'avegr.preGR' not found\"\n",
      "Warning message in rm(ukgdp, avegr.preGR, i, ukgdp.trunc, recs):\n",
      "\"object 'i' not found\"\n",
      "Warning message in rm(ukgdp, avegr.preGR, i, ukgdp.trunc, recs):\n",
      "\"object 'ukgdp.trunc' not found\"\n",
      "Warning message in rm(ukgdp, avegr.preGR, i, ukgdp.trunc, recs):\n",
      "\"object 'recs' not found\"\n"
     ]
    }
   ],
   "source": [
    "rm(ukgdp, avegr.preGR, i, ukgdp.trunc, recs)"
   ]
  },
  {
   "cell_type": "markdown",
   "id": "32ce8b15",
   "metadata": {
    "lines_to_next_cell": 0
   },
   "source": [
    "## Representing panel data: Cross-country differences in living standards over time - convergence and divergence\n",
    "\n",
    "The last section of the chapter uses the full panel dataset to provide examples of representations that use both cross-sectional and time variation. \n",
    "\n",
    "First, load the full panel dataset in long form and prepare for analysis:"
   ]
  },
  {
   "cell_type": "code",
   "execution_count": 63,
   "id": "710d20a0",
   "metadata": {},
   "outputs": [],
   "source": [
    "longdata <- read_excel(\"data_ch1.xlsx\", sheet = \"gnipcppp_long\")\n",
    "\n",
    "longdata$Code <- as.factor(longdata$Code)\n",
    "longdata$Region <- as.factor(longdata$Region)\n",
    "longdata$Country <- as.factor(longdata$Country)"
   ]
  },
  {
   "cell_type": "markdown",
   "id": "f90b7507",
   "metadata": {
    "lines_to_next_cell": 0
   },
   "source": [
    "The first few rows of data look as follows:"
   ]
  },
  {
   "cell_type": "code",
   "execution_count": 64,
   "id": "a4032af9",
   "metadata": {},
   "outputs": [
    {
     "data": {
      "text/html": [
       "<table class=\"dataframe\">\n",
       "<caption>A tibble: 6 × 5</caption>\n",
       "<thead>\n",
       "\t<tr><th scope=col>Country</th><th scope=col>Code</th><th scope=col>Region</th><th scope=col>Year</th><th scope=col>rGNIpc</th></tr>\n",
       "\t<tr><th scope=col>&lt;fct&gt;</th><th scope=col>&lt;fct&gt;</th><th scope=col>&lt;fct&gt;</th><th scope=col>&lt;dbl&gt;</th><th scope=col>&lt;dbl&gt;</th></tr>\n",
       "</thead>\n",
       "<tbody>\n",
       "\t<tr><td>Afghanistan</td><td>AFG</td><td>South Asia</td><td>1973</td><td>NA</td></tr>\n",
       "\t<tr><td>Afghanistan</td><td>AFG</td><td>South Asia</td><td>1974</td><td>NA</td></tr>\n",
       "\t<tr><td>Afghanistan</td><td>AFG</td><td>South Asia</td><td>1975</td><td>NA</td></tr>\n",
       "\t<tr><td>Afghanistan</td><td>AFG</td><td>South Asia</td><td>1976</td><td>NA</td></tr>\n",
       "\t<tr><td>Afghanistan</td><td>AFG</td><td>South Asia</td><td>1977</td><td>NA</td></tr>\n",
       "\t<tr><td>Afghanistan</td><td>AFG</td><td>South Asia</td><td>1978</td><td>NA</td></tr>\n",
       "</tbody>\n",
       "</table>\n"
      ],
      "text/latex": [
       "A tibble: 6 × 5\n",
       "\\begin{tabular}{lllll}\n",
       " Country & Code & Region & Year & rGNIpc\\\\\n",
       " <fct> & <fct> & <fct> & <dbl> & <dbl>\\\\\n",
       "\\hline\n",
       "\t Afghanistan & AFG & South Asia & 1973 & NA\\\\\n",
       "\t Afghanistan & AFG & South Asia & 1974 & NA\\\\\n",
       "\t Afghanistan & AFG & South Asia & 1975 & NA\\\\\n",
       "\t Afghanistan & AFG & South Asia & 1976 & NA\\\\\n",
       "\t Afghanistan & AFG & South Asia & 1977 & NA\\\\\n",
       "\t Afghanistan & AFG & South Asia & 1978 & NA\\\\\n",
       "\\end{tabular}\n"
      ],
      "text/markdown": [
       "\n",
       "A tibble: 6 × 5\n",
       "\n",
       "| Country &lt;fct&gt; | Code &lt;fct&gt; | Region &lt;fct&gt; | Year &lt;dbl&gt; | rGNIpc &lt;dbl&gt; |\n",
       "|---|---|---|---|---|\n",
       "| Afghanistan | AFG | South Asia | 1973 | NA |\n",
       "| Afghanistan | AFG | South Asia | 1974 | NA |\n",
       "| Afghanistan | AFG | South Asia | 1975 | NA |\n",
       "| Afghanistan | AFG | South Asia | 1976 | NA |\n",
       "| Afghanistan | AFG | South Asia | 1977 | NA |\n",
       "| Afghanistan | AFG | South Asia | 1978 | NA |\n",
       "\n"
      ],
      "text/plain": [
       "  Country     Code Region     Year rGNIpc\n",
       "1 Afghanistan AFG  South Asia 1973 NA    \n",
       "2 Afghanistan AFG  South Asia 1974 NA    \n",
       "3 Afghanistan AFG  South Asia 1975 NA    \n",
       "4 Afghanistan AFG  South Asia 1976 NA    \n",
       "5 Afghanistan AFG  South Asia 1977 NA    \n",
       "6 Afghanistan AFG  South Asia 1978 NA    "
      ]
     },
     "metadata": {},
     "output_type": "display_data"
    }
   ],
   "source": [
    "head(longdata)"
   ]
  },
  {
   "cell_type": "markdown",
   "id": "06621a41",
   "metadata": {},
   "source": [
    "An observation (a row of data) is now for country-year pairs. We have data on 212 countries for 50 years (1973-2022), so 10600 (=212x50) observations in total. At this stage it should be clear that panel data allows us to represent both cross-sectional variations across countries at a specific period of time (for example, from the full panel we can obtain a cross section at a specific year, as we did two sections ago) and time-series variations for a specific country (for example, by only keeping data for an individual country, resulting in a time-series data). However, in addition to simply converting our data to an individual cross-section or an individual time series, we can also represent patterns over both countries and time, which we can't do in a simple cross-section or time-series.\n",
    "\n",
    "For example, we can (informally) treat the panel as a set of individual time series for different countries and present time series plots of GNI per capita for sets of countries. The following graph presents a collection of time series for a set of large developed economies"
   ]
  },
  {
   "cell_type": "code",
   "execution_count": 65,
   "id": "70099d3c",
   "metadata": {},
   "outputs": [
    {
     "name": "stderr",
     "output_type": "stream",
     "text": [
      "Warning message:\n",
      "\"\u001b[1m\u001b[22mRemoved 10 rows containing missing values (`geom_line()`).\"\n"
     ]
    },
    {
     "data": {
      "image/png": "[encoded data removed]",
      "text/plain": [
       "plot without title"
      ]
     },
     "metadata": {
      "image/png": {
       "height": 420,
       "width": 420
      }
     },
     "output_type": "display_data"
    }
   ],
   "source": [
    "df <- subset(longdata, Country == \"UK\"|\n",
    "         Country == \"USA\"|\n",
    "         Country == \"Germany\"|\n",
    "         Country == \"France\"|\n",
    "         Country == \"Japan\"|\n",
    "           Country == \"Ireland\"|Country == \"Italy\"|Country==\"Canada\")\n",
    "\n",
    "ggplot(df, aes(x=Year, y=log(rGNIpc), col=Country)) +\n",
    "  geom_line(linewidth=1) +\n",
    "  xlab(\"Year\") + \n",
    "  ylab(\"log(GNI per capita, PPP)\") +\n",
    "  labs(title = \"Time series plot\", subtitle=\"Evolution of GNI per capita across a set of developed economies\")"
   ]
  },
  {
   "cell_type": "markdown",
   "id": "1f98a0d2",
   "metadata": {},
   "source": [
    "We observe that from 1973 to 2022 GNI per capita (PPP) evolved in a fairly similar way. In addition, while differences (in proportional terms given the log scale) were larger in 1970s, they converged over time. This is especially strongly pronounced until around the period of the Great Recession after which some relative divergence relative to the US seems to have occurred. It seems that the productivity slowdown which we documented for UK earlier, also seems to be common across the advanced economies, and the divergence relative to the US could be down to the fact that among these US did not experience a slowdown of the same magnitude (subject to the PPP exchange rate adjustments)."
   ]
  },
  {
   "cell_type": "markdown",
   "id": "65e19b92",
   "metadata": {
    "lines_to_next_cell": 0
   },
   "source": [
    "We can also see that the series fluctuate in a fairly similar way relative to trend [^5] indicating that business cycles in different countries tend to be somewhat synchronized. For example, all countries see declines relative to trend during the early 1980s recessions, the Great Recession, and the Covid-19 recession.  \n",
    "\n",
    "[^5]: It can be noted that the observed series for the US seems to exhibit less fluctuations relative to other countries. This is largely a matter of the way GNI per capita (PPP) series are constructed to convert units of measurement to international US dollars. For this reason series for countries other than US fluctuate with exchange rate fluctuations, while the series for the US does not. \n",
    "\n",
    "On the other hand, if we make a similar plot for a set of fast growing (typically Asian) economies, with the US for reference, we observe the following:"
   ]
  },
  {
   "cell_type": "code",
   "execution_count": 66,
   "id": "6d0af085",
   "metadata": {},
   "outputs": [
    {
     "name": "stderr",
     "output_type": "stream",
     "text": [
      "Warning message:\n",
      "\"\u001b[1m\u001b[22mRemoved 16 rows containing missing values (`geom_line()`).\"\n"
     ]
    },
    {
     "data": {
      "image/png": "[encoded data removed]",
      "text/plain": [
       "plot without title"
      ]
     },
     "metadata": {
      "image/png": {
       "height": 420,
       "width": 420
      }
     },
     "output_type": "display_data"
    }
   ],
   "source": [
    "df <- subset(longdata, Country == \"USA\"|\n",
    "               Country == \"South Korea\"|\n",
    "               Country == \"Singapore\"|\n",
    "               Country == \"China\"|\n",
    "               Country == \"Myanmar\"|\n",
    "               Country == \"Indonesia\"|Country == \"Vietnam\")\n",
    "\n",
    "ggplot(df, aes(x=Year, y=log(rGNIpc), col=Country)) +\n",
    "  geom_line(size=1)+\n",
    "  xlab(\"Year\") + \n",
    "  ylab(\"log(GNI per capita, PPP)\") +\n",
    "  labs(title = \"Time series plot\", subtitle=\"Evolution of GNI per capita across a set of developping economies\")"
   ]
  },
  {
   "cell_type": "markdown",
   "id": "67c2d4d3",
   "metadata": {
    "lines_to_next_cell": 0
   },
   "source": [
    "While these countries had much lower GNI per capita in the 1970s, they experienced faster overall growth relative to advanced economies over the next decades, leading to a decline in the proportional gap in living standards. \n",
    "\n",
    "At this stage it may be natural to conjecture that typically countries with lower income per capita will grow faster than those with higher income per capita, leading to convergence of living standards over time. Based on the above observations this appears sensible, and is sometimes referred to as the *convergence hypothesis*. However, we have to be careful because in its basic form the convergence hypothesis does not account for experiences of other countries. For example, a similar plot for a set of countries in Sub-Saharan Africa, yields"
   ]
  },
  {
   "cell_type": "code",
   "execution_count": 67,
   "id": "51bf4a27",
   "metadata": {},
   "outputs": [
    {
     "name": "stderr",
     "output_type": "stream",
     "text": [
      "Warning message:\n",
      "\"\u001b[1m\u001b[22mRemoved 21 rows containing missing values (`geom_line()`).\"\n"
     ]
    },
    {
     "data": {
      "image/png": "[encoded data removed]",
      "text/plain": [
       "plot without title"
      ]
     },
     "metadata": {
      "image/png": {
       "height": 420,
       "width": 420
      }
     },
     "output_type": "display_data"
    }
   ],
   "source": [
    "df <- subset(longdata, Country == \"USA\"|\n",
    "               Country == \"Democratic Republic of the Congo\"|\n",
    "               Country == \"Zimbabwe\"|\n",
    "               Country == \"Niger\"|\n",
    "               Country == \"Somalia\")\n",
    "\n",
    "ggplot(df, aes(x=Year, y=log(rGNIpc), col=Country)) +\n",
    "  geom_line(size=1)+\n",
    "  xlab(\"Year\") + \n",
    "  ylab(\"log(GNI per capita, PPP)\") +\n",
    "  labs(title = \"Time series plot\", subtitle=\"Evolution of GNI per capita across a set of developed economies\")"
   ]
  },
  {
   "cell_type": "markdown",
   "id": "f5dda477",
   "metadata": {
    "lines_to_next_cell": 0
   },
   "source": [
    "While the chosen countries had much lower per capita income than US in the beginning of the period, over time living standards have not only not converged, but arguably diverged. \n",
    "\n",
    "To understand the pattern of convergence/divergence further, it may be useful to examine the association between countries' GNI per capita in 1973 and their typical growth rates over the next decades. To do so, first, let's calculate each country's \"typical\" growth rate form from 1973 to 2019 (not until 2022 to disregard the effects of the Covid-19 recession). There could be different ways to define \"typical\". A sensible one is as the counterfactual constant annual growth rate that would have led to the economy growing from its level in 1973 to 2019 (see the previous section). Let $Y_{i,t}$ be country $i$'s GNI per capita (PPP) in year $t$. Then if $Y_{i,t}$ grew at a constant annual rate of $g_{i}$ then \n",
    "\n",
    "$$Y_{i,2019} = Y_{i,1973}\\times(1+g_{i})^{46} \\Rightarrow g_{i} = \\left(\\frac{Y_{i,2019}}{Y_{i,1973}}\\right)^{1/46}-1 $$\n",
    " \n",
    "Construct a new varible equal to the \"typical growth rate\" from 1973 to 2019: "
   ]
  },
  {
   "cell_type": "code",
   "execution_count": 68,
   "id": "04736bbf",
   "metadata": {},
   "outputs": [],
   "source": [
    "longdata<-longdata %>% group_by(Country) %>% mutate(rGNIpc.gr = (rGNIpc[Year==2019]/rGNIpc[Year==1973])^(1/46)-1)"
   ]
  },
  {
   "cell_type": "markdown",
   "id": "d2766c4c",
   "metadata": {
    "lines_to_next_cell": 0
   },
   "source": [
    "Now, keep only one observation from 1973 for each country:"
   ]
  },
  {
   "cell_type": "code",
   "execution_count": 69,
   "id": "1919c14d",
   "metadata": {
    "lines_to_next_cell": 0
   },
   "outputs": [],
   "source": [
    "df<-longdata %>% group_by(Country) %>% filter(Year==1973&!is.na(rGNIpc.gr))"
   ]
  },
  {
   "cell_type": "markdown",
   "id": "b6677389",
   "metadata": {
    "lines_to_next_cell": 0
   },
   "source": [
    "Note that we are left with only 97 countries, as for the others data on GNI p.c. for either 1973 or 2019 was missing.\n",
    "\n",
    "The data we are using now is presented below:"
   ]
  },
  {
   "cell_type": "code",
   "execution_count": 70,
   "id": "6da5db80",
   "metadata": {
    "lines_to_next_cell": 0
   },
   "outputs": [
    {
     "data": {
      "text/html": [
       "<table class=\"dataframe\">\n",
       "<caption>A grouped_df: 97 × 6</caption>\n",
       "<thead>\n",
       "\t<tr><th scope=col>Country</th><th scope=col>Code</th><th scope=col>Region</th><th scope=col>Year</th><th scope=col>rGNIpc</th><th scope=col>rGNIpc.gr</th></tr>\n",
       "\t<tr><th scope=col>&lt;fct&gt;</th><th scope=col>&lt;fct&gt;</th><th scope=col>&lt;fct&gt;</th><th scope=col>&lt;dbl&gt;</th><th scope=col>&lt;dbl&gt;</th><th scope=col>&lt;dbl&gt;</th></tr>\n",
       "</thead>\n",
       "<tbody>\n",
       "\t<tr><td>Madagascar              </td><td>MDG</td><td>Sub-Saharan Africa          </td><td>1973</td><td> 210</td><td>0.01947644</td></tr>\n",
       "\t<tr><td>Sierra Leone            </td><td>SLE</td><td>Sub-Saharan Africa          </td><td>1973</td><td> 190</td><td>0.02212834</td></tr>\n",
       "\t<tr><td>Zimbabwe                </td><td>ZWE</td><td>Sub-Saharan Africa          </td><td>1973</td><td> 520</td><td>0.02254361</td></tr>\n",
       "\t<tr><td>Burundi                 </td><td>BDI</td><td>Sub-Saharan Africa          </td><td>1973</td><td>  80</td><td>0.02322322</td></tr>\n",
       "\t<tr><td>Zambia                  </td><td>ZMB</td><td>Sub-Saharan Africa          </td><td>1973</td><td> 450</td><td>0.02482067</td></tr>\n",
       "\t<tr><td>Somalia                 </td><td>SOM</td><td>Sub-Saharan Africa          </td><td>1973</td><td> 120</td><td>0.02707003</td></tr>\n",
       "\t<tr><td>Central African Republic</td><td>CAF</td><td>Sub-Saharan Africa          </td><td>1973</td><td> 120</td><td>0.03012397</td></tr>\n",
       "\t<tr><td>Niger                   </td><td>NER</td><td>Sub-Saharan Africa          </td><td>1973</td><td> 150</td><td>0.03021906</td></tr>\n",
       "\t<tr><td>Togo                    </td><td>TGO</td><td>Sub-Saharan Africa          </td><td>1973</td><td> 220</td><td>0.03059554</td></tr>\n",
       "\t<tr><td>Senegal                 </td><td>SEN</td><td>Sub-Saharan Africa          </td><td>1973</td><td> 360</td><td>0.03090462</td></tr>\n",
       "\t<tr><td>Chad                    </td><td>TCD</td><td>Sub-Saharan Africa          </td><td>1973</td><td> 160</td><td>0.03228225</td></tr>\n",
       "\t<tr><td>Guinea-Bissau           </td><td>GNB</td><td>Sub-Saharan Africa          </td><td>1973</td><td> 160</td><td>0.03503723</td></tr>\n",
       "\t<tr><td>Nicaragua               </td><td>NIC</td><td>Latin America and Caribbean </td><td>1973</td><td> 380</td><td>0.03536884</td></tr>\n",
       "\t<tr><td>Mauritania              </td><td>MRT</td><td>Sub-Saharan Africa          </td><td>1973</td><td> 350</td><td>0.03611597</td></tr>\n",
       "\t<tr><td>Sudan                   </td><td>SDN</td><td>Sub-Saharan Africa          </td><td>1973</td><td> 180</td><td>0.03658651</td></tr>\n",
       "\t<tr><td>Jamaica                 </td><td>JAM</td><td>Latin America and Caribbean </td><td>1973</td><td>1030</td><td>0.03708839</td></tr>\n",
       "\t<tr><td>South Africa            </td><td>ZAF</td><td>Sub-Saharan Africa          </td><td>1973</td><td>1250</td><td>0.03727423</td></tr>\n",
       "\t<tr><td>Gambia                  </td><td>GMB</td><td>Sub-Saharan Africa          </td><td>1973</td><td> 130</td><td>0.03727681</td></tr>\n",
       "\t<tr><td>Iran                    </td><td>IRN</td><td>Middle East and North Africa</td><td>1973</td><td> 720</td><td>0.03798177</td></tr>\n",
       "\t<tr><td>Argentina               </td><td>ARG</td><td>Latin America and Caribbean </td><td>1973</td><td>1820</td><td>0.04033260</td></tr>\n",
       "\t<tr><td>Republic of Congo       </td><td>COG</td><td>Sub-Saharan Africa          </td><td>1973</td><td> 320</td><td>0.04041559</td></tr>\n",
       "\t<tr><td>Ivory Coast             </td><td>CIV</td><td>Sub-Saharan Africa          </td><td>1973</td><td> 360</td><td>0.04094262</td></tr>\n",
       "\t<tr><td>Papua New Guinea        </td><td>PNG</td><td>East Asia and Pacific       </td><td>1973</td><td> 390</td><td>0.04130621</td></tr>\n",
       "\t<tr><td>Burkina Faso            </td><td>BFA</td><td>Sub-Saharan Africa          </td><td>1973</td><td> 110</td><td>0.04261323</td></tr>\n",
       "\t<tr><td>Cameroon                </td><td>CMR</td><td>Sub-Saharan Africa          </td><td>1973</td><td> 220</td><td>0.04320989</td></tr>\n",
       "\t<tr><td>Algeria                 </td><td>DZA</td><td>Middle East and North Africa</td><td>1973</td><td> 570</td><td>0.04354844</td></tr>\n",
       "\t<tr><td>Ghana                   </td><td>GHA</td><td>Sub-Saharan Africa          </td><td>1973</td><td> 290</td><td>0.04451318</td></tr>\n",
       "\t<tr><td>Honduras                </td><td>HND</td><td>Latin America and Caribbean </td><td>1973</td><td> 310</td><td>0.04482451</td></tr>\n",
       "\t<tr><td>Gabon                   </td><td>GAB</td><td>Sub-Saharan Africa          </td><td>1973</td><td> 890</td><td>0.04569308</td></tr>\n",
       "\t<tr><td>Tunisia                 </td><td>TUN</td><td>Middle East and North Africa</td><td>1973</td><td> 450</td><td>0.04586038</td></tr>\n",
       "\t<tr><td>⋮</td><td>⋮</td><td>⋮</td><td>⋮</td><td>⋮</td><td>⋮</td></tr>\n",
       "\t<tr><td>Portugal          </td><td>PRT</td><td>Europe and Central Asia     </td><td>1973</td><td>1700</td><td>0.05846076</td></tr>\n",
       "\t<tr><td>Colombia          </td><td>COL</td><td>Latin America and Caribbean </td><td>1973</td><td> 470</td><td>0.05908341</td></tr>\n",
       "\t<tr><td>Panama            </td><td>PAN</td><td>Latin America and Caribbean </td><td>1973</td><td>1090</td><td>0.05936316</td></tr>\n",
       "\t<tr><td>Austria           </td><td>AUT</td><td>Europe and Central Asia     </td><td>1973</td><td>3580</td><td>0.05945827</td></tr>\n",
       "\t<tr><td>Spain             </td><td>ESP</td><td>Europe and Central Asia     </td><td>1973</td><td>2090</td><td>0.05989843</td></tr>\n",
       "\t<tr><td>India             </td><td>IND</td><td>South Asia                  </td><td>1973</td><td> 140</td><td>0.06041742</td></tr>\n",
       "\t<tr><td>Luxembourg        </td><td>LUX</td><td>Europe and Central Asia     </td><td>1973</td><td>5200</td><td>0.06048978</td></tr>\n",
       "\t<tr><td>Guyana            </td><td>GUY</td><td>Latin America and Caribbean </td><td>1973</td><td> 430</td><td>0.06081611</td></tr>\n",
       "\t<tr><td>Turkey            </td><td>TUR</td><td>Europe and Central Asia     </td><td>1973</td><td> 640</td><td>0.06085322</td></tr>\n",
       "\t<tr><td>Nepal             </td><td>NPL</td><td>South Asia                  </td><td>1973</td><td>  80</td><td>0.06101924</td></tr>\n",
       "\t<tr><td>Saudi Arabia      </td><td>SAU</td><td>Middle East and North Africa</td><td>1973</td><td>1510</td><td>0.06117150</td></tr>\n",
       "\t<tr><td>Dominican Republic</td><td>DOM</td><td>Latin America and Caribbean </td><td>1973</td><td> 520</td><td>0.06119311</td></tr>\n",
       "\t<tr><td>Norway            </td><td>NOR</td><td>Europe and Central Asia     </td><td>1973</td><td>5320</td><td>0.06138597</td></tr>\n",
       "\t<tr><td>Costa Rica        </td><td>CRI</td><td>Latin America and Caribbean </td><td>1973</td><td> 750</td><td>0.06220402</td></tr>\n",
       "\t<tr><td>Uruguay           </td><td>URY</td><td>Latin America and Caribbean </td><td>1973</td><td>1050</td><td>0.06393879</td></tr>\n",
       "\t<tr><td>Botswana          </td><td>BWA</td><td>Sub-Saharan Africa          </td><td>1973</td><td> 370</td><td>0.06474573</td></tr>\n",
       "\t<tr><td>Malaysia          </td><td>MYS</td><td>East Asia and Pacific       </td><td>1973</td><td> 600</td><td>0.06519072</td></tr>\n",
       "\t<tr><td>Bangladesh        </td><td>BGD</td><td>South Asia                  </td><td>1973</td><td> 120</td><td>0.06538012</td></tr>\n",
       "\t<tr><td>Sri Lanka         </td><td>LKA</td><td>South Asia                  </td><td>1973</td><td> 210</td><td>0.06740225</td></tr>\n",
       "\t<tr><td>Malta             </td><td>MLT</td><td>Middle East and North Africa</td><td>1973</td><td>1260</td><td>0.07085085</td></tr>\n",
       "\t<tr><td>Ireland           </td><td>IRL</td><td>Europe and Central Asia     </td><td>1973</td><td>2540</td><td>0.07250766</td></tr>\n",
       "\t<tr><td>Seychelles        </td><td>SYC</td><td>Sub-Saharan Africa          </td><td>1973</td><td> 630</td><td>0.07305241</td></tr>\n",
       "\t<tr><td>Thailand          </td><td>THA</td><td>East Asia and Pacific       </td><td>1973</td><td> 270</td><td>0.07359540</td></tr>\n",
       "\t<tr><td>Saint Vincent     </td><td>VCT</td><td>Latin America and Caribbean </td><td>1973</td><td> 280</td><td>0.07740081</td></tr>\n",
       "\t<tr><td>Singapore         </td><td>SGP</td><td>East Asia and Pacific       </td><td>1973</td><td>1600</td><td>0.08154596</td></tr>\n",
       "\t<tr><td>Indonesia         </td><td>IDN</td><td>East Asia and Pacific       </td><td>1973</td><td> 110</td><td>0.08166142</td></tr>\n",
       "\t<tr><td>Oman              </td><td>OMN</td><td>Middle East and North Africa</td><td>1973</td><td> 340</td><td>0.08986721</td></tr>\n",
       "\t<tr><td>China             </td><td>CHN</td><td>East Asia and Pacific       </td><td>1973</td><td> 160</td><td>0.09478566</td></tr>\n",
       "\t<tr><td>Myanmar           </td><td>MMR</td><td>East Asia and Pacific       </td><td>1973</td><td>  20</td><td>0.09499254</td></tr>\n",
       "\t<tr><td>South Korea       </td><td>KOR</td><td>East Asia and Pacific       </td><td>1973</td><td> 430</td><td>0.09954694</td></tr>\n",
       "</tbody>\n",
       "</table>\n"
      ],
      "text/latex": [
       "A grouped\\_df: 97 × 6\n",
       "\\begin{tabular}{llllll}\n",
       " Country & Code & Region & Year & rGNIpc & rGNIpc.gr\\\\\n",
       " <fct> & <fct> & <fct> & <dbl> & <dbl> & <dbl>\\\\\n",
       "\\hline\n",
       "\t Madagascar               & MDG & Sub-Saharan Africa           & 1973 &  210 & 0.01947644\\\\\n",
       "\t Sierra Leone             & SLE & Sub-Saharan Africa           & 1973 &  190 & 0.02212834\\\\\n",
       "\t Zimbabwe                 & ZWE & Sub-Saharan Africa           & 1973 &  520 & 0.02254361\\\\\n",
       "\t Burundi                  & BDI & Sub-Saharan Africa           & 1973 &   80 & 0.02322322\\\\\n",
       "\t Zambia                   & ZMB & Sub-Saharan Africa           & 1973 &  450 & 0.02482067\\\\\n",
       "\t Somalia                  & SOM & Sub-Saharan Africa           & 1973 &  120 & 0.02707003\\\\\n",
       "\t Central African Republic & CAF & Sub-Saharan Africa           & 1973 &  120 & 0.03012397\\\\\n",
       "\t Niger                    & NER & Sub-Saharan Africa           & 1973 &  150 & 0.03021906\\\\\n",
       "\t Togo                     & TGO & Sub-Saharan Africa           & 1973 &  220 & 0.03059554\\\\\n",
       "\t Senegal                  & SEN & Sub-Saharan Africa           & 1973 &  360 & 0.03090462\\\\\n",
       "\t Chad                     & TCD & Sub-Saharan Africa           & 1973 &  160 & 0.03228225\\\\\n",
       "\t Guinea-Bissau            & GNB & Sub-Saharan Africa           & 1973 &  160 & 0.03503723\\\\\n",
       "\t Nicaragua                & NIC & Latin America and Caribbean  & 1973 &  380 & 0.03536884\\\\\n",
       "\t Mauritania               & MRT & Sub-Saharan Africa           & 1973 &  350 & 0.03611597\\\\\n",
       "\t Sudan                    & SDN & Sub-Saharan Africa           & 1973 &  180 & 0.03658651\\\\\n",
       "\t Jamaica                  & JAM & Latin America and Caribbean  & 1973 & 1030 & 0.03708839\\\\\n",
       "\t South Africa             & ZAF & Sub-Saharan Africa           & 1973 & 1250 & 0.03727423\\\\\n",
       "\t Gambia                   & GMB & Sub-Saharan Africa           & 1973 &  130 & 0.03727681\\\\\n",
       "\t Iran                     & IRN & Middle East and North Africa & 1973 &  720 & 0.03798177\\\\\n",
       "\t Argentina                & ARG & Latin America and Caribbean  & 1973 & 1820 & 0.04033260\\\\\n",
       "\t Republic of Congo        & COG & Sub-Saharan Africa           & 1973 &  320 & 0.04041559\\\\\n",
       "\t Ivory Coast              & CIV & Sub-Saharan Africa           & 1973 &  360 & 0.04094262\\\\\n",
       "\t Papua New Guinea         & PNG & East Asia and Pacific        & 1973 &  390 & 0.04130621\\\\\n",
       "\t Burkina Faso             & BFA & Sub-Saharan Africa           & 1973 &  110 & 0.04261323\\\\\n",
       "\t Cameroon                 & CMR & Sub-Saharan Africa           & 1973 &  220 & 0.04320989\\\\\n",
       "\t Algeria                  & DZA & Middle East and North Africa & 1973 &  570 & 0.04354844\\\\\n",
       "\t Ghana                    & GHA & Sub-Saharan Africa           & 1973 &  290 & 0.04451318\\\\\n",
       "\t Honduras                 & HND & Latin America and Caribbean  & 1973 &  310 & 0.04482451\\\\\n",
       "\t Gabon                    & GAB & Sub-Saharan Africa           & 1973 &  890 & 0.04569308\\\\\n",
       "\t Tunisia                  & TUN & Middle East and North Africa & 1973 &  450 & 0.04586038\\\\\n",
       "\t ⋮ & ⋮ & ⋮ & ⋮ & ⋮ & ⋮\\\\\n",
       "\t Portugal           & PRT & Europe and Central Asia      & 1973 & 1700 & 0.05846076\\\\\n",
       "\t Colombia           & COL & Latin America and Caribbean  & 1973 &  470 & 0.05908341\\\\\n",
       "\t Panama             & PAN & Latin America and Caribbean  & 1973 & 1090 & 0.05936316\\\\\n",
       "\t Austria            & AUT & Europe and Central Asia      & 1973 & 3580 & 0.05945827\\\\\n",
       "\t Spain              & ESP & Europe and Central Asia      & 1973 & 2090 & 0.05989843\\\\\n",
       "\t India              & IND & South Asia                   & 1973 &  140 & 0.06041742\\\\\n",
       "\t Luxembourg         & LUX & Europe and Central Asia      & 1973 & 5200 & 0.06048978\\\\\n",
       "\t Guyana             & GUY & Latin America and Caribbean  & 1973 &  430 & 0.06081611\\\\\n",
       "\t Turkey             & TUR & Europe and Central Asia      & 1973 &  640 & 0.06085322\\\\\n",
       "\t Nepal              & NPL & South Asia                   & 1973 &   80 & 0.06101924\\\\\n",
       "\t Saudi Arabia       & SAU & Middle East and North Africa & 1973 & 1510 & 0.06117150\\\\\n",
       "\t Dominican Republic & DOM & Latin America and Caribbean  & 1973 &  520 & 0.06119311\\\\\n",
       "\t Norway             & NOR & Europe and Central Asia      & 1973 & 5320 & 0.06138597\\\\\n",
       "\t Costa Rica         & CRI & Latin America and Caribbean  & 1973 &  750 & 0.06220402\\\\\n",
       "\t Uruguay            & URY & Latin America and Caribbean  & 1973 & 1050 & 0.06393879\\\\\n",
       "\t Botswana           & BWA & Sub-Saharan Africa           & 1973 &  370 & 0.06474573\\\\\n",
       "\t Malaysia           & MYS & East Asia and Pacific        & 1973 &  600 & 0.06519072\\\\\n",
       "\t Bangladesh         & BGD & South Asia                   & 1973 &  120 & 0.06538012\\\\\n",
       "\t Sri Lanka          & LKA & South Asia                   & 1973 &  210 & 0.06740225\\\\\n",
       "\t Malta              & MLT & Middle East and North Africa & 1973 & 1260 & 0.07085085\\\\\n",
       "\t Ireland            & IRL & Europe and Central Asia      & 1973 & 2540 & 0.07250766\\\\\n",
       "\t Seychelles         & SYC & Sub-Saharan Africa           & 1973 &  630 & 0.07305241\\\\\n",
       "\t Thailand           & THA & East Asia and Pacific        & 1973 &  270 & 0.07359540\\\\\n",
       "\t Saint Vincent      & VCT & Latin America and Caribbean  & 1973 &  280 & 0.07740081\\\\\n",
       "\t Singapore          & SGP & East Asia and Pacific        & 1973 & 1600 & 0.08154596\\\\\n",
       "\t Indonesia          & IDN & East Asia and Pacific        & 1973 &  110 & 0.08166142\\\\\n",
       "\t Oman               & OMN & Middle East and North Africa & 1973 &  340 & 0.08986721\\\\\n",
       "\t China              & CHN & East Asia and Pacific        & 1973 &  160 & 0.09478566\\\\\n",
       "\t Myanmar            & MMR & East Asia and Pacific        & 1973 &   20 & 0.09499254\\\\\n",
       "\t South Korea        & KOR & East Asia and Pacific        & 1973 &  430 & 0.09954694\\\\\n",
       "\\end{tabular}\n"
      ],
      "text/markdown": [
       "\n",
       "A grouped_df: 97 × 6\n",
       "\n",
       "| Country &lt;fct&gt; | Code &lt;fct&gt; | Region &lt;fct&gt; | Year &lt;dbl&gt; | rGNIpc &lt;dbl&gt; | rGNIpc.gr &lt;dbl&gt; |\n",
       "|---|---|---|---|---|---|\n",
       "| Madagascar               | MDG | Sub-Saharan Africa           | 1973 |  210 | 0.01947644 |\n",
       "| Sierra Leone             | SLE | Sub-Saharan Africa           | 1973 |  190 | 0.02212834 |\n",
       "| Zimbabwe                 | ZWE | Sub-Saharan Africa           | 1973 |  520 | 0.02254361 |\n",
       "| Burundi                  | BDI | Sub-Saharan Africa           | 1973 |   80 | 0.02322322 |\n",
       "| Zambia                   | ZMB | Sub-Saharan Africa           | 1973 |  450 | 0.02482067 |\n",
       "| Somalia                  | SOM | Sub-Saharan Africa           | 1973 |  120 | 0.02707003 |\n",
       "| Central African Republic | CAF | Sub-Saharan Africa           | 1973 |  120 | 0.03012397 |\n",
       "| Niger                    | NER | Sub-Saharan Africa           | 1973 |  150 | 0.03021906 |\n",
       "| Togo                     | TGO | Sub-Saharan Africa           | 1973 |  220 | 0.03059554 |\n",
       "| Senegal                  | SEN | Sub-Saharan Africa           | 1973 |  360 | 0.03090462 |\n",
       "| Chad                     | TCD | Sub-Saharan Africa           | 1973 |  160 | 0.03228225 |\n",
       "| Guinea-Bissau            | GNB | Sub-Saharan Africa           | 1973 |  160 | 0.03503723 |\n",
       "| Nicaragua                | NIC | Latin America and Caribbean  | 1973 |  380 | 0.03536884 |\n",
       "| Mauritania               | MRT | Sub-Saharan Africa           | 1973 |  350 | 0.03611597 |\n",
       "| Sudan                    | SDN | Sub-Saharan Africa           | 1973 |  180 | 0.03658651 |\n",
       "| Jamaica                  | JAM | Latin America and Caribbean  | 1973 | 1030 | 0.03708839 |\n",
       "| South Africa             | ZAF | Sub-Saharan Africa           | 1973 | 1250 | 0.03727423 |\n",
       "| Gambia                   | GMB | Sub-Saharan Africa           | 1973 |  130 | 0.03727681 |\n",
       "| Iran                     | IRN | Middle East and North Africa | 1973 |  720 | 0.03798177 |\n",
       "| Argentina                | ARG | Latin America and Caribbean  | 1973 | 1820 | 0.04033260 |\n",
       "| Republic of Congo        | COG | Sub-Saharan Africa           | 1973 |  320 | 0.04041559 |\n",
       "| Ivory Coast              | CIV | Sub-Saharan Africa           | 1973 |  360 | 0.04094262 |\n",
       "| Papua New Guinea         | PNG | East Asia and Pacific        | 1973 |  390 | 0.04130621 |\n",
       "| Burkina Faso             | BFA | Sub-Saharan Africa           | 1973 |  110 | 0.04261323 |\n",
       "| Cameroon                 | CMR | Sub-Saharan Africa           | 1973 |  220 | 0.04320989 |\n",
       "| Algeria                  | DZA | Middle East and North Africa | 1973 |  570 | 0.04354844 |\n",
       "| Ghana                    | GHA | Sub-Saharan Africa           | 1973 |  290 | 0.04451318 |\n",
       "| Honduras                 | HND | Latin America and Caribbean  | 1973 |  310 | 0.04482451 |\n",
       "| Gabon                    | GAB | Sub-Saharan Africa           | 1973 |  890 | 0.04569308 |\n",
       "| Tunisia                  | TUN | Middle East and North Africa | 1973 |  450 | 0.04586038 |\n",
       "| ⋮ | ⋮ | ⋮ | ⋮ | ⋮ | ⋮ |\n",
       "| Portugal           | PRT | Europe and Central Asia      | 1973 | 1700 | 0.05846076 |\n",
       "| Colombia           | COL | Latin America and Caribbean  | 1973 |  470 | 0.05908341 |\n",
       "| Panama             | PAN | Latin America and Caribbean  | 1973 | 1090 | 0.05936316 |\n",
       "| Austria            | AUT | Europe and Central Asia      | 1973 | 3580 | 0.05945827 |\n",
       "| Spain              | ESP | Europe and Central Asia      | 1973 | 2090 | 0.05989843 |\n",
       "| India              | IND | South Asia                   | 1973 |  140 | 0.06041742 |\n",
       "| Luxembourg         | LUX | Europe and Central Asia      | 1973 | 5200 | 0.06048978 |\n",
       "| Guyana             | GUY | Latin America and Caribbean  | 1973 |  430 | 0.06081611 |\n",
       "| Turkey             | TUR | Europe and Central Asia      | 1973 |  640 | 0.06085322 |\n",
       "| Nepal              | NPL | South Asia                   | 1973 |   80 | 0.06101924 |\n",
       "| Saudi Arabia       | SAU | Middle East and North Africa | 1973 | 1510 | 0.06117150 |\n",
       "| Dominican Republic | DOM | Latin America and Caribbean  | 1973 |  520 | 0.06119311 |\n",
       "| Norway             | NOR | Europe and Central Asia      | 1973 | 5320 | 0.06138597 |\n",
       "| Costa Rica         | CRI | Latin America and Caribbean  | 1973 |  750 | 0.06220402 |\n",
       "| Uruguay            | URY | Latin America and Caribbean  | 1973 | 1050 | 0.06393879 |\n",
       "| Botswana           | BWA | Sub-Saharan Africa           | 1973 |  370 | 0.06474573 |\n",
       "| Malaysia           | MYS | East Asia and Pacific        | 1973 |  600 | 0.06519072 |\n",
       "| Bangladesh         | BGD | South Asia                   | 1973 |  120 | 0.06538012 |\n",
       "| Sri Lanka          | LKA | South Asia                   | 1973 |  210 | 0.06740225 |\n",
       "| Malta              | MLT | Middle East and North Africa | 1973 | 1260 | 0.07085085 |\n",
       "| Ireland            | IRL | Europe and Central Asia      | 1973 | 2540 | 0.07250766 |\n",
       "| Seychelles         | SYC | Sub-Saharan Africa           | 1973 |  630 | 0.07305241 |\n",
       "| Thailand           | THA | East Asia and Pacific        | 1973 |  270 | 0.07359540 |\n",
       "| Saint Vincent      | VCT | Latin America and Caribbean  | 1973 |  280 | 0.07740081 |\n",
       "| Singapore          | SGP | East Asia and Pacific        | 1973 | 1600 | 0.08154596 |\n",
       "| Indonesia          | IDN | East Asia and Pacific        | 1973 |  110 | 0.08166142 |\n",
       "| Oman               | OMN | Middle East and North Africa | 1973 |  340 | 0.08986721 |\n",
       "| China              | CHN | East Asia and Pacific        | 1973 |  160 | 0.09478566 |\n",
       "| Myanmar            | MMR | East Asia and Pacific        | 1973 |   20 | 0.09499254 |\n",
       "| South Korea        | KOR | East Asia and Pacific        | 1973 |  430 | 0.09954694 |\n",
       "\n"
      ],
      "text/plain": [
       "   Country                  Code Region                       Year rGNIpc\n",
       "1  Madagascar               MDG  Sub-Saharan Africa           1973  210  \n",
       "2  Sierra Leone             SLE  Sub-Saharan Africa           1973  190  \n",
       "3  Zimbabwe                 ZWE  Sub-Saharan Africa           1973  520  \n",
       "4  Burundi                  BDI  Sub-Saharan Africa           1973   80  \n",
       "5  Zambia                   ZMB  Sub-Saharan Africa           1973  450  \n",
       "6  Somalia                  SOM  Sub-Saharan Africa           1973  120  \n",
       "7  Central African Republic CAF  Sub-Saharan Africa           1973  120  \n",
       "8  Niger                    NER  Sub-Saharan Africa           1973  150  \n",
       "9  Togo                     TGO  Sub-Saharan Africa           1973  220  \n",
       "10 Senegal                  SEN  Sub-Saharan Africa           1973  360  \n",
       "11 Chad                     TCD  Sub-Saharan Africa           1973  160  \n",
       "12 Guinea-Bissau            GNB  Sub-Saharan Africa           1973  160  \n",
       "13 Nicaragua                NIC  Latin America and Caribbean  1973  380  \n",
       "14 Mauritania               MRT  Sub-Saharan Africa           1973  350  \n",
       "15 Sudan                    SDN  Sub-Saharan Africa           1973  180  \n",
       "16 Jamaica                  JAM  Latin America and Caribbean  1973 1030  \n",
       "17 South Africa             ZAF  Sub-Saharan Africa           1973 1250  \n",
       "18 Gambia                   GMB  Sub-Saharan Africa           1973  130  \n",
       "19 Iran                     IRN  Middle East and North Africa 1973  720  \n",
       "20 Argentina                ARG  Latin America and Caribbean  1973 1820  \n",
       "21 Republic of Congo        COG  Sub-Saharan Africa           1973  320  \n",
       "22 Ivory Coast              CIV  Sub-Saharan Africa           1973  360  \n",
       "23 Papua New Guinea         PNG  East Asia and Pacific        1973  390  \n",
       "24 Burkina Faso             BFA  Sub-Saharan Africa           1973  110  \n",
       "25 Cameroon                 CMR  Sub-Saharan Africa           1973  220  \n",
       "26 Algeria                  DZA  Middle East and North Africa 1973  570  \n",
       "27 Ghana                    GHA  Sub-Saharan Africa           1973  290  \n",
       "28 Honduras                 HND  Latin America and Caribbean  1973  310  \n",
       "29 Gabon                    GAB  Sub-Saharan Africa           1973  890  \n",
       "30 Tunisia                  TUN  Middle East and North Africa 1973  450  \n",
       "⋮  ⋮                        ⋮    ⋮                            ⋮    ⋮     \n",
       "68 Portugal                 PRT  Europe and Central Asia      1973 1700  \n",
       "69 Colombia                 COL  Latin America and Caribbean  1973  470  \n",
       "70 Panama                   PAN  Latin America and Caribbean  1973 1090  \n",
       "71 Austria                  AUT  Europe and Central Asia      1973 3580  \n",
       "72 Spain                    ESP  Europe and Central Asia      1973 2090  \n",
       "73 India                    IND  South Asia                   1973  140  \n",
       "74 Luxembourg               LUX  Europe and Central Asia      1973 5200  \n",
       "75 Guyana                   GUY  Latin America and Caribbean  1973  430  \n",
       "76 Turkey                   TUR  Europe and Central Asia      1973  640  \n",
       "77 Nepal                    NPL  South Asia                   1973   80  \n",
       "78 Saudi Arabia             SAU  Middle East and North Africa 1973 1510  \n",
       "79 Dominican Republic       DOM  Latin America and Caribbean  1973  520  \n",
       "80 Norway                   NOR  Europe and Central Asia      1973 5320  \n",
       "81 Costa Rica               CRI  Latin America and Caribbean  1973  750  \n",
       "82 Uruguay                  URY  Latin America and Caribbean  1973 1050  \n",
       "83 Botswana                 BWA  Sub-Saharan Africa           1973  370  \n",
       "84 Malaysia                 MYS  East Asia and Pacific        1973  600  \n",
       "85 Bangladesh               BGD  South Asia                   1973  120  \n",
       "86 Sri Lanka                LKA  South Asia                   1973  210  \n",
       "87 Malta                    MLT  Middle East and North Africa 1973 1260  \n",
       "88 Ireland                  IRL  Europe and Central Asia      1973 2540  \n",
       "89 Seychelles               SYC  Sub-Saharan Africa           1973  630  \n",
       "90 Thailand                 THA  East Asia and Pacific        1973  270  \n",
       "91 Saint Vincent            VCT  Latin America and Caribbean  1973  280  \n",
       "92 Singapore                SGP  East Asia and Pacific        1973 1600  \n",
       "93 Indonesia                IDN  East Asia and Pacific        1973  110  \n",
       "94 Oman                     OMN  Middle East and North Africa 1973  340  \n",
       "95 China                    CHN  East Asia and Pacific        1973  160  \n",
       "96 Myanmar                  MMR  East Asia and Pacific        1973   20  \n",
       "97 South Korea              KOR  East Asia and Pacific        1973  430  \n",
       "   rGNIpc.gr \n",
       "1  0.01947644\n",
       "2  0.02212834\n",
       "3  0.02254361\n",
       "4  0.02322322\n",
       "5  0.02482067\n",
       "6  0.02707003\n",
       "7  0.03012397\n",
       "8  0.03021906\n",
       "9  0.03059554\n",
       "10 0.03090462\n",
       "11 0.03228225\n",
       "12 0.03503723\n",
       "13 0.03536884\n",
       "14 0.03611597\n",
       "15 0.03658651\n",
       "16 0.03708839\n",
       "17 0.03727423\n",
       "18 0.03727681\n",
       "19 0.03798177\n",
       "20 0.04033260\n",
       "21 0.04041559\n",
       "22 0.04094262\n",
       "23 0.04130621\n",
       "24 0.04261323\n",
       "25 0.04320989\n",
       "26 0.04354844\n",
       "27 0.04451318\n",
       "28 0.04482451\n",
       "29 0.04569308\n",
       "30 0.04586038\n",
       "⋮  ⋮         \n",
       "68 0.05846076\n",
       "69 0.05908341\n",
       "70 0.05936316\n",
       "71 0.05945827\n",
       "72 0.05989843\n",
       "73 0.06041742\n",
       "74 0.06048978\n",
       "75 0.06081611\n",
       "76 0.06085322\n",
       "77 0.06101924\n",
       "78 0.06117150\n",
       "79 0.06119311\n",
       "80 0.06138597\n",
       "81 0.06220402\n",
       "82 0.06393879\n",
       "83 0.06474573\n",
       "84 0.06519072\n",
       "85 0.06538012\n",
       "86 0.06740225\n",
       "87 0.07085085\n",
       "88 0.07250766\n",
       "89 0.07305241\n",
       "90 0.07359540\n",
       "91 0.07740081\n",
       "92 0.08154596\n",
       "93 0.08166142\n",
       "94 0.08986721\n",
       "95 0.09478566\n",
       "96 0.09499254\n",
       "97 0.09954694"
      ]
     },
     "metadata": {},
     "output_type": "display_data"
    }
   ],
   "source": [
    "df %>% arrange(rGNIpc.gr)"
   ]
  },
  {
   "cell_type": "markdown",
   "id": "77c67c91",
   "metadata": {
    "lines_to_next_cell": 0
   },
   "source": [
    "While this is a cross section of countries in 1973, it includes information on the growth rate for subsequent decades, summarized in a new variable `rGNIpc.gr`, which was obtained from the full panel dataset.\n",
    "\n",
    "Country differences in average annual growth rates over the period can be observed below:"
   ]
  },
  {
   "cell_type": "code",
   "execution_count": 71,
   "id": "78fd7a1e",
   "metadata": {},
   "outputs": [
    {
     "data": {
      "image/png": "[encoded data removed]",
      "text/plain": [
       "plot without title"
      ]
     },
     "metadata": {
      "image/png": {
       "height": 420,
       "width": 420
      }
     },
     "output_type": "display_data"
    }
   ],
   "source": [
    "ggplot(df,aes(x=rGNIpc.gr,y=fct_reorder(Country,rGNIpc.gr))) +\n",
    "  geom_bar(stat=\"identity\", aes(fill=Region)) +\n",
    "  xlab(\"Average annual growth rate, 1973-2019\") + \n",
    "  ylab(\"Country\") +\n",
    "  labs(title = \"Bar chart\", subtitle=\"Countries ranked by average growth rate of GNI per capita\") + theme(axis.text.y = element_text(size=4))"
   ]
  },
  {
   "cell_type": "markdown",
   "id": "8d7a7b9e",
   "metadata": {
    "lines_to_next_cell": 0
   },
   "source": [
    "We observe that there is a large concentration of countries from Sub-Saharan Africa, Middle East and North Africa, and Latin America and the Caribbean among slowest growing countries.\n",
    "\n",
    "If we now plot initial GNI p.c. (in 1973) against subsequent growth rates we obtain"
   ]
  },
  {
   "cell_type": "code",
   "execution_count": 72,
   "id": "5cf39a3e",
   "metadata": {},
   "outputs": [
    {
     "data": {
      "image/png": "[encoded data removed]",
      "text/plain": [
       "plot without title"
      ]
     },
     "metadata": {
      "image/png": {
       "height": 420,
       "width": 420
      }
     },
     "output_type": "display_data"
    }
   ],
   "source": [
    "ggplot(df,aes(x=log(rGNIpc),y=(rGNIpc.gr), color=Region)) +\n",
    "  geom_point() +\n",
    "  xlab(\"log(GNI per capita, 1973)\") + \n",
    "  ylab(\"Annual growth rate, 1973 - 2019\") +\n",
    "  labs(title = \"Scatter plot\", subtitle=\"Initial per capita income and subsequent growth rates\") \n",
    "\n",
    "#+ facet_wrap(Region~., scales=\"free\")"
   ]
  },
  {
   "cell_type": "markdown",
   "id": "8d5d744a",
   "metadata": {
    "lines_to_next_cell": 0
   },
   "source": [
    "If there was systematic convergence across all countries, we would have observed that higher initial GNI per capita associates with lower subsequent growth rates. However, the graph does not seem to exhibit such pattern. In fact, if we calculate the correlation coefficient between the two variables "
   ]
  },
  {
   "cell_type": "code",
   "execution_count": 73,
   "id": "3fd6e041",
   "metadata": {},
   "outputs": [
    {
     "data": {
      "text/html": [
       "0.0828160989925692"
      ],
      "text/latex": [
       "0.0828160989925692"
      ],
      "text/markdown": [
       "0.0828160989925692"
      ],
      "text/plain": [
       "[1] 0.0828161"
      ]
     },
     "metadata": {},
     "output_type": "display_data"
    }
   ],
   "source": [
    "cor(log(df$rGNIpc),df$rGNIpc.gr)"
   ]
  },
  {
   "cell_type": "markdown",
   "id": "1b3bd5d7",
   "metadata": {
    "lines_to_next_cell": 0
   },
   "source": [
    "it turns out that the association between the two are in fact positive even if small. In the sample of 97 countries we work with, countries with high GNI per capita in 1973, also tended to grow faster on average during 1973-2019. If anything, we observe divergence, rather than convergence. \n",
    "\n",
    "One aspect of this is that countries from Sub-Saharan Africa, Middle East and North Africa, and Latin America and Caribbean tend to be found in the bottom left quadrant of the graph. If we were to plot excluding these three regions"
   ]
  },
  {
   "cell_type": "code",
   "execution_count": 74,
   "id": "ad41a383",
   "metadata": {},
   "outputs": [
    {
     "data": {
      "image/png": "[encoded data removed]",
      "text/plain": [
       "plot without title"
      ]
     },
     "metadata": {
      "image/png": {
       "height": 420,
       "width": 420
      }
     },
     "output_type": "display_data"
    }
   ],
   "source": [
    "df2 <- subset(df, Region!=\"Sub-Saharan Africa\"&Region !=\"Middle East and North Africa\"&Region !=\"Latin America and Caribbean\")\n",
    "\n",
    "ggplot(df2,aes(x=log(rGNIpc),y=(rGNIpc.gr), color=Region)) +\n",
    "  geom_point() +\n",
    "  xlab(\"log(GNI per capita, 1973)\") + \n",
    "  ylab(\"Annual growth rate, 1973 - 2019\") +\n",
    "  labs(title = \"Scatter plot\", subtitle=\"Initial per capita income and subsequent growth rates\") \n",
    "\n",
    "\n",
    "#+ facet_wrap(Region~., scales=\"free\")"
   ]
  },
  {
   "cell_type": "markdown",
   "id": "e48c3ca1",
   "metadata": {
    "lines_to_next_cell": 0
   },
   "source": [
    "we observe relationship that appears to be indeed negative. Calculating the correlation coefficient"
   ]
  },
  {
   "cell_type": "code",
   "execution_count": 75,
   "id": "105030f1",
   "metadata": {
    "lines_to_next_cell": 0
   },
   "outputs": [
    {
     "data": {
      "text/html": [
       "-0.544570009344032"
      ],
      "text/latex": [
       "-0.544570009344032"
      ],
      "text/markdown": [
       "-0.544570009344032"
      ],
      "text/plain": [
       "[1] -0.54457"
      ]
     },
     "metadata": {},
     "output_type": "display_data"
    }
   ],
   "source": [
    "cor(log(df2$rGNIpc),df2$rGNIpc.gr)"
   ]
  },
  {
   "cell_type": "markdown",
   "id": "1a9c51aa",
   "metadata": {},
   "source": [
    "confirms that the association is negative and stronger than before (in terms of the magnitude of the coefficient). Nonetheless, it is also clear that even in the final subset of the data (which was in any case obtained somewhat arbitrarily) countries of similar initial income tend to have quite different growth experiences over time.\n",
    "\n",
    "Understanding the reasons for the obseved convergence between countries (and the observed lack of convergence for some) is beyond the scope of this discussion, but is something you will return to during your course."
   ]
  }
 ],
 "metadata": {
  "jupytext": {
   "cell_metadata_filter": "warning,tags,eval,message,name,-all",
   "main_language": "R",
   "notebook_metadata_filter": "-all"
  },
  "kernelspec": {
   "display_name": "R",
   "language": "R",
   "name": "ir"
  },
  "language_info": {
   "codemirror_mode": "r",
   "file_extension": ".r",
   "mimetype": "text/x-r-source",
   "name": "R",
   "pygments_lexer": "r",
   "version": "4.2.3"
  }
 },
 "nbformat": 4,
 "nbformat_minor": 5
}
